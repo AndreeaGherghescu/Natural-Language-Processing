{
 "cells": [
  {
   "cell_type": "code",
   "source": [
    "# import os\n",
    "# os.chdir(\"/content/drive/MyDrive/NLP/lab_2\")"
   ],
   "metadata": {
    "id": "tiIX__CP5OE1",
    "executionInfo": {
     "status": "ok",
     "timestamp": 1677626795527,
     "user_tz": -120,
     "elapsed": 6,
     "user": {
      "displayName": "MIRUNA-ANDREEA ZAVELCA",
      "userId": "12692883064275182332"
     }
    }
   },
   "execution_count": 2,
   "outputs": []
  },
  {
   "cell_type": "markdown",
   "metadata": {
    "id": "-X1jyzr2-0CU"
   },
   "source": [
    "## Lab 2. Text Normalization (cleaning)"
   ]
  },
  {
   "cell_type": "markdown",
   "metadata": {
    "id": "7N56fAnP_Y5q"
   },
   "source": [
    "În funcție de task-ul pe care îl avem de realizat, putem alege una sau mai multe modalități de curățare a textului:\n",
    "- Transformarea textului în litere mici\n",
    "- Eliminarea cifrelor și numerelor (sau transformarea lor în cuvinte)\n",
    "- Eliminarea link-urilor\n",
    "- Eliminarea emoticoanelor ( :) :D) și a emoji-urilor (💙 🐱)\n",
    "- Eliminarea punctuației\n",
    "- Eliminarea stopwords\n",
    "- Stemming/Lematizare\n",
    "- Tokenizare"
   ]
  },
  {
   "cell_type": "markdown",
   "metadata": {
    "id": "MB3R1dTTAxfH"
   },
   "source": [
    "Vom folosi setul de date `twitter_samples` din `nltk` (https://www.nltk.org/), care conține tweeturi pozitive și negative. Vom folosi mai departe doar tweeturile pozitive.\n",
    "\n"
   ]
  },
  {
   "cell_type": "code",
   "execution_count": null,
   "metadata": {
    "colab": {
     "base_uri": "https://localhost:8080/"
    },
    "id": "D9IhXFIGB0DT",
    "outputId": "79c44be2-f1f2-4a85-bc46-b4973f927850",
    "executionInfo": {
     "status": "ok",
     "timestamp": 1677626809407,
     "user_tz": -120,
     "elapsed": 3345,
     "user": {
      "displayName": "MIRUNA-ANDREEA ZAVELCA",
      "userId": "12692883064275182332"
     }
    },
    "pycharm": {
     "is_executing": true
    }
   },
   "outputs": [],
   "source": [
    "import nltk\n",
    "nltk.download('twitter_samples')"
   ]
  },
  {
   "cell_type": "code",
   "execution_count": null,
   "outputs": [],
   "source": [
    "print(\"1\")"
   ],
   "metadata": {
    "collapsed": false,
    "pycharm": {
     "is_executing": true
    }
   }
  },
  {
   "cell_type": "code",
   "execution_count": null,
   "metadata": {
    "colab": {
     "base_uri": "https://localhost:8080/"
    },
    "id": "sf12x8hR-fJH",
    "outputId": "c0a3d6a7-3b37-4189-8098-6a7c4abbc32b",
    "executionInfo": {
     "status": "ok",
     "timestamp": 1677626810066,
     "user_tz": -120,
     "elapsed": 666,
     "user": {
      "displayName": "MIRUNA-ANDREEA ZAVELCA",
      "userId": "12692883064275182332"
     }
    },
    "pycharm": {
     "is_executing": true
    }
   },
   "outputs": [],
   "source": [
    "from nltk.corpus import twitter_samples\n",
    "tweets = twitter_samples.strings('positive_tweets.json')\n",
    "tweets = tweets[500:520]\n",
    "print(tweets)"
   ]
  },
  {
   "cell_type": "markdown",
   "metadata": {
    "id": "ssjEnSunB6M-"
   },
   "source": [
    "### Transformarea textului în litere mici"
   ]
  },
  {
   "cell_type": "code",
   "execution_count": 5,
   "metadata": {
    "colab": {
     "base_uri": "https://localhost:8080/"
    },
    "id": "Pb1BgZksCvof",
    "outputId": "930bb80a-c42f-4a2f-d3d2-36b46dfb5704",
    "executionInfo": {
     "status": "ok",
     "timestamp": 1677626812756,
     "user_tz": -120,
     "elapsed": 252,
     "user": {
      "displayName": "MIRUNA-ANDREEA ZAVELCA",
      "userId": "12692883064275182332"
     }
    }
   },
   "outputs": [
    {
     "output_type": "execute_result",
     "data": {
      "text/plain": [
       "['dang that is some rad @abzugame #fanart! :d https://t.co/bi8k8tb9ht',\n",
       " '@hardcoregooners @tashagunners @kirstyburns3 @aprilburton21 @liztc2 @miss_boots1 @zannatur @nativenoddy @natg_22 @ms_t_p cheers #tgif :-)',\n",
       " 'massive congrats to niamh fennell here :)  journalism graduate lands dream job copying &amp; pasting tweets http://t.co/3db8bj5trk',\n",
       " '@ice_crystal @elbow @meatbingo @govindajeggy thank you! :)',\n",
       " 'stats for the day have arrived. 5 new followers and no unfollowers :) via http://t.co/kfqcxzsvot.',\n",
       " '@mrkennyt90 yesss i am thank you :d',\n",
       " 'i have ariana grande selena gomez louis tomlinson rita  liam payne \\ncaradelevingne 🌷i trade solo dm :)',\n",
       " '@domsequitur tired. but fine :) you??',\n",
       " '@ohvdqohcdjroc nope you can definitely still apply for this year if you want to :d #iamca',\n",
       " '@ashleylynch @wetsprocket ah, found it, thanks :)',\n",
       " '@boyfi_mw aftie :p',\n",
       " 'goodmorning :)',\n",
       " '@annemorbs  follow @jnlazts &amp; http://t.co/rcvcyyo0iq follow u back :)',\n",
       " '@bjoernknafla @s_whiteant that’s exactly the look i’m going for :d',\n",
       " '#prokabaddi koel mallick @yourkoel recites the \"national anthem\" for @starsportsindia on day-6!!:) http://t.co/orqau4pvvz',\n",
       " '#yournaturalleaders and #youngnaturalleaders\\nmon27july #cumbria uk :) @yournaturallead \\n\\n&amp; #flockstars thur30july itv\\nhttp://t.co/lyxdibyo2o',\n",
       " 'for most of you it is #goodmorning but for me it is #goodnight...\\n#sleeptight for me and #haveagoodday for you!  :)',\n",
       " 'only one leg on september. so perhaps bb will promote the full album on september :d\\nhttp://t.co/zv1hdzb7nm',\n",
       " 'i still fully intend to write as many game designs as possible while there. and an attack plan for the next 6 months. &gt;:d',\n",
       " 'to all the birds out there, come here and join us for a little fun :) #teamadmicro http://t.co/35ezmlw16u']"
      ]
     },
     "metadata": {},
     "execution_count": 5
    }
   ],
   "source": [
    "tweets_lower = [tweet.lower() for tweet in tweets]\n",
    "tweets_lower"
   ]
  },
  {
   "cell_type": "markdown",
   "metadata": {
    "id": "N7XWK416Cuv5"
   },
   "source": [
    "### Eliminarea cifrelor și numerelor (sau transformarea lor în cuvinte)"
   ]
  },
  {
   "cell_type": "markdown",
   "metadata": {
    "id": "XDcI3R7fD-ys"
   },
   "source": [
    "Eliminarea cifrelor folosind regex `re`"
   ]
  },
  {
   "cell_type": "code",
   "execution_count": 6,
   "metadata": {
    "colab": {
     "base_uri": "https://localhost:8080/"
    },
    "id": "u8TXNqflDN5O",
    "outputId": "9e1c9559-cf19-40de-a43a-8e13cce34c08",
    "executionInfo": {
     "status": "ok",
     "timestamp": 1677626818938,
     "user_tz": -120,
     "elapsed": 241,
     "user": {
      "displayName": "MIRUNA-ANDREEA ZAVELCA",
      "userId": "12692883064275182332"
     }
    }
   },
   "outputs": [
    {
     "output_type": "execute_result",
     "data": {
      "text/plain": [
       "['dang that is some rad @abzugame #fanart! :d https://t.co/biktbht',\n",
       " '@hardcoregooners @tashagunners @kirstyburns @aprilburton @liztc @miss_boots @zannatur @nativenoddy @natg_ @ms_t_p cheers #tgif :-)',\n",
       " 'massive congrats to niamh fennell here :)  journalism graduate lands dream job copying &amp; pasting tweets http://t.co/dbbjtrk',\n",
       " '@ice_crystal @elbow @meatbingo @govindajeggy thank you! :)',\n",
       " 'stats for the day have arrived.  new followers and no unfollowers :) via http://t.co/kfqcxzsvot.',\n",
       " '@mrkennyt yesss i am thank you :d',\n",
       " 'i have ariana grande selena gomez louis tomlinson rita  liam payne \\ncaradelevingne 🌷i trade solo dm :)',\n",
       " '@domsequitur tired. but fine :) you??',\n",
       " '@ohvdqohcdjroc nope you can definitely still apply for this year if you want to :d #iamca',\n",
       " '@ashleylynch @wetsprocket ah, found it, thanks :)',\n",
       " '@boyfi_mw aftie :p',\n",
       " 'goodmorning :)',\n",
       " '@annemorbs  follow @jnlazts &amp; http://t.co/rcvcyyoiq follow u back :)',\n",
       " '@bjoernknafla @s_whiteant that’s exactly the look i’m going for :d',\n",
       " '#prokabaddi koel mallick @yourkoel recites the \"national anthem\" for @starsportsindia on day-!!:) http://t.co/orqaupvvz',\n",
       " '#yournaturalleaders and #youngnaturalleaders\\nmonjuly #cumbria uk :) @yournaturallead \\n\\n&amp; #flockstars thurjuly itv\\nhttp://t.co/lyxdibyoo',\n",
       " 'for most of you it is #goodmorning but for me it is #goodnight...\\n#sleeptight for me and #haveagoodday for you!  :)',\n",
       " 'only one leg on september. so perhaps bb will promote the full album on september :d\\nhttp://t.co/zvhdzbnm',\n",
       " 'i still fully intend to write as many game designs as possible while there. and an attack plan for the next  months. &gt;:d',\n",
       " 'to all the birds out there, come here and join us for a little fun :) #teamadmicro http://t.co/ezmlwu']"
      ]
     },
     "metadata": {},
     "execution_count": 6
    }
   ],
   "source": [
    "import re\n",
    "\n",
    "tweets_no_digits = [re.sub(r'\\d+', '', tweet) for tweet in tweets_lower]\n",
    "tweets_no_digits"
   ]
  },
  {
   "cell_type": "markdown",
   "metadata": {
    "id": "zvGx46VNEqfg"
   },
   "source": [
    "Convertirea cifrelor în cuvinte folosind `num2words`"
   ]
  },
  {
   "cell_type": "code",
   "execution_count": null,
   "metadata": {
    "id": "ls6HyuBnEOxP",
    "colab": {
     "base_uri": "https://localhost:8080/"
    },
    "executionInfo": {
     "status": "ok",
     "timestamp": 1677626830959,
     "user_tz": -120,
     "elapsed": 5357,
     "user": {
      "displayName": "MIRUNA-ANDREEA ZAVELCA",
      "userId": "12692883064275182332"
     }
    },
    "outputId": "29bf9bdc-a038-4258-d776-af29f06e21c9",
    "pycharm": {
     "is_executing": true
    }
   },
   "outputs": [],
   "source": [
    "! pip install num2words"
   ]
  },
  {
   "cell_type": "code",
   "execution_count": 8,
   "metadata": {
    "colab": {
     "base_uri": "https://localhost:8080/"
    },
    "id": "JDnBiJAHE1Y-",
    "outputId": "466d07fa-ea87-402a-d135-584e622045c6",
    "executionInfo": {
     "status": "ok",
     "timestamp": 1677626830960,
     "user_tz": -120,
     "elapsed": 23,
     "user": {
      "displayName": "MIRUNA-ANDREEA ZAVELCA",
      "userId": "12692883064275182332"
     }
    }
   },
   "outputs": [
    {
     "output_type": "execute_result",
     "data": {
      "text/plain": [
       "['dang that is some rad @abzugame #fanart! :d https://t.co/bi8k8tb9ht',\n",
       " '@hardcoregooners @tashagunners @kirstyburns3 @aprilburton21 @liztc2 @miss_boots1 @zannatur @nativenoddy @natg_22 @ms_t_p cheers #tgif :-)',\n",
       " 'massive congrats to niamh fennell here :) journalism graduate lands dream job copying &amp; pasting tweets http://t.co/3db8bj5trk',\n",
       " '@ice_crystal @elbow @meatbingo @govindajeggy thank you! :)',\n",
       " 'stats for the day have arrived. five new followers and no unfollowers :) via http://t.co/kfqcxzsvot.',\n",
       " '@mrkennyt90 yesss i am thank you :d',\n",
       " 'i have ariana grande selena gomez louis tomlinson rita liam payne caradelevingne 🌷i trade solo dm :)',\n",
       " '@domsequitur tired. but fine :) you??',\n",
       " '@ohvdqohcdjroc nope you can definitely still apply for this year if you want to :d #iamca',\n",
       " '@ashleylynch @wetsprocket ah, found it, thanks :)',\n",
       " '@boyfi_mw aftie :p',\n",
       " 'goodmorning :)',\n",
       " '@annemorbs follow @jnlazts &amp; http://t.co/rcvcyyo0iq follow u back :)',\n",
       " '@bjoernknafla @s_whiteant that’s exactly the look i’m going for :d',\n",
       " '#prokabaddi koel mallick @yourkoel recites the \"national anthem\" for @starsportsindia on day-6!!:) http://t.co/orqau4pvvz',\n",
       " '#yournaturalleaders and #youngnaturalleaders mon27july #cumbria uk :) @yournaturallead &amp; #flockstars thur30july itv http://t.co/lyxdibyo2o',\n",
       " 'for most of you it is #goodmorning but for me it is #goodnight... #sleeptight for me and #haveagoodday for you! :)',\n",
       " 'only one leg on september. so perhaps bb will promote the full album on september :d http://t.co/zv1hdzb7nm',\n",
       " 'i still fully intend to write as many game designs as possible while there. and an attack plan for the next six months. &gt;:d',\n",
       " 'to all the birds out there, come here and join us for a little fun :) #teamadmicro http://t.co/35ezmlw16u']"
      ]
     },
     "metadata": {},
     "execution_count": 8
    }
   ],
   "source": [
    "from num2words import num2words\n",
    "\n",
    "tweets_num2words = []\n",
    "for tweet in tweets_lower:\n",
    "    tweets_num2words.append(' '.join([num2words(word) if word.isdigit() else word for word in tweet.split()]))\n",
    "\n",
    "tweets_num2words"
   ]
  },
  {
   "cell_type": "markdown",
   "metadata": {
    "id": "Wh-Y021CI2uJ"
   },
   "source": [
    "### Eliminarea link-urilor"
   ]
  },
  {
   "cell_type": "code",
   "execution_count": 9,
   "metadata": {
    "colab": {
     "base_uri": "https://localhost:8080/"
    },
    "id": "inao55xqFz21",
    "outputId": "cc6a6ab7-2e32-4e9e-8012-a69cb18fa85a",
    "executionInfo": {
     "status": "ok",
     "timestamp": 1677626833490,
     "user_tz": -120,
     "elapsed": 245,
     "user": {
      "displayName": "MIRUNA-ANDREEA ZAVELCA",
      "userId": "12692883064275182332"
     }
    }
   },
   "outputs": [
    {
     "output_type": "execute_result",
     "data": {
      "text/plain": [
       "['dang that is some rad @abzugame #fanart! :d ',\n",
       " '@hardcoregooners @tashagunners @kirstyburns @aprilburton @liztc @miss_boots @zannatur @nativenoddy @natg_ @ms_t_p cheers #tgif :-)',\n",
       " 'massive congrats to niamh fennell here :)  journalism graduate lands dream job copying &amp; pasting tweets ',\n",
       " '@ice_crystal @elbow @meatbingo @govindajeggy thank you! :)',\n",
       " 'stats for the day have arrived.  new followers and no unfollowers :) via ',\n",
       " '@mrkennyt yesss i am thank you :d',\n",
       " 'i have ariana grande selena gomez louis tomlinson rita  liam payne \\ncaradelevingne 🌷i trade solo dm :)',\n",
       " '@domsequitur tired. but fine :) you??',\n",
       " '@ohvdqohcdjroc nope you can definitely still apply for this year if you want to :d #iamca',\n",
       " '@ashleylynch @wetsprocket ah, found it, thanks :)',\n",
       " '@boyfi_mw aftie :p',\n",
       " 'goodmorning :)',\n",
       " '@annemorbs  follow @jnlazts &amp;  follow u back :)',\n",
       " '@bjoernknafla @s_whiteant that’s exactly the look i’m going for :d',\n",
       " '#prokabaddi koel mallick @yourkoel recites the \"national anthem\" for @starsportsindia on day-!!:) ',\n",
       " '#yournaturalleaders and #youngnaturalleaders\\nmonjuly #cumbria uk :) @yournaturallead \\n\\n&amp; #flockstars thurjuly itv\\n',\n",
       " 'for most of you it is #goodmorning but for me it is #goodnight...\\n#sleeptight for me and #haveagoodday for you!  :)',\n",
       " 'only one leg on september. so perhaps bb will promote the full album on september :d\\n',\n",
       " 'i still fully intend to write as many game designs as possible while there. and an attack plan for the next  months. &gt;:d',\n",
       " 'to all the birds out there, come here and join us for a little fun :) #teamadmicro ']"
      ]
     },
     "metadata": {},
     "execution_count": 9
    }
   ],
   "source": [
    "tweets_no_links = [re.sub(r'http\\S+', '', tweet) for tweet in tweets_no_digits]\n",
    "tweets_no_links"
   ]
  },
  {
   "cell_type": "markdown",
   "metadata": {
    "id": "jh64SAwgJWWC"
   },
   "source": [
    "### Eliminarea emoticoanelor ( :) :D) și a emoji-urilor (💙 🐱)"
   ]
  },
  {
   "cell_type": "markdown",
   "metadata": {
    "id": "xaviYAToJkYQ"
   },
   "source": [
    "Eliminarea emoticoanelor folosind regexul din [ nltk Twitter Tokenizer](https://github.com/nltk/nltk/blob/develop/nltk/tokenize/casual.py)"
   ]
  },
  {
   "cell_type": "code",
   "execution_count": 10,
   "metadata": {
    "colab": {
     "base_uri": "https://localhost:8080/"
    },
    "id": "x8_oVbzhJNnx",
    "outputId": "8d73618d-f6d7-4101-f785-f0cc87c65a28",
    "executionInfo": {
     "status": "ok",
     "timestamp": 1677626837219,
     "user_tz": -120,
     "elapsed": 227,
     "user": {
      "displayName": "MIRUNA-ANDREEA ZAVELCA",
      "userId": "12692883064275182332"
     }
    }
   },
   "outputs": [
    {
     "output_type": "execute_result",
     "data": {
      "text/plain": [
       "['dang that is some rad @abzugame #fanart!  ',\n",
       " '@hardcoregooners @tashagunners @kirstyburns @aprilburton @liztc @miss_boots @zannatur @nativenoddy @natg_ @ms_t_p cheers #tgif ',\n",
       " 'massive congrats to niamh fennell here   journalism graduate lands dream job copying &am pasting tweets ',\n",
       " '@ice_crystal @elbow @meatbingo @govindajeggy thank you! ',\n",
       " 'stats for the day have arrived.  new followers and no unfollowers  via ',\n",
       " '@mrkennyt yesss i am thank you ',\n",
       " 'i have ariana grande selena gomez louis tomlinson rita  liam payne \\ncaradelevingne 🌷i trade solo dm ',\n",
       " '@domsequitur tired. but fine  you??',\n",
       " '@ohvdqohcdjroc nope you can definitely still apply for this year if you want to  #iamca',\n",
       " '@ashleylynch @wetsprocket ah, found it, thanks ',\n",
       " '@boyfi_mw aftie ',\n",
       " 'goodmorning ',\n",
       " '@annemorbs  follow @jnlazts &am  follow u back ',\n",
       " '@bjoernknafla @s_whiteant that’s exactly the look i’m going for ',\n",
       " '#prokabaddi koel mallick @yourkoel recites the \"national anthem\" for @starsportsindia on day-!! ',\n",
       " '#yournaturalleaders and #youngnaturalleaders\\nmonjuly #cumbria uk  @yournaturallead \\n\\n&am #flockstars thurjuly itv\\n',\n",
       " 'for most of you it is #goodmorning but for me it is #goodnight...\\n#sleeptight for me and #haveagoodday for you!  ',\n",
       " 'only one leg on september. so perhaps bb will promote the full album on september \\n',\n",
       " 'i still fully intend to write as many game designs as possible while there. and an attack plan for the next  months. &gtd',\n",
       " 'to all the birds out there, come here and join us for a little fun  #teamadmicro ']"
      ]
     },
     "metadata": {},
     "execution_count": 10
    }
   ],
   "source": [
    "emoticon_string = r\"\"\"\n",
    "    (?:\n",
    "      [<>]?\n",
    "      [:;=8]                     # eyes\n",
    "      [\\-o\\*\\']?                 # optional nose\n",
    "      [\\)\\]\\(\\[dDpP/\\:\\}\\{@\\|\\\\] # mouth\n",
    "      |\n",
    "      [\\)\\]\\(\\[dDpP/\\:\\}\\{@\\|\\\\] # mouth\n",
    "      [\\-o\\*\\']?                 # optional nose\n",
    "      [:;=8]                     # eyes\n",
    "      [<>]?\n",
    "      |\n",
    "      </?3                       # heart\n",
    "    )\"\"\"\n",
    "    \n",
    "emoticon_re = re.compile(emoticon_string, re.VERBOSE | re.I | re.UNICODE)\n",
    "tweets_no_emoticons = [re.sub(emoticon_re, '', tweet) for tweet in tweets_no_links]\n",
    "tweets_no_emoticons"
   ]
  },
  {
   "cell_type": "markdown",
   "metadata": {
    "id": "gnBMWrqZKJqz"
   },
   "source": [
    "Eliminarea emoji-urilor folosind `emoji` [library](https://github.com/carpedm20/emoji)"
   ]
  },
  {
   "cell_type": "code",
   "execution_count": null,
   "metadata": {
    "id": "s6t2BEfIKFSU",
    "colab": {
     "base_uri": "https://localhost:8080/"
    },
    "executionInfo": {
     "status": "ok",
     "timestamp": 1677626852588,
     "user_tz": -120,
     "elapsed": 12729,
     "user": {
      "displayName": "MIRUNA-ANDREEA ZAVELCA",
      "userId": "12692883064275182332"
     }
    },
    "outputId": "8dd299ec-8f48-433f-9d8c-86fa56e74594",
    "pycharm": {
     "is_executing": true
    }
   },
   "outputs": [],
   "source": [
    "! pip install emoji\n",
    "import emoji"
   ]
  },
  {
   "cell_type": "markdown",
   "source": [
    "Pentru fiecare tweet, `emoji.emoji_list` ne intoarce o lista de dictionare, fiecare avand proprietati ale emoji-urilor: pozitionarea in text si emoji-ul propriu zis."
   ],
   "metadata": {
    "id": "CRts4EHCpC6z"
   }
  },
  {
   "cell_type": "code",
   "source": [
    "text = \"💙 🐱 only one leg on september. so perhaps bb will promote the full album on september  🤔 🙄\"\n",
    "emoji.emoji_list(text)"
   ],
   "metadata": {
    "colab": {
     "base_uri": "https://localhost:8080/"
    },
    "id": "oa901vgGpeQj",
    "executionInfo": {
     "status": "ok",
     "timestamp": 1677626852589,
     "user_tz": -120,
     "elapsed": 19,
     "user": {
      "displayName": "MIRUNA-ANDREEA ZAVELCA",
      "userId": "12692883064275182332"
     }
    },
    "outputId": "5d8ff8a5-c060-4c64-96a9-3fc468e52c87"
   },
   "execution_count": 12,
   "outputs": [
    {
     "output_type": "execute_result",
     "data": {
      "text/plain": [
       "[{'match_start': 0, 'match_end': 1, 'emoji': '💙'},\n",
       " {'match_start': 2, 'match_end': 3, 'emoji': '🐱'},\n",
       " {'match_start': 87, 'match_end': 88, 'emoji': '🤔'},\n",
       " {'match_start': 89, 'match_end': 90, 'emoji': '🙄'}]"
      ]
     },
     "metadata": {},
     "execution_count": 12
    }
   ]
  },
  {
   "cell_type": "code",
   "execution_count": 13,
   "metadata": {
    "id": "o7uDKw1kKjyD",
    "executionInfo": {
     "status": "ok",
     "timestamp": 1677626881745,
     "user_tz": -120,
     "elapsed": 289,
     "user": {
      "displayName": "MIRUNA-ANDREEA ZAVELCA",
      "userId": "12692883064275182332"
     }
    }
   },
   "outputs": [],
   "source": [
    "tweets_no_emoji = []\n",
    "for tweet in tweets_no_emoticons:\n",
    "    emojis = emoji.emoji_list(tweet)\n",
    "    \n",
    "    tweet_no_emoji = tweet\n",
    "    for emoji_dict in emojis:\n",
    "        emoji_str = emoji_dict.get(\"emoji\")\n",
    "        tweet_no_emoji = re.sub(emoji_str, ' ', tweet_no_emoji)\n",
    "\n",
    "    tweets_no_emoji.append(tweet_no_emoji)"
   ]
  },
  {
   "cell_type": "code",
   "source": [
    "tweets_no_emoji"
   ],
   "metadata": {
    "colab": {
     "base_uri": "https://localhost:8080/"
    },
    "id": "UUxscc_XozUP",
    "executionInfo": {
     "status": "ok",
     "timestamp": 1677626887783,
     "user_tz": -120,
     "elapsed": 253,
     "user": {
      "displayName": "MIRUNA-ANDREEA ZAVELCA",
      "userId": "12692883064275182332"
     }
    },
    "outputId": "91298535-68c5-4288-adbd-4aae393b90af"
   },
   "execution_count": 14,
   "outputs": [
    {
     "output_type": "execute_result",
     "data": {
      "text/plain": [
       "['dang that is some rad @abzugame #fanart!  ',\n",
       " '@hardcoregooners @tashagunners @kirstyburns @aprilburton @liztc @miss_boots @zannatur @nativenoddy @natg_ @ms_t_p cheers #tgif ',\n",
       " 'massive congrats to niamh fennell here   journalism graduate lands dream job copying &am pasting tweets ',\n",
       " '@ice_crystal @elbow @meatbingo @govindajeggy thank you! ',\n",
       " 'stats for the day have arrived.  new followers and no unfollowers  via ',\n",
       " '@mrkennyt yesss i am thank you ',\n",
       " 'i have ariana grande selena gomez louis tomlinson rita  liam payne \\ncaradelevingne  i trade solo dm ',\n",
       " '@domsequitur tired. but fine  you??',\n",
       " '@ohvdqohcdjroc nope you can definitely still apply for this year if you want to  #iamca',\n",
       " '@ashleylynch @wetsprocket ah, found it, thanks ',\n",
       " '@boyfi_mw aftie ',\n",
       " 'goodmorning ',\n",
       " '@annemorbs  follow @jnlazts &am  follow u back ',\n",
       " '@bjoernknafla @s_whiteant that’s exactly the look i’m going for ',\n",
       " '#prokabaddi koel mallick @yourkoel recites the \"national anthem\" for @starsportsindia on day-!! ',\n",
       " '#yournaturalleaders and #youngnaturalleaders\\nmonjuly #cumbria uk  @yournaturallead \\n\\n&am #flockstars thurjuly itv\\n',\n",
       " 'for most of you it is #goodmorning but for me it is #goodnight...\\n#sleeptight for me and #haveagoodday for you!  ',\n",
       " 'only one leg on september. so perhaps bb will promote the full album on september \\n',\n",
       " 'i still fully intend to write as many game designs as possible while there. and an attack plan for the next  months. &gtd',\n",
       " 'to all the birds out there, come here and join us for a little fun  #teamadmicro ']"
      ]
     },
     "metadata": {},
     "execution_count": 14
    }
   ]
  },
  {
   "cell_type": "markdown",
   "source": [
    "De asemenea, daca nu dorim sa eliminam emoji-urile, le putem inlocui cu explicatia lor."
   ],
   "metadata": {
    "id": "cg0pyUJKqLCu"
   }
  },
  {
   "cell_type": "code",
   "source": [
    "emoji.demojize('album on september 🤔 🙄', language='en')"
   ],
   "metadata": {
    "colab": {
     "base_uri": "https://localhost:8080/",
     "height": 36
    },
    "id": "iZvQDirQq65T",
    "executionInfo": {
     "status": "ok",
     "timestamp": 1677626889705,
     "user_tz": -120,
     "elapsed": 230,
     "user": {
      "displayName": "MIRUNA-ANDREEA ZAVELCA",
      "userId": "12692883064275182332"
     }
    },
    "outputId": "7264e8b5-7c8d-4cfa-e46d-360e776ae488"
   },
   "execution_count": 15,
   "outputs": [
    {
     "output_type": "execute_result",
     "data": {
      "text/plain": [
       "'album on september :thinking_face: :face_with_rolling_eyes:'"
      ],
      "application/vnd.google.colaboratory.intrinsic+json": {
       "type": "string"
      }
     },
     "metadata": {},
     "execution_count": 15
    }
   ]
  },
  {
   "cell_type": "markdown",
   "metadata": {
    "id": "Jdin258uOTnl"
   },
   "source": [
    "### Eliminarea hashtag-urilor și a mențiunilor"
   ]
  },
  {
   "cell_type": "code",
   "execution_count": 16,
   "metadata": {
    "colab": {
     "base_uri": "https://localhost:8080/"
    },
    "id": "tFwfk66HOYid",
    "outputId": "29532f64-3d7b-444c-d877-a3ac1e767b36",
    "executionInfo": {
     "status": "ok",
     "timestamp": 1677626896047,
     "user_tz": -120,
     "elapsed": 276,
     "user": {
      "displayName": "MIRUNA-ANDREEA ZAVELCA",
      "userId": "12692883064275182332"
     }
    }
   },
   "outputs": [
    {
     "output_type": "execute_result",
     "data": {
      "text/plain": [
       "['dang that is some rad @abzugame !  ',\n",
       " '@hardcoregooners @tashagunners @kirstyburns @aprilburton @liztc @miss_boots @zannatur @nativenoddy @natg_ @ms_t_p cheers  ',\n",
       " 'massive congrats to niamh fennell here   journalism graduate lands dream job copying &am pasting tweets ',\n",
       " '@ice_crystal @elbow @meatbingo @govindajeggy thank you! ',\n",
       " 'stats for the day have arrived.  new followers and no unfollowers  via ',\n",
       " '@mrkennyt yesss i am thank you ',\n",
       " 'i have ariana grande selena gomez louis tomlinson rita  liam payne \\ncaradelevingne  i trade solo dm ',\n",
       " '@domsequitur tired. but fine  you??',\n",
       " '@ohvdqohcdjroc nope you can definitely still apply for this year if you want to  ',\n",
       " '@ashleylynch @wetsprocket ah, found it, thanks ',\n",
       " '@boyfi_mw aftie ',\n",
       " 'goodmorning ',\n",
       " '@annemorbs  follow @jnlazts &am  follow u back ',\n",
       " '@bjoernknafla @s_whiteant that’s exactly the look i’m going for ',\n",
       " ' koel mallick @yourkoel recites the \"national anthem\" for @starsportsindia on day-!! ',\n",
       " ' and \\nmonjuly  uk  @yournaturallead \\n\\n&am  thurjuly itv\\n',\n",
       " 'for most of you it is  but for me it is ...\\n for me and  for you!  ',\n",
       " 'only one leg on september. so perhaps bb will promote the full album on september \\n',\n",
       " 'i still fully intend to write as many game designs as possible while there. and an attack plan for the next  months. &gtd',\n",
       " 'to all the birds out there, come here and join us for a little fun   ']"
      ]
     },
     "metadata": {},
     "execution_count": 16
    }
   ],
   "source": [
    "tweets_no_hashtags = [re.sub(r'#[a-zA-Z0-9_]+','', tweet) for tweet in tweets_no_emoji]\n",
    "tweets_no_hashtags"
   ]
  },
  {
   "cell_type": "code",
   "execution_count": 17,
   "metadata": {
    "colab": {
     "base_uri": "https://localhost:8080/"
    },
    "id": "3zHnOHf2PSWQ",
    "outputId": "70f52419-2b97-4207-82d1-ac71807ffa3d",
    "executionInfo": {
     "status": "ok",
     "timestamp": 1677626909839,
     "user_tz": -120,
     "elapsed": 253,
     "user": {
      "displayName": "MIRUNA-ANDREEA ZAVELCA",
      "userId": "12692883064275182332"
     }
    }
   },
   "outputs": [
    {
     "output_type": "execute_result",
     "data": {
      "text/plain": [
       "['dang that is some rad  !  ',\n",
       " '          cheers  ',\n",
       " 'massive congrats to niamh fennell here   journalism graduate lands dream job copying &am pasting tweets ',\n",
       " '    thank you! ',\n",
       " 'stats for the day have arrived.  new followers and no unfollowers  via ',\n",
       " ' yesss i am thank you ',\n",
       " 'i have ariana grande selena gomez louis tomlinson rita  liam payne \\ncaradelevingne  i trade solo dm ',\n",
       " ' tired. but fine  you??',\n",
       " ' nope you can definitely still apply for this year if you want to  ',\n",
       " '  ah, found it, thanks ',\n",
       " ' aftie ',\n",
       " 'goodmorning ',\n",
       " '  follow  &am  follow u back ',\n",
       " '  that’s exactly the look i’m going for ',\n",
       " ' koel mallick  recites the \"national anthem\" for  on day-!! ',\n",
       " ' and \\nmonjuly  uk   \\n\\n&am  thurjuly itv\\n',\n",
       " 'for most of you it is  but for me it is ...\\n for me and  for you!  ',\n",
       " 'only one leg on september. so perhaps bb will promote the full album on september \\n',\n",
       " 'i still fully intend to write as many game designs as possible while there. and an attack plan for the next  months. &gtd',\n",
       " 'to all the birds out there, come here and join us for a little fun   ']"
      ]
     },
     "metadata": {},
     "execution_count": 17
    }
   ],
   "source": [
    "tweets_no_mentions = [re.sub(r'@[a-zA-Z0-9_]+','', tweet) for tweet in tweets_no_hashtags]\n",
    "tweets_no_mentions"
   ]
  },
  {
   "cell_type": "markdown",
   "metadata": {
    "id": "aNCIM801Pd5s"
   },
   "source": [
    "Eliminăm spațiile multiple dintre cuvinte"
   ]
  },
  {
   "cell_type": "code",
   "execution_count": 18,
   "metadata": {
    "colab": {
     "base_uri": "https://localhost:8080/"
    },
    "id": "rghP6xOoPlOv",
    "outputId": "feb5ad32-0d83-4b45-ebd5-64127528f6a3",
    "executionInfo": {
     "status": "ok",
     "timestamp": 1677626911072,
     "user_tz": -120,
     "elapsed": 226,
     "user": {
      "displayName": "MIRUNA-ANDREEA ZAVELCA",
      "userId": "12692883064275182332"
     }
    }
   },
   "outputs": [
    {
     "output_type": "execute_result",
     "data": {
      "text/plain": [
       "['dang that is some rad !',\n",
       " 'cheers',\n",
       " 'massive congrats to niamh fennell here journalism graduate lands dream job copying &am pasting tweets',\n",
       " 'thank you!',\n",
       " 'stats for the day have arrived. new followers and no unfollowers via',\n",
       " 'yesss i am thank you',\n",
       " 'i have ariana grande selena gomez louis tomlinson rita liam payne caradelevingne i trade solo dm',\n",
       " 'tired. but fine you??',\n",
       " 'nope you can definitely still apply for this year if you want to',\n",
       " 'ah, found it, thanks',\n",
       " 'aftie',\n",
       " 'goodmorning',\n",
       " 'follow &am follow u back',\n",
       " 'that’s exactly the look i’m going for',\n",
       " 'koel mallick recites the \"national anthem\" for on day-!!',\n",
       " 'and monjuly uk &am thurjuly itv',\n",
       " 'for most of you it is but for me it is ... for me and for you!',\n",
       " 'only one leg on september. so perhaps bb will promote the full album on september',\n",
       " 'i still fully intend to write as many game designs as possible while there. and an attack plan for the next months. &gtd',\n",
       " 'to all the birds out there, come here and join us for a little fun']"
      ]
     },
     "metadata": {},
     "execution_count": 18
    }
   ],
   "source": [
    "tweets_no_spaces = [re.sub(r'\\s+', ' ', tweet).strip() for tweet in tweets_no_mentions]\n",
    "tweets_no_spaces"
   ]
  },
  {
   "cell_type": "markdown",
   "metadata": {
    "id": "HKUvVGcCP499"
   },
   "source": [
    "### Tokenizare\n",
    "\n",
    "- La nivel de propoziție: putem împărți un text în propoziții după punctuație, sau folosind [nltk.sent_tokenize](https://www.nltk.org/api/nltk.tokenize.html)\n",
    "\n",
    "- La nivel de cuvânt: putem împărți după spațiu, sau să folosim [nltk.word_tokenize](https://www.nltk.org/api/nltk.tokenize.html)"
   ]
  },
  {
   "cell_type": "markdown",
   "metadata": {
    "id": "5BzS9XSCQn_Z"
   },
   "source": [
    "Tokenizare la nivel de popoziție folosind regex\n",
    "\n"
   ]
  },
  {
   "cell_type": "code",
   "execution_count": null,
   "metadata": {
    "colab": {
     "base_uri": "https://localhost:8080/"
    },
    "id": "aM7KEg-1RGxN",
    "outputId": "27dba254-060d-40da-9987-560af80d351c",
    "executionInfo": {
     "status": "ok",
     "timestamp": 1677627036532,
     "user_tz": -120,
     "elapsed": 224,
     "user": {
      "displayName": "MIRUNA-ANDREEA ZAVELCA",
      "userId": "12692883064275182332"
     }
    },
    "pycharm": {
     "is_executing": true
    }
   },
   "outputs": [],
   "source": [
    "twitter_sent_tokenized = [re.split('(?<=[.!?])\\s+', tweet) for tweet in tweets_no_spaces]\n",
    "twitter_sent_tokenized"
   ]
  },
  {
   "cell_type": "markdown",
   "metadata": {
    "id": "203iv3ESRblX"
   },
   "source": [
    "Folosind `nltk.sent_tokenize`"
   ]
  },
  {
   "cell_type": "markdown",
   "metadata": {
    "id": "6UllfcSeRndQ"
   },
   "source": [
    "Mai întâi trebuie să downloadăm punctuația din `nltk`"
   ]
  },
  {
   "cell_type": "code",
   "execution_count": null,
   "metadata": {
    "colab": {
     "base_uri": "https://localhost:8080/"
    },
    "id": "h4XsEbgFRt-S",
    "outputId": "f460b9de-d2f6-4b3d-b95a-8535475735ad",
    "executionInfo": {
     "status": "ok",
     "timestamp": 1677627040400,
     "user_tz": -120,
     "elapsed": 888,
     "user": {
      "displayName": "MIRUNA-ANDREEA ZAVELCA",
      "userId": "12692883064275182332"
     }
    },
    "pycharm": {
     "is_executing": true
    }
   },
   "outputs": [],
   "source": [
    "nltk.download('punkt')"
   ]
  },
  {
   "cell_type": "code",
   "execution_count": 21,
   "metadata": {
    "colab": {
     "base_uri": "https://localhost:8080/"
    },
    "id": "S2o6EMlSRfYZ",
    "outputId": "b40ebdb6-579e-484a-a3d8-5b51170d8ae2",
    "executionInfo": {
     "status": "ok",
     "timestamp": 1677627040401,
     "user_tz": -120,
     "elapsed": 9,
     "user": {
      "displayName": "MIRUNA-ANDREEA ZAVELCA",
      "userId": "12692883064275182332"
     }
    }
   },
   "outputs": [
    {
     "output_type": "execute_result",
     "data": {
      "text/plain": [
       "[['dang that is some rad !'],\n",
       " ['cheers'],\n",
       " ['massive congrats to niamh fennell here journalism graduate lands dream job copying &am pasting tweets'],\n",
       " ['thank you!'],\n",
       " ['stats for the day have arrived.', 'new followers and no unfollowers via'],\n",
       " ['yesss i am thank you'],\n",
       " ['i have ariana grande selena gomez louis tomlinson rita liam payne caradelevingne i trade solo dm'],\n",
       " ['tired.', 'but fine you?', '?'],\n",
       " ['nope you can definitely still apply for this year if you want to'],\n",
       " ['ah, found it, thanks'],\n",
       " ['aftie'],\n",
       " ['goodmorning'],\n",
       " ['follow &am follow u back'],\n",
       " ['that’s exactly the look i’m going for'],\n",
       " ['koel mallick recites the \"national anthem\" for on day-!', '!'],\n",
       " ['and monjuly uk &am thurjuly itv'],\n",
       " ['for most of you it is but for me it is ... for me and for you!'],\n",
       " ['only one leg on september.',\n",
       "  'so perhaps bb will promote the full album on september'],\n",
       " ['i still fully intend to write as many game designs as possible while there.',\n",
       "  'and an attack plan for the next months.',\n",
       "  '&gtd'],\n",
       " ['to all the birds out there, come here and join us for a little fun']]"
      ]
     },
     "metadata": {},
     "execution_count": 21
    }
   ],
   "source": [
    "from nltk import sent_tokenize\n",
    "\n",
    "twitter_sent_tokenized = [nltk.sent_tokenize(tweet) for tweet in tweets_no_spaces]\n",
    "twitter_sent_tokenized"
   ]
  },
  {
   "cell_type": "markdown",
   "metadata": {
    "id": "TNrcChKlSAuV"
   },
   "source": [
    "Tokenizare la nivel de cuvânt după spații"
   ]
  },
  {
   "cell_type": "code",
   "execution_count": 22,
   "metadata": {
    "colab": {
     "base_uri": "https://localhost:8080/"
    },
    "id": "DLJXmphYSFG0",
    "outputId": "1cd38533-b6a9-4030-dc90-9c55e0185ce5",
    "executionInfo": {
     "status": "ok",
     "timestamp": 1677627043336,
     "user_tz": -120,
     "elapsed": 5,
     "user": {
      "displayName": "MIRUNA-ANDREEA ZAVELCA",
      "userId": "12692883064275182332"
     }
    }
   },
   "outputs": [
    {
     "output_type": "stream",
     "name": "stdout",
     "text": [
      "[['dang', 'that', 'is', 'some', 'rad', '!']]\n",
      "[['cheers']]\n",
      "[['massive', 'congrats', 'to', 'niamh', 'fennell', 'here', 'journalism', 'graduate', 'lands', 'dream', 'job', 'copying', '&am', 'pasting', 'tweets']]\n",
      "[['thank', 'you!']]\n",
      "[['stats', 'for', 'the', 'day', 'have', 'arrived.'], ['new', 'followers', 'and', 'no', 'unfollowers', 'via']]\n",
      "[['yesss', 'i', 'am', 'thank', 'you']]\n",
      "[['i', 'have', 'ariana', 'grande', 'selena', 'gomez', 'louis', 'tomlinson', 'rita', 'liam', 'payne', 'caradelevingne', 'i', 'trade', 'solo', 'dm']]\n",
      "[['tired.'], ['but', 'fine', 'you?'], ['?']]\n",
      "[['nope', 'you', 'can', 'definitely', 'still', 'apply', 'for', 'this', 'year', 'if', 'you', 'want', 'to']]\n",
      "[['ah,', 'found', 'it,', 'thanks']]\n",
      "[['aftie']]\n",
      "[['goodmorning']]\n",
      "[['follow', '&am', 'follow', 'u', 'back']]\n",
      "[['that’s', 'exactly', 'the', 'look', 'i’m', 'going', 'for']]\n",
      "[['koel', 'mallick', 'recites', 'the', '\"national', 'anthem\"', 'for', 'on', 'day-!'], ['!']]\n",
      "[['and', 'monjuly', 'uk', '&am', 'thurjuly', 'itv']]\n",
      "[['for', 'most', 'of', 'you', 'it', 'is', 'but', 'for', 'me', 'it', 'is', '...', 'for', 'me', 'and', 'for', 'you!']]\n",
      "[['only', 'one', 'leg', 'on', 'september.'], ['so', 'perhaps', 'bb', 'will', 'promote', 'the', 'full', 'album', 'on', 'september']]\n",
      "[['i', 'still', 'fully', 'intend', 'to', 'write', 'as', 'many', 'game', 'designs', 'as', 'possible', 'while', 'there.'], ['and', 'an', 'attack', 'plan', 'for', 'the', 'next', 'months.'], ['&gtd']]\n",
      "[['to', 'all', 'the', 'birds', 'out', 'there,', 'come', 'here', 'and', 'join', 'us', 'for', 'a', 'little', 'fun']]\n"
     ]
    }
   ],
   "source": [
    "for tweet_list in twitter_sent_tokenized:\n",
    "    print([tweet.split() for tweet in tweet_list])"
   ]
  },
  {
   "cell_type": "markdown",
   "metadata": {
    "id": "niyRmQ86SyOg"
   },
   "source": [
    "Tokenizare la nivel de cuvânt folosind `nltk.word_tokenize`"
   ]
  },
  {
   "cell_type": "code",
   "execution_count": 23,
   "metadata": {
    "colab": {
     "base_uri": "https://localhost:8080/"
    },
    "id": "4nZasrqFVE-h",
    "outputId": "f8f63a93-3f99-4a07-d939-7415aac8901e",
    "executionInfo": {
     "status": "ok",
     "timestamp": 1677627131150,
     "user_tz": -120,
     "elapsed": 233,
     "user": {
      "displayName": "MIRUNA-ANDREEA ZAVELCA",
      "userId": "12692883064275182332"
     }
    }
   },
   "outputs": [
    {
     "output_type": "execute_result",
     "data": {
      "text/plain": [
       "[['dang', 'that', 'is', 'some', 'rad', '!'],\n",
       " ['cheers'],\n",
       " ['massive',\n",
       "  'congrats',\n",
       "  'to',\n",
       "  'niamh',\n",
       "  'fennell',\n",
       "  'here',\n",
       "  'journalism',\n",
       "  'graduate',\n",
       "  'lands',\n",
       "  'dream',\n",
       "  'job',\n",
       "  'copying',\n",
       "  '&',\n",
       "  'am',\n",
       "  'pasting',\n",
       "  'tweets'],\n",
       " ['thank', 'you', '!'],\n",
       " ['stats',\n",
       "  'for',\n",
       "  'the',\n",
       "  'day',\n",
       "  'have',\n",
       "  'arrived',\n",
       "  '.',\n",
       "  'new',\n",
       "  'followers',\n",
       "  'and',\n",
       "  'no',\n",
       "  'unfollowers',\n",
       "  'via'],\n",
       " ['yesss', 'i', 'am', 'thank', 'you'],\n",
       " ['i',\n",
       "  'have',\n",
       "  'ariana',\n",
       "  'grande',\n",
       "  'selena',\n",
       "  'gomez',\n",
       "  'louis',\n",
       "  'tomlinson',\n",
       "  'rita',\n",
       "  'liam',\n",
       "  'payne',\n",
       "  'caradelevingne',\n",
       "  'i',\n",
       "  'trade',\n",
       "  'solo',\n",
       "  'dm'],\n",
       " ['tired', '.', 'but', 'fine', 'you', '?', '?'],\n",
       " ['nope',\n",
       "  'you',\n",
       "  'can',\n",
       "  'definitely',\n",
       "  'still',\n",
       "  'apply',\n",
       "  'for',\n",
       "  'this',\n",
       "  'year',\n",
       "  'if',\n",
       "  'you',\n",
       "  'want',\n",
       "  'to'],\n",
       " ['ah', ',', 'found', 'it', ',', 'thanks'],\n",
       " ['aftie'],\n",
       " ['goodmorning'],\n",
       " ['follow', '&', 'am', 'follow', 'u', 'back'],\n",
       " ['that', '’', 's', 'exactly', 'the', 'look', 'i', '’', 'm', 'going', 'for'],\n",
       " ['koel',\n",
       "  'mallick',\n",
       "  'recites',\n",
       "  'the',\n",
       "  '``',\n",
       "  'national',\n",
       "  'anthem',\n",
       "  \"''\",\n",
       "  'for',\n",
       "  'on',\n",
       "  'day-',\n",
       "  '!',\n",
       "  '!'],\n",
       " ['and', 'monjuly', 'uk', '&', 'am', 'thurjuly', 'itv'],\n",
       " ['for',\n",
       "  'most',\n",
       "  'of',\n",
       "  'you',\n",
       "  'it',\n",
       "  'is',\n",
       "  'but',\n",
       "  'for',\n",
       "  'me',\n",
       "  'it',\n",
       "  'is',\n",
       "  '...',\n",
       "  'for',\n",
       "  'me',\n",
       "  'and',\n",
       "  'for',\n",
       "  'you',\n",
       "  '!'],\n",
       " ['only',\n",
       "  'one',\n",
       "  'leg',\n",
       "  'on',\n",
       "  'september',\n",
       "  '.',\n",
       "  'so',\n",
       "  'perhaps',\n",
       "  'bb',\n",
       "  'will',\n",
       "  'promote',\n",
       "  'the',\n",
       "  'full',\n",
       "  'album',\n",
       "  'on',\n",
       "  'september'],\n",
       " ['i',\n",
       "  'still',\n",
       "  'fully',\n",
       "  'intend',\n",
       "  'to',\n",
       "  'write',\n",
       "  'as',\n",
       "  'many',\n",
       "  'game',\n",
       "  'designs',\n",
       "  'as',\n",
       "  'possible',\n",
       "  'while',\n",
       "  'there',\n",
       "  '.',\n",
       "  'and',\n",
       "  'an',\n",
       "  'attack',\n",
       "  'plan',\n",
       "  'for',\n",
       "  'the',\n",
       "  'next',\n",
       "  'months',\n",
       "  '.',\n",
       "  '&',\n",
       "  'gtd'],\n",
       " ['to',\n",
       "  'all',\n",
       "  'the',\n",
       "  'birds',\n",
       "  'out',\n",
       "  'there',\n",
       "  ',',\n",
       "  'come',\n",
       "  'here',\n",
       "  'and',\n",
       "  'join',\n",
       "  'us',\n",
       "  'for',\n",
       "  'a',\n",
       "  'little',\n",
       "  'fun']]"
      ]
     },
     "metadata": {},
     "execution_count": 23
    }
   ],
   "source": [
    "from nltk import word_tokenize\n",
    "\n",
    "twitter_word_tokenized = [word_tokenize(tweet) for tweet in tweets_no_spaces]\n",
    "twitter_word_tokenized"
   ]
  },
  {
   "cell_type": "markdown",
   "metadata": {
    "id": "MdT8MOurLMnj"
   },
   "source": [
    "### Eliminarea punctuației"
   ]
  },
  {
   "cell_type": "markdown",
   "metadata": {
    "id": "f3PfeT7dNcxa"
   },
   "source": [
    "Folosind regex"
   ]
  },
  {
   "cell_type": "code",
   "execution_count": 24,
   "metadata": {
    "colab": {
     "base_uri": "https://localhost:8080/"
    },
    "id": "BhhOuUZqK6ix",
    "outputId": "b57f5c08-ae55-4342-b2fc-dcd9a59527e0",
    "executionInfo": {
     "status": "ok",
     "timestamp": 1677627133273,
     "user_tz": -120,
     "elapsed": 262,
     "user": {
      "displayName": "MIRUNA-ANDREEA ZAVELCA",
      "userId": "12692883064275182332"
     }
    }
   },
   "outputs": [
    {
     "output_type": "execute_result",
     "data": {
      "text/plain": [
       "['dang that is some rad ',\n",
       " 'cheers',\n",
       " 'massive congrats to niamh fennell here journalism graduate lands dream job copying am pasting tweets',\n",
       " 'thank you',\n",
       " 'stats for the day have arrived new followers and no unfollowers via',\n",
       " 'yesss i am thank you',\n",
       " 'i have ariana grande selena gomez louis tomlinson rita liam payne caradelevingne i trade solo dm',\n",
       " 'tired but fine you',\n",
       " 'nope you can definitely still apply for this year if you want to',\n",
       " 'ah found it thanks',\n",
       " 'aftie',\n",
       " 'goodmorning',\n",
       " 'follow am follow u back',\n",
       " 'thats exactly the look im going for',\n",
       " 'koel mallick recites the national anthem for on day',\n",
       " 'and monjuly uk am thurjuly itv',\n",
       " 'for most of you it is but for me it is  for me and for you',\n",
       " 'only one leg on september so perhaps bb will promote the full album on september',\n",
       " 'i still fully intend to write as many game designs as possible while there and an attack plan for the next months gtd',\n",
       " 'to all the birds out there come here and join us for a little fun']"
      ]
     },
     "metadata": {},
     "execution_count": 24
    }
   ],
   "source": [
    "tweets_no_punct = [re.sub(r'[^\\w\\s]', '', tweet) for tweet in tweets_no_spaces]\n",
    "tweets_no_punct"
   ]
  },
  {
   "cell_type": "markdown",
   "metadata": {
    "id": "zQfBOGzoNnLp"
   },
   "source": [
    "Folosind `string.punctuation()`"
   ]
  },
  {
   "cell_type": "code",
   "execution_count": 25,
   "metadata": {
    "colab": {
     "base_uri": "https://localhost:8080/",
     "height": 36
    },
    "id": "MgdMyLm_Nl1D",
    "outputId": "0d8c8162-f196-4b0e-99d6-a05a92c66157",
    "executionInfo": {
     "status": "ok",
     "timestamp": 1677627135645,
     "user_tz": -120,
     "elapsed": 5,
     "user": {
      "displayName": "MIRUNA-ANDREEA ZAVELCA",
      "userId": "12692883064275182332"
     }
    }
   },
   "outputs": [
    {
     "output_type": "execute_result",
     "data": {
      "text/plain": [
       "'!\"#$%&\\'()*+,-./:;<=>?@[\\\\]^_`{|}~'"
      ],
      "application/vnd.google.colaboratory.intrinsic+json": {
       "type": "string"
      }
     },
     "metadata": {},
     "execution_count": 25
    }
   ],
   "source": [
    "import string\n",
    "\n",
    "string.punctuation"
   ]
  },
  {
   "cell_type": "markdown",
   "metadata": {
    "id": "JnxNzTCBNyUS"
   },
   "source": [
    "Traducem fiecare semn de punctuație în ' '."
   ]
  },
  {
   "cell_type": "code",
   "execution_count": 26,
   "metadata": {
    "colab": {
     "base_uri": "https://localhost:8080/"
    },
    "id": "Oov3nDzoNulb",
    "outputId": "675385b3-afb2-44ca-aa29-fc7644ea5223",
    "executionInfo": {
     "status": "ok",
     "timestamp": 1677627137051,
     "user_tz": -120,
     "elapsed": 236,
     "user": {
      "displayName": "MIRUNA-ANDREEA ZAVELCA",
      "userId": "12692883064275182332"
     }
    }
   },
   "outputs": [
    {
     "output_type": "execute_result",
     "data": {
      "text/plain": [
       "['dang that is some rad ',\n",
       " 'cheers',\n",
       " 'massive congrats to niamh fennell here journalism graduate lands dream job copying am pasting tweets',\n",
       " 'thank you',\n",
       " 'stats for the day have arrived new followers and no unfollowers via',\n",
       " 'yesss i am thank you',\n",
       " 'i have ariana grande selena gomez louis tomlinson rita liam payne caradelevingne i trade solo dm',\n",
       " 'tired but fine you',\n",
       " 'nope you can definitely still apply for this year if you want to',\n",
       " 'ah found it thanks',\n",
       " 'aftie',\n",
       " 'goodmorning',\n",
       " 'follow am follow u back',\n",
       " 'that’s exactly the look i’m going for',\n",
       " 'koel mallick recites the national anthem for on day',\n",
       " 'and monjuly uk am thurjuly itv',\n",
       " 'for most of you it is but for me it is  for me and for you',\n",
       " 'only one leg on september so perhaps bb will promote the full album on september',\n",
       " 'i still fully intend to write as many game designs as possible while there and an attack plan for the next months gtd',\n",
       " 'to all the birds out there come here and join us for a little fun']"
      ]
     },
     "metadata": {},
     "execution_count": 26
    }
   ],
   "source": [
    "tweets_no_punct = [tweet.translate(str.maketrans('', '', string.punctuation)) for tweet in tweets_no_spaces]\n",
    "tweets_no_punct"
   ]
  },
  {
   "cell_type": "markdown",
   "metadata": {
    "id": "QSoToGH2VEV7"
   },
   "source": [
    "Tokenizare la nivel de cuvânt după eliminarea punctuației."
   ]
  },
  {
   "cell_type": "code",
   "execution_count": 27,
   "metadata": {
    "colab": {
     "base_uri": "https://localhost:8080/"
    },
    "id": "6fQBkaVdVJVH",
    "outputId": "b89d1475-c266-4a5d-d006-b62ce55be261",
    "executionInfo": {
     "status": "ok",
     "timestamp": 1677627142317,
     "user_tz": -120,
     "elapsed": 255,
     "user": {
      "displayName": "MIRUNA-ANDREEA ZAVELCA",
      "userId": "12692883064275182332"
     }
    }
   },
   "outputs": [
    {
     "output_type": "execute_result",
     "data": {
      "text/plain": [
       "[['dang', 'that', 'is', 'some', 'rad'],\n",
       " ['cheers'],\n",
       " ['massive',\n",
       "  'congrats',\n",
       "  'to',\n",
       "  'niamh',\n",
       "  'fennell',\n",
       "  'here',\n",
       "  'journalism',\n",
       "  'graduate',\n",
       "  'lands',\n",
       "  'dream',\n",
       "  'job',\n",
       "  'copying',\n",
       "  'am',\n",
       "  'pasting',\n",
       "  'tweets'],\n",
       " ['thank', 'you'],\n",
       " ['stats',\n",
       "  'for',\n",
       "  'the',\n",
       "  'day',\n",
       "  'have',\n",
       "  'arrived',\n",
       "  'new',\n",
       "  'followers',\n",
       "  'and',\n",
       "  'no',\n",
       "  'unfollowers',\n",
       "  'via'],\n",
       " ['yesss', 'i', 'am', 'thank', 'you'],\n",
       " ['i',\n",
       "  'have',\n",
       "  'ariana',\n",
       "  'grande',\n",
       "  'selena',\n",
       "  'gomez',\n",
       "  'louis',\n",
       "  'tomlinson',\n",
       "  'rita',\n",
       "  'liam',\n",
       "  'payne',\n",
       "  'caradelevingne',\n",
       "  'i',\n",
       "  'trade',\n",
       "  'solo',\n",
       "  'dm'],\n",
       " ['tired', 'but', 'fine', 'you'],\n",
       " ['nope',\n",
       "  'you',\n",
       "  'can',\n",
       "  'definitely',\n",
       "  'still',\n",
       "  'apply',\n",
       "  'for',\n",
       "  'this',\n",
       "  'year',\n",
       "  'if',\n",
       "  'you',\n",
       "  'want',\n",
       "  'to'],\n",
       " ['ah', 'found', 'it', 'thanks'],\n",
       " ['aftie'],\n",
       " ['goodmorning'],\n",
       " ['follow', 'am', 'follow', 'u', 'back'],\n",
       " ['that', '’', 's', 'exactly', 'the', 'look', 'i', '’', 'm', 'going', 'for'],\n",
       " ['koel',\n",
       "  'mallick',\n",
       "  'recites',\n",
       "  'the',\n",
       "  'national',\n",
       "  'anthem',\n",
       "  'for',\n",
       "  'on',\n",
       "  'day'],\n",
       " ['and', 'monjuly', 'uk', 'am', 'thurjuly', 'itv'],\n",
       " ['for',\n",
       "  'most',\n",
       "  'of',\n",
       "  'you',\n",
       "  'it',\n",
       "  'is',\n",
       "  'but',\n",
       "  'for',\n",
       "  'me',\n",
       "  'it',\n",
       "  'is',\n",
       "  'for',\n",
       "  'me',\n",
       "  'and',\n",
       "  'for',\n",
       "  'you'],\n",
       " ['only',\n",
       "  'one',\n",
       "  'leg',\n",
       "  'on',\n",
       "  'september',\n",
       "  'so',\n",
       "  'perhaps',\n",
       "  'bb',\n",
       "  'will',\n",
       "  'promote',\n",
       "  'the',\n",
       "  'full',\n",
       "  'album',\n",
       "  'on',\n",
       "  'september'],\n",
       " ['i',\n",
       "  'still',\n",
       "  'fully',\n",
       "  'intend',\n",
       "  'to',\n",
       "  'write',\n",
       "  'as',\n",
       "  'many',\n",
       "  'game',\n",
       "  'designs',\n",
       "  'as',\n",
       "  'possible',\n",
       "  'while',\n",
       "  'there',\n",
       "  'and',\n",
       "  'an',\n",
       "  'attack',\n",
       "  'plan',\n",
       "  'for',\n",
       "  'the',\n",
       "  'next',\n",
       "  'months',\n",
       "  'gtd'],\n",
       " ['to',\n",
       "  'all',\n",
       "  'the',\n",
       "  'birds',\n",
       "  'out',\n",
       "  'there',\n",
       "  'come',\n",
       "  'here',\n",
       "  'and',\n",
       "  'join',\n",
       "  'us',\n",
       "  'for',\n",
       "  'a',\n",
       "  'little',\n",
       "  'fun']]"
      ]
     },
     "metadata": {},
     "execution_count": 27
    }
   ],
   "source": [
    "from nltk import word_tokenize\n",
    "\n",
    "twitter_word_tokenized = [word_tokenize(tweet) for tweet in tweets_no_punct]\n",
    "twitter_word_tokenized"
   ]
  },
  {
   "cell_type": "markdown",
   "metadata": {
    "id": "lye6YT5oWF-T"
   },
   "source": [
    "Aveti grija la cazurile de tipul \"unu,doi\". Daca eliminati punctuatia direct, cele doua cuvinte vor fi concatenate obtinand un singur cuvant \"unudoi\". O alternativa ar fi sa inlocuim mai intai toate caracterele de punctuatie cu spatiu, apoi sa aplicam inca o data metoda de contractie a spatiilor."
   ]
  },
  {
   "cell_type": "code",
   "execution_count": null,
   "metadata": {
    "colab": {
     "base_uri": "https://localhost:8080/"
    },
    "id": "wJzIIFJZW2XO",
    "outputId": "7704decf-8f03-44f9-c115-eeeffcbb1ba9",
    "executionInfo": {
     "status": "ok",
     "timestamp": 1677627207177,
     "user_tz": -120,
     "elapsed": 296,
     "user": {
      "displayName": "MIRUNA-ANDREEA ZAVELCA",
      "userId": "12692883064275182332"
     }
    },
    "pycharm": {
     "is_executing": true
    }
   },
   "outputs": [],
   "source": [
    "tweets_no_punct = [re.sub(r'[^\\w\\s]', ' ', tweet) for tweet in tweets_no_spaces]\n",
    "tweets_no_punct = [re.sub(r'\\s+', ' ', tweet) for tweet in tweets_no_punct]\n",
    "tweets_no_punct"
   ]
  },
  {
   "cell_type": "markdown",
   "metadata": {
    "id": "ihBAuh1VUTlb"
   },
   "source": [
    "### Eliminarea stopwords\n",
    "\n",
    "![stopwords.jpg](https://user.oc-static.com/upload/2021/01/06/16099626487943_P1C2.png) "
   ]
  },
  {
   "cell_type": "markdown",
   "metadata": {
    "id": "Jq21UVgTSRQQ"
   },
   "source": [
    "Stopwords-urile sunt cele mai folosite cuvinte din limba engleza si au valoare sintactic morfologica, dar nu au si una semantica.\n",
    "Primele 4 stopwords-uri ale limbii engleze in ordinea aparitiei lor in limba: the, of, and, to.  \n",
    "Cele mai multe sunt pronume, prepozitii sau conjuctii. \n",
    "\n",
    "[The Zipf Law](https://www.youtube.com/watch?v=fCn8zs912OE) afirma ca daca notam $x$ = numarul de aparitii a lui \"the\", atunci numarul de aparitii al lui \"of\" va fi foarte apropiat de $\\frac{x}{2}$, al lui \"and\", de $\\frac{x}{3}$, al celui de-al n-lea cu $\\frac{x}{n}$ (distributia de probabilitati Pareto)."
   ]
  },
  {
   "cell_type": "markdown",
   "metadata": {
    "id": "s9KsFEcKUhk2"
   },
   "source": [
    "Eliminare stopwords folosind `nltk`"
   ]
  },
  {
   "cell_type": "code",
   "execution_count": 29,
   "metadata": {
    "colab": {
     "base_uri": "https://localhost:8080/"
    },
    "id": "R0DX_U3ZUlI7",
    "outputId": "12c75967-a0bb-4900-86e9-0b099d43ab4a",
    "executionInfo": {
     "status": "ok",
     "timestamp": 1677627270719,
     "user_tz": -120,
     "elapsed": 222,
     "user": {
      "displayName": "MIRUNA-ANDREEA ZAVELCA",
      "userId": "12692883064275182332"
     }
    }
   },
   "outputs": [
    {
     "output_type": "stream",
     "name": "stderr",
     "text": [
      "[nltk_data] Downloading package stopwords to /root/nltk_data...\n",
      "[nltk_data]   Unzipping corpora/stopwords.zip.\n"
     ]
    },
    {
     "output_type": "execute_result",
     "data": {
      "text/plain": [
       "True"
      ]
     },
     "metadata": {},
     "execution_count": 29
    }
   ],
   "source": [
    "nltk.download('stopwords')"
   ]
  },
  {
   "cell_type": "code",
   "execution_count": 30,
   "metadata": {
    "colab": {
     "base_uri": "https://localhost:8080/"
    },
    "id": "vPTyM23bOKOK",
    "outputId": "bcee939a-63a6-4d97-f468-8ceb6de68200",
    "executionInfo": {
     "status": "ok",
     "timestamp": 1677627273436,
     "user_tz": -120,
     "elapsed": 236,
     "user": {
      "displayName": "MIRUNA-ANDREEA ZAVELCA",
      "userId": "12692883064275182332"
     }
    }
   },
   "outputs": [
    {
     "output_type": "stream",
     "name": "stdout",
     "text": [
      "179\n",
      "{'which', 'ours', 'what', 'once', 'more', 'my', 'being', 'their', 'here', 'and', 'to', 'm', 'will', 'shan', 'when', 'wouldn', 'down', 'off', \"you're\", 'has', 'under', \"it's\", 'or', 'as', \"needn't\", 'doing', 'because', 'isn', 's', 'weren', 'have', 'about', 'on', 'been', 'mightn', 'yourselves', \"isn't\", 'those', \"weren't\", 'hers', 'very', \"couldn't\", 'any', 'y', 'above', 'some', 'these', 'itself', 'few', 'out', 'most', 'that', 'during', \"mightn't\", 'do', 'did', 'between', 'only', 'an', 'yours', 'the', 'where', 'he', 'each', 'after', 'before', 'aren', \"that'll\", 'yourself', \"shouldn't\", 'her', 'other', 'himself', 'd', 'a', 'having', 'not', \"you've\", 'doesn', 'hasn', 'against', \"she's\", 'how', 'couldn', 'am', \"mustn't\", 'ourselves', 'below', 'our', 'him', \"shan't\", 'then', 'no', 'shouldn', 'didn', 'll', 'are', 'wasn', 'for', 'than', \"didn't\", 'we', 'it', 'same', 'with', 'through', \"doesn't\", 'were', \"you'd\", 'be', 'into', \"wasn't\", 'own', 'ma', 'they', 'from', 'who', 'too', 'both', 'over', 'further', 'at', 'now', \"wouldn't\", 'his', \"hadn't\", 'again', 'until', 'there', 'its', 't', 'why', 'is', 'she', 'them', 'up', 'mustn', 'o', 'myself', 'all', 've', 'themselves', 'whom', 'such', 'just', 'does', 'should', 'hadn', 'in', \"should've\", \"won't\", 'can', 'if', 'theirs', 'so', 'while', 'me', 'nor', \"hasn't\", 'had', 'but', 'ain', 'by', \"don't\", 'of', 'your', 'was', 'you', 'needn', 'this', \"you'll\", 'don', 'i', \"haven't\", 'won', 're', 'herself', 'haven', \"aren't\"}\n"
     ]
    }
   ],
   "source": [
    "from nltk.corpus import stopwords\n",
    "\n",
    "stop_words_nltk = set(stopwords.words('english'))\n",
    "print(len(stop_words_nltk))\n",
    "print(stop_words_nltk)"
   ]
  },
  {
   "cell_type": "code",
   "execution_count": 31,
   "metadata": {
    "colab": {
     "base_uri": "https://localhost:8080/"
    },
    "id": "s3xGtKBuUrW1",
    "outputId": "4cb6dfec-072b-46a4-930a-b95b93a2a710",
    "executionInfo": {
     "status": "ok",
     "timestamp": 1677627275990,
     "user_tz": -120,
     "elapsed": 5,
     "user": {
      "displayName": "MIRUNA-ANDREEA ZAVELCA",
      "userId": "12692883064275182332"
     }
    }
   },
   "outputs": [
    {
     "output_type": "execute_result",
     "data": {
      "text/plain": [
       "['dang',\n",
       " 'that',\n",
       " 'is',\n",
       " 'some',\n",
       " 'rad',\n",
       " 'cheers',\n",
       " 'massive',\n",
       " 'congrats',\n",
       " 'to',\n",
       " 'niamh']"
      ]
     },
     "metadata": {},
     "execution_count": 31
    }
   ],
   "source": [
    "all_words = [word for sent in twitter_word_tokenized for word in sent]\n",
    "all_words[:10]"
   ]
  },
  {
   "cell_type": "code",
   "execution_count": 32,
   "metadata": {
    "colab": {
     "base_uri": "https://localhost:8080/"
    },
    "id": "kvidsxsBSfgp",
    "outputId": "9b52b83b-1653-4961-cbe9-487e0182728c",
    "executionInfo": {
     "status": "ok",
     "timestamp": 1677627277031,
     "user_tz": -120,
     "elapsed": 4,
     "user": {
      "displayName": "MIRUNA-ANDREEA ZAVELCA",
      "userId": "12692883064275182332"
     }
    }
   },
   "outputs": [
    {
     "output_type": "execute_result",
     "data": {
      "text/plain": [
       "['dang',\n",
       " 'rad',\n",
       " 'cheers',\n",
       " 'massive',\n",
       " 'congrats',\n",
       " 'niamh',\n",
       " 'fennell',\n",
       " 'journalism',\n",
       " 'graduate',\n",
       " 'lands']"
      ]
     },
     "metadata": {},
     "execution_count": 32
    }
   ],
   "source": [
    "all_words_without_stops = [word for word in all_words if word not in stop_words_nltk]\n",
    "all_words_without_stops[:10]"
   ]
  },
  {
   "cell_type": "markdown",
   "metadata": {
    "id": "omPFUw0jVhVd"
   },
   "source": [
    "Eliminare stopwords folosind `spacy`"
   ]
  },
  {
   "cell_type": "code",
   "execution_count": 33,
   "metadata": {
    "id": "a5_sNJXFXryH",
    "colab": {
     "base_uri": "https://localhost:8080/"
    },
    "executionInfo": {
     "status": "ok",
     "timestamp": 1677627296847,
     "user_tz": -120,
     "elapsed": 16354,
     "user": {
      "displayName": "MIRUNA-ANDREEA ZAVELCA",
      "userId": "12692883064275182332"
     }
    },
    "outputId": "86d19fa9-b6f6-4ac5-a754-9219a4c4a252"
   },
   "outputs": [
    {
     "output_type": "stream",
     "name": "stdout",
     "text": [
      "/usr/local/lib/python3.8/dist-packages/torch/cuda/__init__.py:497: UserWarning: Can't initialize NVML\n",
      "  warnings.warn(\"Can't initialize NVML\")\n",
      "2023-02-28 23:34:42.891864: I tensorflow/core/platform/cpu_feature_guard.cc:193] This TensorFlow binary is optimized with oneAPI Deep Neural Network Library (oneDNN) to use the following CPU instructions in performance-critical operations:  AVX2 FMA\n",
      "To enable them in other operations, rebuild TensorFlow with the appropriate compiler flags.\n",
      "2023-02-28 23:34:44.271485: W tensorflow/compiler/xla/stream_executor/platform/default/dso_loader.cc:64] Could not load dynamic library 'libnvinfer.so.7'; dlerror: libnvinfer.so.7: cannot open shared object file: No such file or directory; LD_LIBRARY_PATH: /usr/local/nvidia/lib:/usr/local/nvidia/lib64\n",
      "2023-02-28 23:34:44.271649: W tensorflow/compiler/xla/stream_executor/platform/default/dso_loader.cc:64] Could not load dynamic library 'libnvinfer_plugin.so.7'; dlerror: libnvinfer_plugin.so.7: cannot open shared object file: No such file or directory; LD_LIBRARY_PATH: /usr/local/nvidia/lib:/usr/local/nvidia/lib64\n",
      "2023-02-28 23:34:44.271670: W tensorflow/compiler/tf2tensorrt/utils/py_utils.cc:38] TF-TRT Warning: Cannot dlopen some TensorRT libraries. If you would like to use Nvidia GPU with TensorRT, please make sure the missing libraries mentioned above are installed properly.\n",
      "2023-02-28 23:34:46.189765: E tensorflow/compiler/xla/stream_executor/cuda/cuda_driver.cc:267] failed call to cuInit: CUDA_ERROR_NO_DEVICE: no CUDA-capable device is detected\n",
      "Looking in indexes: https://pypi.org/simple, https://us-python.pkg.dev/colab-wheels/public/simple/\n",
      "Collecting en-core-web-sm==3.4.1\n",
      "  Downloading https://github.com/explosion/spacy-models/releases/download/en_core_web_sm-3.4.1/en_core_web_sm-3.4.1-py3-none-any.whl (12.8 MB)\n",
      "\u001B[2K     \u001B[90m━━━━━━━━━━━━━━━━━━━━━━━━━━━━━━━━━━━━━━━━\u001B[0m \u001B[32m12.8/12.8 MB\u001B[0m \u001B[31m39.8 MB/s\u001B[0m eta \u001B[36m0:00:00\u001B[0m\n",
      "\u001B[?25hRequirement already satisfied: spacy<3.5.0,>=3.4.0 in /usr/local/lib/python3.8/dist-packages (from en-core-web-sm==3.4.1) (3.4.4)\n",
      "Requirement already satisfied: catalogue<2.1.0,>=2.0.6 in /usr/local/lib/python3.8/dist-packages (from spacy<3.5.0,>=3.4.0->en-core-web-sm==3.4.1) (2.0.8)\n",
      "Requirement already satisfied: tqdm<5.0.0,>=4.38.0 in /usr/local/lib/python3.8/dist-packages (from spacy<3.5.0,>=3.4.0->en-core-web-sm==3.4.1) (4.64.1)\n",
      "Requirement already satisfied: murmurhash<1.1.0,>=0.28.0 in /usr/local/lib/python3.8/dist-packages (from spacy<3.5.0,>=3.4.0->en-core-web-sm==3.4.1) (1.0.9)\n",
      "Requirement already satisfied: requests<3.0.0,>=2.13.0 in /usr/local/lib/python3.8/dist-packages (from spacy<3.5.0,>=3.4.0->en-core-web-sm==3.4.1) (2.25.1)\n",
      "Requirement already satisfied: srsly<3.0.0,>=2.4.3 in /usr/local/lib/python3.8/dist-packages (from spacy<3.5.0,>=3.4.0->en-core-web-sm==3.4.1) (2.4.5)\n",
      "Requirement already satisfied: smart-open<7.0.0,>=5.2.1 in /usr/local/lib/python3.8/dist-packages (from spacy<3.5.0,>=3.4.0->en-core-web-sm==3.4.1) (6.3.0)\n",
      "Requirement already satisfied: pydantic!=1.8,!=1.8.1,<1.11.0,>=1.7.4 in /usr/local/lib/python3.8/dist-packages (from spacy<3.5.0,>=3.4.0->en-core-web-sm==3.4.1) (1.10.5)\n",
      "Requirement already satisfied: setuptools in /usr/local/lib/python3.8/dist-packages (from spacy<3.5.0,>=3.4.0->en-core-web-sm==3.4.1) (57.4.0)\n",
      "Requirement already satisfied: wasabi<1.1.0,>=0.9.1 in /usr/local/lib/python3.8/dist-packages (from spacy<3.5.0,>=3.4.0->en-core-web-sm==3.4.1) (0.10.1)\n",
      "Requirement already satisfied: jinja2 in /usr/local/lib/python3.8/dist-packages (from spacy<3.5.0,>=3.4.0->en-core-web-sm==3.4.1) (3.1.2)\n",
      "Requirement already satisfied: preshed<3.1.0,>=3.0.2 in /usr/local/lib/python3.8/dist-packages (from spacy<3.5.0,>=3.4.0->en-core-web-sm==3.4.1) (3.0.8)\n",
      "Requirement already satisfied: typer<0.8.0,>=0.3.0 in /usr/local/lib/python3.8/dist-packages (from spacy<3.5.0,>=3.4.0->en-core-web-sm==3.4.1) (0.7.0)\n",
      "Requirement already satisfied: spacy-legacy<3.1.0,>=3.0.10 in /usr/local/lib/python3.8/dist-packages (from spacy<3.5.0,>=3.4.0->en-core-web-sm==3.4.1) (3.0.12)\n",
      "Requirement already satisfied: pathy>=0.3.5 in /usr/local/lib/python3.8/dist-packages (from spacy<3.5.0,>=3.4.0->en-core-web-sm==3.4.1) (0.10.1)\n",
      "Requirement already satisfied: spacy-loggers<2.0.0,>=1.0.0 in /usr/local/lib/python3.8/dist-packages (from spacy<3.5.0,>=3.4.0->en-core-web-sm==3.4.1) (1.0.4)\n",
      "Requirement already satisfied: langcodes<4.0.0,>=3.2.0 in /usr/local/lib/python3.8/dist-packages (from spacy<3.5.0,>=3.4.0->en-core-web-sm==3.4.1) (3.3.0)\n",
      "Requirement already satisfied: cymem<2.1.0,>=2.0.2 in /usr/local/lib/python3.8/dist-packages (from spacy<3.5.0,>=3.4.0->en-core-web-sm==3.4.1) (2.0.7)\n",
      "Requirement already satisfied: packaging>=20.0 in /usr/local/lib/python3.8/dist-packages (from spacy<3.5.0,>=3.4.0->en-core-web-sm==3.4.1) (23.0)\n",
      "Requirement already satisfied: numpy>=1.15.0 in /usr/local/lib/python3.8/dist-packages (from spacy<3.5.0,>=3.4.0->en-core-web-sm==3.4.1) (1.22.4)\n",
      "Requirement already satisfied: thinc<8.2.0,>=8.1.0 in /usr/local/lib/python3.8/dist-packages (from spacy<3.5.0,>=3.4.0->en-core-web-sm==3.4.1) (8.1.7)\n",
      "Requirement already satisfied: typing-extensions>=4.2.0 in /usr/local/lib/python3.8/dist-packages (from pydantic!=1.8,!=1.8.1,<1.11.0,>=1.7.4->spacy<3.5.0,>=3.4.0->en-core-web-sm==3.4.1) (4.5.0)\n",
      "Requirement already satisfied: urllib3<1.27,>=1.21.1 in /usr/local/lib/python3.8/dist-packages (from requests<3.0.0,>=2.13.0->spacy<3.5.0,>=3.4.0->en-core-web-sm==3.4.1) (1.26.14)\n",
      "Requirement already satisfied: certifi>=2017.4.17 in /usr/local/lib/python3.8/dist-packages (from requests<3.0.0,>=2.13.0->spacy<3.5.0,>=3.4.0->en-core-web-sm==3.4.1) (2022.12.7)\n",
      "Requirement already satisfied: chardet<5,>=3.0.2 in /usr/local/lib/python3.8/dist-packages (from requests<3.0.0,>=2.13.0->spacy<3.5.0,>=3.4.0->en-core-web-sm==3.4.1) (4.0.0)\n",
      "Requirement already satisfied: idna<3,>=2.5 in /usr/local/lib/python3.8/dist-packages (from requests<3.0.0,>=2.13.0->spacy<3.5.0,>=3.4.0->en-core-web-sm==3.4.1) (2.10)\n",
      "Requirement already satisfied: blis<0.8.0,>=0.7.8 in /usr/local/lib/python3.8/dist-packages (from thinc<8.2.0,>=8.1.0->spacy<3.5.0,>=3.4.0->en-core-web-sm==3.4.1) (0.7.9)\n",
      "Requirement already satisfied: confection<1.0.0,>=0.0.1 in /usr/local/lib/python3.8/dist-packages (from thinc<8.2.0,>=8.1.0->spacy<3.5.0,>=3.4.0->en-core-web-sm==3.4.1) (0.0.4)\n",
      "Requirement already satisfied: click<9.0.0,>=7.1.1 in /usr/local/lib/python3.8/dist-packages (from typer<0.8.0,>=0.3.0->spacy<3.5.0,>=3.4.0->en-core-web-sm==3.4.1) (8.1.3)\n",
      "Requirement already satisfied: MarkupSafe>=2.0 in /usr/local/lib/python3.8/dist-packages (from jinja2->spacy<3.5.0,>=3.4.0->en-core-web-sm==3.4.1) (2.1.2)\n",
      "\u001B[38;5;2m✔ Download and installation successful\u001B[0m\n",
      "You can now load the package via spacy.load('en_core_web_sm')\n"
     ]
    }
   ],
   "source": [
    "! python -m spacy download en_core_web_sm"
   ]
  },
  {
   "cell_type": "code",
   "execution_count": 34,
   "metadata": {
    "colab": {
     "base_uri": "https://localhost:8080/"
    },
    "id": "bPHXLGa0Vkzz",
    "outputId": "c26e6512-6856-4b46-c25e-7fd89f939b6b",
    "executionInfo": {
     "status": "ok",
     "timestamp": 1677627312563,
     "user_tz": -120,
     "elapsed": 15729,
     "user": {
      "displayName": "MIRUNA-ANDREEA ZAVELCA",
      "userId": "12692883064275182332"
     }
    }
   },
   "outputs": [
    {
     "output_type": "stream",
     "name": "stderr",
     "text": [
      "/usr/local/lib/python3.8/dist-packages/torch/cuda/__init__.py:497: UserWarning: Can't initialize NVML\n",
      "  warnings.warn(\"Can't initialize NVML\")\n"
     ]
    },
    {
     "output_type": "stream",
     "name": "stdout",
     "text": [
      "326\n",
      "{'whereupon', 'my', 'beyond', 'to', 'serious', 'mostly', 'has', 'say', 'would', \"'d\", 'put', 'wherever', 'on', 'been', 'namely', 'beside', 'around', 'very', 'among', '‘re', 'seems', 'above', 'most', 'much', 'together', 'sixty', 'the', 'yours', 'where', 'he', 'call', 'twelve', 'whatever', 'get', 'seem', 'forty', 'since', 'therein', 'n’t', 'how', 'really', 'anything', 'see', 'already', 'indeed', 'are', 'amount', 'move', 'often', '’ll', 'through', \"'ll\", 'per', 'others', 'never', 'hereupon', 'via', 'alone', 'someone', 'until', 'whereby', 'us', 'nowhere', 'seeming', 'four', 'does', 'might', 'can', 'if', 'me', 'along', 'was', 'next', 'otherwise', 'six', 'once', 'something', 'will', 'when', 'under', 'anyone', 'latter', 'have', 'about', 'may', 'upon', 'many', 'regarding', 'yourselves', 'perhaps', 'hers', 'another', 'unless', 'during', 'still', 'do', 'between', 'last', 'an', 'became', 'hereby', 'after', 'least', 'other', 'n‘t', 'towards', 'anyway', '’m', 'am', 'seemed', '‘ll', 'ourselves', 'below', 'our', 'thence', 'fifteen', 'using', 'behind', 'keep', 'no', 'well', 'also', 'than', 'we', 'with', 'without', 'everyone', 'everything', 'somewhere', 'who', 'ten', 'too', 'hereafter', 'now', 'his', 'again', 'there', 'why', 'everywhere', 'nobody', 'them', 'however', '’s', 'please', 'various', 'should', 'used', 'nor', 'eight', 'but', 'one', 'by', 'front', 'whether', 'eleven', 'your', 'beforehand', 'formerly', 'full', 'part', 'i', 'anyhow', 'which', 'what', 'empty', 'ca', 'former', 'thereby', 'down', 'off', 'or', 'else', 'elsewhere', 'those', 'whole', 'whose', 'some', 'few', 'meanwhile', 'did', 'only', 'each', 'always', \"n't\", 'somehow', 'before', 'yourself', 'her', 'therefore', 'himself', 'made', 'go', 'three', 'not', 'nothing', 'bottom', 'must', 'him', 'whenever', '’ve', 'thereafter', 'enough', 'herein', 'ever', 'give', 'thru', 'it', 'anywhere', 'same', '‘ve', 'own', 'they', 'from', 'across', 'side', 'further', 'over', 'third', \"'s\", 'its', 'is', 'name', 'myself', 'all', 'toward', 'whom', 'just', 'in', 'nine', 'had', 'top', 'rather', 'of', '’d', 'you', 'sometime', 'ours', 'more', 'nevertheless', 'being', 'here', 'their', 'and', \"'re\", 'first', 'five', 'as', 'doing', 'because', 'whoever', 'afterwards', 'any', 'moreover', 'these', 'yet', 'itself', 'out', 'that', 'neither', \"'m\", 'done', 'throughout', 'become', 'back', 'twenty', 'cannot', 'a', 'thus', 'against', 'wherein', 'none', 'onto', 'then', 'thereupon', 'for', '‘s', 'even', 'quite', 'hence', 'were', '‘d', 'although', 'two', 'be', 'whither', 'into', 'show', 'whereafter', 'less', 'besides', 'mine', 'latterly', 'both', 'several', 'within', 'either', 'make', 'at', '‘m', 'she', 'up', 'hundred', '’re', 'themselves', 'fifty', 'noone', 'such', 'becomes', 'could', \"'ve\", 'so', 'while', 'whereas', 'amongst', 'though', 'except', 'becoming', 'sometimes', 'this', 'almost', 'whence', 'due', 'take', 're', 'herself', 'every'}\n"
     ]
    }
   ],
   "source": [
    "import spacy\n",
    "nlp = spacy.load('en_core_web_sm')\n",
    "stop_words_spacy = nlp.Defaults.stop_words\n",
    "print(len(stop_words_spacy))\n",
    "print(stop_words_spacy)"
   ]
  },
  {
   "cell_type": "code",
   "execution_count": 35,
   "metadata": {
    "colab": {
     "base_uri": "https://localhost:8080/"
    },
    "id": "osjomF35VqTd",
    "outputId": "354b6c5c-61d9-4287-bdf5-cc1ea6a514c5",
    "executionInfo": {
     "status": "ok",
     "timestamp": 1677627312564,
     "user_tz": -120,
     "elapsed": 20,
     "user": {
      "displayName": "MIRUNA-ANDREEA ZAVELCA",
      "userId": "12692883064275182332"
     }
    }
   },
   "outputs": [
    {
     "output_type": "execute_result",
     "data": {
      "text/plain": [
       "['dang',\n",
       " 'rad',\n",
       " 'cheers',\n",
       " 'massive',\n",
       " 'congrats',\n",
       " 'niamh',\n",
       " 'fennell',\n",
       " 'journalism',\n",
       " 'graduate',\n",
       " 'lands']"
      ]
     },
     "metadata": {},
     "execution_count": 35
    }
   ],
   "source": [
    "all_words_without_stops = [word for word in all_words if word not in stop_words_spacy]\n",
    "all_words_without_stops[:10]"
   ]
  },
  {
   "cell_type": "markdown",
   "metadata": {
    "id": "8Oenw_Uhxw31"
   },
   "source": [
    "Putem vizualiza distributia stopwords-urilor folosind matplolib sau wordcloud."
   ]
  },
  {
   "cell_type": "code",
   "execution_count": 36,
   "metadata": {
    "id": "NDF2bRh6xxYv",
    "executionInfo": {
     "status": "ok",
     "timestamp": 1677627312564,
     "user_tz": -120,
     "elapsed": 17,
     "user": {
      "displayName": "MIRUNA-ANDREEA ZAVELCA",
      "userId": "12692883064275182332"
     }
    }
   },
   "outputs": [],
   "source": [
    "import matplotlib.pyplot as plt\n",
    "import numpy as np"
   ]
  },
  {
   "cell_type": "code",
   "execution_count": 37,
   "metadata": {
    "colab": {
     "base_uri": "https://localhost:8080/",
     "height": 586
    },
    "id": "_tmNf1g3TWl_",
    "outputId": "ccbc8a95-d17a-4687-deed-b7fa267e8570",
    "executionInfo": {
     "status": "ok",
     "timestamp": 1677627313554,
     "user_tz": -120,
     "elapsed": 1006,
     "user": {
      "displayName": "MIRUNA-ANDREEA ZAVELCA",
      "userId": "12692883064275182332"
     }
    }
   },
   "outputs": [
    {
     "output_type": "display_data",
     "data": {
      "text/plain": [
       "<Figure size 1800x720 with 1 Axes>"
      ],
      "image/png": "[encoded data removed]"
     },
     "metadata": {
      "needs_background": "light"
     }
    }
   ],
   "source": [
    "tweets_stopwords = [word for word in all_words if word in stop_words_spacy]\n",
    "values, frequencies = np.unique(tweets_stopwords, return_counts=True)\n",
    "stopwords_dict = {value: freq for value, freq in zip(values, frequencies)}\n",
    "\n",
    "plt.figure(figsize=(25, 10))\n",
    "plt.bar(values, frequencies, orientation='vertical')\n",
    "plt.show()"
   ]
  },
  {
   "cell_type": "code",
   "execution_count": 38,
   "metadata": {
    "id": "LVd4-qbi0_fO",
    "colab": {
     "base_uri": "https://localhost:8080/"
    },
    "executionInfo": {
     "status": "ok",
     "timestamp": 1677627328735,
     "user_tz": -120,
     "elapsed": 9802,
     "user": {
      "displayName": "MIRUNA-ANDREEA ZAVELCA",
      "userId": "12692883064275182332"
     }
    },
    "outputId": "f8a5156e-532e-4152-a262-a2e34c9f8757"
   },
   "outputs": [
    {
     "output_type": "stream",
     "name": "stdout",
     "text": [
      "Looking in indexes: https://pypi.org/simple, https://us-python.pkg.dev/colab-wheels/public/simple/\n",
      "Requirement already satisfied: wordcloud in /usr/local/lib/python3.8/dist-packages (1.8.2.2)\n",
      "Requirement already satisfied: numpy>=1.6.1 in /usr/local/lib/python3.8/dist-packages (from wordcloud) (1.22.4)\n",
      "Requirement already satisfied: matplotlib in /usr/local/lib/python3.8/dist-packages (from wordcloud) (3.5.3)\n",
      "Requirement already satisfied: pillow in /usr/local/lib/python3.8/dist-packages (from wordcloud) (8.4.0)\n",
      "Requirement already satisfied: fonttools>=4.22.0 in /usr/local/lib/python3.8/dist-packages (from matplotlib->wordcloud) (4.38.0)\n",
      "Requirement already satisfied: kiwisolver>=1.0.1 in /usr/local/lib/python3.8/dist-packages (from matplotlib->wordcloud) (1.4.4)\n",
      "Requirement already satisfied: cycler>=0.10 in /usr/local/lib/python3.8/dist-packages (from matplotlib->wordcloud) (0.11.0)\n",
      "Requirement already satisfied: python-dateutil>=2.7 in /usr/local/lib/python3.8/dist-packages (from matplotlib->wordcloud) (2.8.2)\n",
      "Requirement already satisfied: packaging>=20.0 in /usr/local/lib/python3.8/dist-packages (from matplotlib->wordcloud) (23.0)\n",
      "Requirement already satisfied: pyparsing>=2.2.1 in /usr/local/lib/python3.8/dist-packages (from matplotlib->wordcloud) (3.0.9)\n",
      "Requirement already satisfied: six>=1.5 in /usr/local/lib/python3.8/dist-packages (from python-dateutil>=2.7->matplotlib->wordcloud) (1.15.0)\n"
     ]
    }
   ],
   "source": [
    "!pip install wordcloud"
   ]
  },
  {
   "cell_type": "code",
   "execution_count": 39,
   "metadata": {
    "colab": {
     "base_uri": "https://localhost:8080/",
     "height": 449
    },
    "id": "g39Nkrwm0Tbr",
    "outputId": "69ce80fe-0036-4a02-f72c-c10dac0c0bc1",
    "executionInfo": {
     "status": "ok",
     "timestamp": 1677627329909,
     "user_tz": -120,
     "elapsed": 1186,
     "user": {
      "displayName": "MIRUNA-ANDREEA ZAVELCA",
      "userId": "12692883064275182332"
     }
    }
   },
   "outputs": [
    {
     "output_type": "display_data",
     "data": {
      "text/plain": [
       "<Figure size 1080x720 with 1 Axes>"
      ],
      "image/png": "[encoded data removed]"
     },
     "metadata": {
      "needs_background": "light"
     }
    }
   ],
   "source": [
    "from wordcloud import WordCloud\n",
    "wordcloud = WordCloud(max_font_size=50, max_words=1000, background_color=\"white\")\n",
    "wordcloud_picture = wordcloud.generate_from_frequencies(stopwords_dict)\n",
    "\n",
    "plt.figure(figsize=(15, 10))\n",
    "plt.imshow(wordcloud, interpolation='bilinear')\n",
    "plt.axis('off')\n",
    "plt.show()"
   ]
  },
  {
   "cell_type": "markdown",
   "metadata": {
    "id": "BUbSWMrXVsFU"
   },
   "source": [
    "### Lematizare/Stemming\n",
    "\n",
    "Au rolul de a elimina inflexiunile cuvintelor: acele caractere care pot ingloba:\n",
    "- persoana unui verb, in romana: voi cauta**ți** - persoana a2a plural\n",
    "- timpul unui verb, in romana: voi cauta**seră**ți - mai mult ca perfectul\n",
    "- etc."
   ]
  },
  {
   "cell_type": "markdown",
   "metadata": {
    "id": "5IgxY-nAVvai"
   },
   "source": [
    "![1_HLQgkMt5-g5WO5VpNuTl_g.jpeg](https://miro.medium.com/max/564/1*HLQgkMt5-g5WO5VpNuTl_g.jpeg)"
   ]
  },
  {
   "cell_type": "markdown",
   "metadata": {
    "id": "Zgx71FdXStx7"
   },
   "source": [
    "## Lematizarea\n",
    "Aduce cuvintele la forma lor din dictionar.\n",
    "\n",
    "\"Lemmatization is the process where we take individual tokens from a sentence and we try to reduce them to their base form. The process that makes this possible is having a vocabulary and performing morphological analysis to remove inflectional endings. The output of the lemmatization process (as shown in the figure above) is the lemma or the base form of the word. For instance, a lemmatization process reduces the inflections, \"am\", \"are\", and \"is\", to the base form, \"be\". Take a look at the figure above for a full example and try to understand what it's doing.\n",
    "\n",
    "Lemmatization is helpful for normalizing text for text classification tasks or search engines, and a variety of other NLP tasks such as sentiment classification. It is particularly important when dealing with complex languages like Arabic and Spanish.\" ([sursa](https://colab.research.google.com/github/dair-ai/notebooks/blob/master/_notebooks/2020-03-19-nlp_basics_tokenization_segmentation.ipynb#scrollTo=dcaLqxPX5CJa))\n",
    "\n",
    "## Pros:\n",
    "- rezultatele sunt cuvinte existente in limba\n",
    "\n",
    "## Cons\n",
    "- procesul de cautare poate fi costisitor dpdv. computational\n",
    "- limba este intr-o continua evolutie, iar de cele mai multe ori, dictionarele nu \"tin pasul\" cu toate cuvintele noi aparute sau imprumutate\n",
    "\n",
    "## Stemming\n",
    "Aplica algoiritmi ce folosesc automate finite (remember LFA). Multe dintre ele sunt scrise in limbajul [Snowball](http://snowball.tartarus.org/).\n",
    "\n",
    "\"Stemming is just a simpler version of lemmatization where we are interested in stripping the suffix at the end of the word. When stemming we are interesting in reducing the inflected or derived word to it's base form. Take a look at the figure above to get some intuition about the process.\n",
    "\n",
    "Both the stemming and the lemmatization processes involve morphological analysis where the stems and affixes (called the morphemes) are extracted and used to reduce inflections to their base form. For instance, the word cats has two morphemes, cat and s, the cat being the stem and the s being the affix representing plurality.\" ([sursa](https://colab.research.google.com/github/dair-ai/notebooks/blob/master/_notebooks/2020-03-19-nlp_basics_tokenization_segmentation.ipynb#scrollTo=dcaLqxPX5CJa))\n",
    "\n",
    "## Pros:\n",
    "- este mai rapida ca lematizarea\n",
    "- se adapteaza mai usor la cuvinte noi aparute in limba\n",
    "\n",
    "## Cons\n",
    "- rezultatele nu sunt intotdeauna, cuvinte existente in limba\n"
   ]
  },
  {
   "cell_type": "code",
   "execution_count": 40,
   "metadata": {
    "colab": {
     "base_uri": "https://localhost:8080/"
    },
    "id": "xp-zkrcdV2B9",
    "outputId": "21943c97-8211-4c8f-9ed0-c465c28d3ab5",
    "executionInfo": {
     "status": "ok",
     "timestamp": 1677627397222,
     "user_tz": -120,
     "elapsed": 216,
     "user": {
      "displayName": "MIRUNA-ANDREEA ZAVELCA",
      "userId": "12692883064275182332"
     }
    }
   },
   "outputs": [
    {
     "output_type": "stream",
     "name": "stdout",
     "text": [
      "Apples => apple\n",
      "and => and\n",
      "oranges => orange\n",
      "are => be\n",
      "similar => similar\n",
      "boots => boot\n",
      "and => and\n",
      "hippos => hippos\n",
      "are => be\n",
      "n't => not\n"
     ]
    }
   ],
   "source": [
    "doc = nlp(\"Apples and oranges are similar boots and hippos aren't\")\n",
    "for word in doc:\n",
    "    print(word, '=>', word.lemma_)"
   ]
  },
  {
   "cell_type": "code",
   "execution_count": 41,
   "metadata": {
    "colab": {
     "base_uri": "https://localhost:8080/"
    },
    "id": "JzFUBINBSybR",
    "outputId": "51f1e811-0d76-4dd3-d5b0-a0be61d14168",
    "executionInfo": {
     "status": "ok",
     "timestamp": 1677627417509,
     "user_tz": -120,
     "elapsed": 311,
     "user": {
      "displayName": "MIRUNA-ANDREEA ZAVELCA",
      "userId": "12692883064275182332"
     }
    }
   },
   "outputs": [
    {
     "output_type": "stream",
     "name": "stdout",
     "text": [
      "I => i\n",
      "prefer => prefer\n",
      "not => not\n",
      "to => to\n",
      "argue => argu\n"
     ]
    }
   ],
   "source": [
    "# spaCy doesn't support stemming so for this part we are going to use NLTK, which is another fantastic Python NLP library.\n",
    "from nltk.stem.snowball import SnowballStemmer\n",
    "\n",
    "stemmer = SnowballStemmer(language='english')\n",
    "doc = 'I prefer not to argue'\n",
    "for token in doc.split(\" \"):\n",
    "    print(token, '=>' , stemmer.stem(token))"
   ]
  },
  {
   "cell_type": "markdown",
   "metadata": {
    "id": "UNYz-8XPOlm7"
   },
   "source": [
    "Pentru procesarea datelor din social media putem folosi și librării dedicate, cum ar fi `Preprocessor`: https://github.com/s/preprocessor"
   ]
  },
  {
   "cell_type": "markdown",
   "metadata": {
    "id": "FRqdyJYsS4dZ"
   },
   "source": [
    "Collocations: in functie de context, putem analiza din toate n-gramele (de cuvinte sau caractere) cel mai probabile sa apara impreuna.\n",
    "\n",
    "Exemlu: bigrama - pereche de cuvinte cu sanse mari sa coexiste:\n",
    "('Jegar', 'Sahadutha'), ('Salt', 'Sea'), ('aromatic', 'resin').\n",
    "\n",
    "Putem aplica cateva functii din pachetul [collocations](https://www.nltk.org/howto/collocations.html) pe cuvintele gasite pe twitter, pentru a gasi top 15 bigrame folosind [Pointwise Mutual Information](https://en.wikipedia.org/wiki/Pointwise_mutual_information)."
   ]
  },
  {
   "cell_type": "code",
   "execution_count": null,
   "metadata": {
    "colab": {
     "base_uri": "https://localhost:8080/"
    },
    "id": "-ZNzug2iS7tV",
    "outputId": "7bfa58fc-ebfd-4ca4-bd7e-61c16157c571",
    "executionInfo": {
     "status": "ok",
     "timestamp": 1677627450993,
     "user_tz": -120,
     "elapsed": 259,
     "user": {
      "displayName": "MIRUNA-ANDREEA ZAVELCA",
      "userId": "12692883064275182332"
     }
    },
    "pycharm": {
     "is_executing": true
    }
   },
   "outputs": [],
   "source": [
    "from nltk.collocations import BigramAssocMeasures, BigramCollocationFinder\n",
    "bigram_measures = BigramAssocMeasures()\n",
    "colloc_founder = BigramCollocationFinder.from_words(all_words)\n",
    "\n",
    "bigram_results = colloc_founder.nbest(bigram_measures.pmi, 15)\n",
    "bigram_results"
   ]
  },
  {
   "cell_type": "markdown",
   "metadata": {
    "id": "C2fNsFHSwAhU"
   },
   "source": [
    "## Unidecode \n",
    "Aduce caracterele utf8 la cea mai apropiata forma ASCII a lor. Este utila atat  pentru inlocuirea diacriticilor limbii romane, cat si pentru a gasi un echivalent pentru 'romanizarea' caracterele asiatice (desi obtine rezultate diferite de Hepburn)."
   ]
  },
  {
   "cell_type": "code",
   "execution_count": 43,
   "metadata": {
    "colab": {
     "base_uri": "https://localhost:8080/"
    },
    "id": "u5BIgaTjvwwt",
    "outputId": "ca01c345-5229-4836-f6a0-ea1fb977c10b",
    "executionInfo": {
     "status": "ok",
     "timestamp": 1677627466282,
     "user_tz": -120,
     "elapsed": 6020,
     "user": {
      "displayName": "MIRUNA-ANDREEA ZAVELCA",
      "userId": "12692883064275182332"
     }
    }
   },
   "outputs": [
    {
     "output_type": "stream",
     "name": "stdout",
     "text": [
      "Looking in indexes: https://pypi.org/simple, https://us-python.pkg.dev/colab-wheels/public/simple/\n",
      "Collecting Unidecode\n",
      "  Downloading Unidecode-1.3.6-py3-none-any.whl (235 kB)\n",
      "\u001B[2K     \u001B[90m━━━━━━━━━━━━━━━━━━━━━━━━━━━━━━━━━━━━━━\u001B[0m \u001B[32m235.9/235.9 KB\u001B[0m \u001B[31m15.0 MB/s\u001B[0m eta \u001B[36m0:00:00\u001B[0m\n",
      "\u001B[?25hInstalling collected packages: Unidecode\n",
      "Successfully installed Unidecode-1.3.6\n"
     ]
    }
   ],
   "source": [
    "!pip install Unidecode"
   ]
  },
  {
   "cell_type": "code",
   "execution_count": 44,
   "metadata": {
    "colab": {
     "base_uri": "https://localhost:8080/",
     "height": 36
    },
    "id": "T4s4gTk5TdEm",
    "outputId": "2e19a414-ddcb-4b24-b183-a438e05c13de",
    "executionInfo": {
     "status": "ok",
     "timestamp": 1677627466283,
     "user_tz": -120,
     "elapsed": 20,
     "user": {
      "displayName": "MIRUNA-ANDREEA ZAVELCA",
      "userId": "12692883064275182332"
     }
    }
   },
   "outputs": [
    {
     "output_type": "execute_result",
     "data": {
      "text/plain": [
       "'Lenesul mai mult alearga, scumpul mai mult pagubeste'"
      ],
      "application/vnd.google.colaboratory.intrinsic+json": {
       "type": "string"
      }
     },
     "metadata": {},
     "execution_count": 44
    }
   ],
   "source": [
    "from unidecode import unidecode\n",
    "unidecode('Leneşul mai mult aleargă, scumpul mai mult păgubeşte')"
   ]
  },
  {
   "cell_type": "code",
   "execution_count": 45,
   "metadata": {
    "colab": {
     "base_uri": "https://localhost:8080/",
     "height": 36
    },
    "id": "EByAQYdDwZmc",
    "outputId": "84b02383-b478-413a-c462-afb462cfc9ae",
    "executionInfo": {
     "status": "ok",
     "timestamp": 1677627466283,
     "user_tz": -120,
     "elapsed": 18,
     "user": {
      "displayName": "MIRUNA-ANDREEA ZAVELCA",
      "userId": "12692883064275182332"
     }
    }
   },
   "outputs": [
    {
     "output_type": "execute_result",
     "data": {
      "text/plain": [
       "'Bei Jing '"
      ],
      "application/vnd.google.colaboratory.intrinsic+json": {
       "type": "string"
      }
     },
     "metadata": {},
     "execution_count": 45
    }
   ],
   "source": [
    "unidecode('北京')"
   ]
  },
  {
   "cell_type": "markdown",
   "metadata": {
    "id": "fESW_eHdTEL9"
   },
   "source": [
    "# TASK:\n",
    "\n",
    "###Deadline: 19 martie ora 23:59.\n",
    "###Formular pentru trimiterea temei: https://forms.gle/pvzHYacYCGfFqcy46.\n",
    "\n",
    "\n",
    "Folosind datasetul urmator, https://github.com/ancatache/LaRoSeDa/tree/main/data - o colectie de review-uri pentru produse in romana, rezolvati urmatoarele cerinte:"
   ]
  },
  {
   "cell_type": "markdown",
   "metadata": {
    "id": "XTPecjhoTEAJ"
   },
   "source": [
    "1. Curatati si normalizati corpus-ul aplicand urmatoarele operatiii:\n",
    "\n",
    "    a) afisati caracterele diferite de literele mici ale alfabetului englez\n",
    "\n",
    "    b) transformati numerele in cuvinte folosind num2words   \n",
    "\n",
    "    c) eliminati linkurile si alte referinte\n",
    "\n",
    "    d) curatati-l de semnele de punctuatie\n",
    "\n",
    "    e) impartiti textele in cuvinte (tokens), va recomandam sa folositi `spacy` incarcand unul din modelele pentru limba romana (https://spacy.io/models/ro)\n",
    "\n",
    "    f) eliminati stopwords  \n",
    "\n",
    "    g) aplicati stemming  \n",
    "\n",
    "    h) aplicati lematizare peste cuvintele obtinute la punctul f. Comparand cu rezultatele de la punctul g, afisati top 15 cuvinte pentru care stemul este diferit de lema, sortate descrescator dupa numarul de caractere prin care stemul difera de lema.\n",
    "\n",
    "    i) cautati top 20 trigrame (collocations)\n",
    "\n",
    "\n",
    "2. Calculati frecventele de aparitie ale fiecarui token la punctul e) si punctul g). Plotati-le cum doriti, prin wordcloud sau plotbar. Ce diferente observati? (intrucat numarul de cuvinte distincte poate fi mare, puteti plota informatii doar despre cele mai frecvente N cuvinte)\n",
    "\n",
    "\n",
    "3. Plotati distributia numarului de tokens per review (nr. de reviews vs. nr. de tokens), atat pentru review-urile negative, cat si, separat, pentru cele pozitive. Ce observati?"
   ]
  },
  {
   "cell_type": "code",
   "execution_count": null,
   "outputs": [],
   "source": [
    "import json"
   ],
   "metadata": {
    "collapsed": false,
    "pycharm": {
     "is_executing": true
    }
   }
  },
  {
   "cell_type": "code",
   "execution_count": null,
   "outputs": [],
   "source": [
    "with open(\"positive_reviews.json\", \"r\") as file:\n",
    "    positive_reviews = json.loads(file.read())\n",
    "\n",
    "with open(\"negative_reviews.json\", \"r\") as file:\n",
    "    negative_reviews = json.loads(file.read())"
   ],
   "metadata": {
    "collapsed": false,
    "pycharm": {
     "is_executing": true
    }
   }
  },
  {
   "cell_type": "markdown",
   "source": [
    "## Ex 1"
   ],
   "metadata": {
    "collapsed": false
   }
  },
  {
   "cell_type": "code",
   "execution_count": null,
   "metadata": {
    "id": "i1WBKZ7ZcOd6",
    "pycharm": {
     "is_executing": true
    }
   },
   "outputs": [],
   "source": [
    "# a)\n",
    "\n",
    "for review in positive_reviews['reviews']:\n",
    "    print(re.sub(r'[a-z\\s\\n', '', review['content']))\n",
    "\n",
    "print(\"andreea\")"
   ]
  }
 ],
 "metadata": {
  "colab": {
   "provenance": []
  },
  "kernelspec": {
   "display_name": "lab-nlp-an3",
   "language": "python",
   "name": "lab-nlp-an3"
  },
  "language_info": {
   "codemirror_mode": {
    "name": "ipython",
    "version": 3
   },
   "file_extension": ".py",
   "mimetype": "text/x-python",
   "name": "python",
   "nbconvert_exporter": "python",
   "pygments_lexer": "ipython3",
   "version": "3.8.10"
  }
 },
 "nbformat": 4,
 "nbformat_minor": 0
}
