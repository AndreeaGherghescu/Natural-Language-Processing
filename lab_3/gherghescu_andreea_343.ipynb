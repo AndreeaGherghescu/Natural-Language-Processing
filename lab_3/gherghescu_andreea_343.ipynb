{
 "cells": [
  {
   "cell_type": "code",
   "execution_count": 63,
   "metadata": {
    "collapsed": true
   },
   "outputs": [],
   "source": [
    "import json\n",
    "from nltk.stem.snowball import SnowballStemmer\n",
    "import re\n",
    "import string\n",
    "import spacy\n",
    "import numpy as np\n",
    "from sklearn import preprocessing, metrics\n",
    "from sklearn.feature_extraction.text import CountVectorizer\n",
    "from sklearn.model_selection import train_test_split\n",
    "import matplotlib.pyplot as plt\n",
    "import seaborn as sns"
   ]
  },
  {
   "cell_type": "markdown",
   "source": [
    "1. (opțional) Întrucît setul de date conține multe categorii, puteți păstra doar exemple din 4-5 clase (selectate de voi) și să rezolvați problema de clasificare doar pentru aceste exemple."
   ],
   "metadata": {
    "collapsed": false
   }
  },
  {
   "cell_type": "code",
   "execution_count": 4,
   "outputs": [],
   "source": [
    "categories = ['SPORTS', 'BLACK VOICES', 'PARENTS', 'COMEDY', 'BUSINESS']\n",
    "cat_list = []\n",
    "with open (\"News_Category_Dataset_v3.json\", \"r\") as file:\n",
    "    while True:\n",
    "        line = file.readline()\n",
    "        if line is None or line == '':\n",
    "            break\n",
    "        json_line = json.loads(line)\n",
    "        if json_line['category'] not in categories:\n",
    "            continue\n",
    "        cat_list.append(json_line)\n",
    "\n"
   ],
   "metadata": {
    "collapsed": false
   }
  },
  {
   "cell_type": "markdown",
   "source": [
    "2. Încercați mai multe metode de preprocesare și tokenizare a textelor pentru a obține reprezentări de tip Bag-of-Words (ștergeti/nu ștergeti stop words, lematizați sau aplicați stemming, păstrați sau eliminați punctuația, normalizați folosind standardizare, L1, L2 sau Tf-Idf). Implementați **3** astfel de combinații."
   ],
   "metadata": {
    "collapsed": false
   }
  },
  {
   "cell_type": "code",
   "execution_count": 56,
   "outputs": [],
   "source": [
    "stemmer = SnowballStemmer(language='romanian')\n",
    "def stemming(word):\n",
    "    return stemmer.stem(word)\n",
    "\n",
    "\n",
    "def preprocess(word, steam=False):\n",
    "    if steam:\n",
    "        return stemming(word.lower())\n",
    "    return word.lower()\n",
    "\n",
    "\n",
    "def remove_punctuation(text):\n",
    "    return text.translate(str.maketrans('', '', string.punctuation))\n",
    "\n",
    "nlp = spacy.load(\"en_core_web_md\")\n",
    "def remove_stopwords(text):\n",
    "    no_stopwords = []\n",
    "    for token in text:\n",
    "        if token.text not in nlp.Defaults.stop_words and token.text != ' ':\n",
    "            no_stopwords.append(token)\n",
    "    return no_stopwords\n",
    "\n",
    "def lemmatization(text):\n",
    "    return [token.lemma for token in text]\n",
    "\n",
    "def tokenize(text, punctuation=False, stopwords=False, lemma=False):\n",
    "\n",
    "    text = re.sub(r'http\\S+|www\\S+', '', text)\n",
    "    if punctuation:\n",
    "        text = remove_punctuation(text)\n",
    "    text = nlp(text)\n",
    "    if stopwords:\n",
    "        text = remove_stopwords(text)\n",
    "    if lemma:\n",
    "        text = lemmatization(text)\n",
    "\n",
    "    return text\n",
    "\n",
    "\n",
    "def bow (method='1'):\n",
    "    cv = None\n",
    "    if method == '1':\n",
    "        cv = CountVectorizer(\n",
    "            preprocessor=lambda z: preprocess(z),\n",
    "            tokenizer=lambda z: tokenize(z, punctuation=True, stopwords=True, lemma=True),\n",
    "            token_pattern=None,\n",
    "            max_features=10\n",
    "        )\n",
    "    elif method == '2':\n",
    "        cv = CountVectorizer(\n",
    "            preprocessor=lambda z: preprocess(z),\n",
    "            tokenizer=lambda z: tokenize(z, punctuation=True, stopwords=False, lemma=True),\n",
    "            token_pattern=None,\n",
    "            max_features=10\n",
    "        )\n",
    "    elif method == '3':\n",
    "        cv = CountVectorizer(\n",
    "            preprocessor=lambda z: preprocess(z, True),\n",
    "            tokenizer=lambda z: tokenize(z, punctuation=True, stopwords=False, lemma=False),\n",
    "            token_pattern=None,\n",
    "            max_features=10\n",
    "        )\n",
    "\n",
    "    x, y = None, None\n",
    "    label = 0\n",
    "    for category in categories:\n",
    "        cats = [item['headline'] for item in categories[category]]\n",
    "        cv.fit(cats)\n",
    "        features = cv.transform(cats)\n",
    "\n",
    "        if method in [\"2\", \"3\"]:\n",
    "            scaler = preprocessing.Normalizer(norm=('l1' if method == \"3\" else \"l2\"))\n",
    "            scaler.fit(features)\n",
    "            features = scaler.transform(features)\n",
    "\n",
    "        features = features.toarray()\n",
    "        features = np.array(features, dtype=np.float64)\n",
    "        if x is None:\n",
    "            x = features\n",
    "        else:\n",
    "            x = np.concatenate((features, x), axis=0)\n",
    "\n",
    "        sol = [label for _ in range(features.shape[0])]\n",
    "        sol = np.array(sol)\n",
    "\n",
    "        if y is None:\n",
    "            y = sol\n",
    "        else:\n",
    "            y = np.concatenate((y, sol))\n",
    "\n",
    "        label += 1\n",
    "\n",
    "    return x, y\n",
    "\n",
    "\n",
    "categories = {}\n",
    "for item in cat_list:\n",
    "    if item['category'] not in categories:\n",
    "        categories[item['category']] = []\n",
    "    categories[item['category']].append(item)\n",
    "\n",
    "\n"
   ],
   "metadata": {
    "collapsed": false
   }
  },
  {
   "cell_type": "code",
   "execution_count": 57,
   "outputs": [
    {
     "name": "stdout",
     "output_type": "stream",
     "text": [
      "(25007, 10) (25007,)\n",
      "(25007, 10) (25007,)\n",
      "(25007, 10) (25007,)\n"
     ]
    }
   ],
   "source": [
    "x1, y1 = bow(\"1\")\n",
    "print(x1.shape, y1.shape)\n",
    "x2, y2 = bow(\"2\")\n",
    "print(x2.shape, y2.shape)\n",
    "x3, y3 = bow(\"3\")\n",
    "print(x3.shape, y3.shape)"
   ],
   "metadata": {
    "collapsed": false
   }
  },
  {
   "cell_type": "markdown",
   "source": [
    "3. Împărțiți setul de date în 80% train, 20% test, iar pentru fiecare metodă de preprocesare antrenați un model ales de voi (diferit de Decision Tree) pe datele de train.\n"
   ],
   "metadata": {
    "collapsed": false
   }
  },
  {
   "cell_type": "code",
   "execution_count": 35,
   "outputs": [],
   "source": [
    "def divide(x, y):\n",
    "    return train_test_split(x, y, test_size=0.2)"
   ],
   "metadata": {
    "collapsed": false
   }
  },
  {
   "cell_type": "markdown",
   "source": [
    "4. Evaluati modelul pe datele de test, determinând acuratețe, precizie, recall, f1, și stabiliți care metodă de procesare a textelor a adus rezultate mai bune."
   ],
   "metadata": {
    "collapsed": false
   }
  },
  {
   "cell_type": "code",
   "execution_count": 59,
   "outputs": [
    {
     "name": "stdout",
     "output_type": "stream",
     "text": [
      "Accuracy: 0.3388644542183127\n",
      "F1 (macro): 0.2884417655871533\n",
      "F1 (weighted): 0.29648302062702075\n",
      "Accuracy: 0.2946821271491403\n",
      "F1 (macro): 0.21766253132642235\n",
      "F1 (weighted): 0.2275433412193035\n",
      "Accuracy: 0.23670531787285087\n",
      "F1 (macro): 0.07655997413514389\n",
      "F1 (weighted): 0.09061076506998236\n"
     ]
    }
   ],
   "source": [
    "from sklearn.ensemble import ExtraTreesClassifier\n",
    "\n",
    "x_train1, x_test1, y_train1, y_test1 = divide(x1, y1)\n",
    "x_train2, x_test2, y_train2, y_test2 = divide(x2, y2)\n",
    "x_train3, x_test3, y_train3, y_test3 = divide(x3, y3)\n",
    "\n",
    "clsf1 = ExtraTreesClassifier(max_depth=10, n_estimators=10, max_features=10)\n",
    "clsf1.fit(x_train1, y_train1)\n",
    "y_test_predict = clsf1.predict(x_test1)\n",
    "print(\"Accuracy:\", metrics.accuracy_score(y_test1, y_test_predict))\n",
    "print(\"F1 (macro):\", metrics.f1_score(y_test1, y_test_predict, average=\"macro\"))\n",
    "print(\"F1 (weighted):\", metrics.f1_score(y_test1, y_test_predict, average=\"weighted\"))\n",
    "\n",
    "clsf2 = ExtraTreesClassifier(max_depth=5, n_estimators=10, max_features=10)\n",
    "clsf2.fit(x_train2, y_train2)\n",
    "y_test_predict = clsf2.predict(x_test2)\n",
    "print(\"Accuracy:\", metrics.accuracy_score(y_test2, y_test_predict))\n",
    "print(\"F1 (macro):\", metrics.f1_score(y_test2, y_test_predict, average=\"macro\"))\n",
    "print(\"F1 (weighted):\", metrics.f1_score(y_test2, y_test_predict, average=\"weighted\"))\n",
    "\n",
    "clsf3 = ExtraTreesClassifier(max_depth=10, n_estimators=10, max_features=10)\n",
    "clsf3.fit(x_train3, y_train3)\n",
    "y_test_predict = clsf3.predict(x_test3)\n",
    "print(\"Accuracy:\", metrics.accuracy_score(y_test3, y_test_predict))\n",
    "print(\"F1 (macro):\", metrics.f1_score(y_test3, y_test_predict, average=\"macro\"))\n",
    "print(\"F1 (weighted):\", metrics.f1_score(y_test3, y_test_predict, average=\"weighted\"))\n"
   ],
   "metadata": {
    "collapsed": false
   }
  },
  {
   "cell_type": "markdown",
   "source": [
    "Prima metoda a adus rezultatele cele mai bune."
   ],
   "metadata": {
    "collapsed": false
   }
  },
  {
   "cell_type": "markdown",
   "source": [
    "5. Determinați pentru acest caz care au fost top 10 cele mai importante feature-uri (cuvinte)."
   ],
   "metadata": {
    "collapsed": false
   }
  },
  {
   "cell_type": "code",
   "execution_count": 61,
   "outputs": [
    {
     "name": "stdout",
     "output_type": "stream",
     "text": [
      "Feature: 0, Score: 0.060650206401629866\n",
      "Feature: 1, Score: 0.09223816655617978\n",
      "Feature: 2, Score: 0.09518791430496536\n",
      "Feature: 3, Score: 0.12128710862852232\n",
      "Feature: 4, Score: 0.17857689811585903\n",
      "Feature: 5, Score: 0.09472673943971058\n",
      "Feature: 6, Score: 0.07572888622251159\n",
      "Feature: 7, Score: 0.09089418186251434\n",
      "Feature: 8, Score: 0.12112958331029255\n",
      "Feature: 9, Score: 0.06958031515781456\n"
     ]
    },
    {
     "data": {
      "text/plain": "<Figure size 640x480 with 1 Axes>",
      "image/png": "[encoded data removed]"
     },
     "metadata": {},
     "output_type": "display_data"
    }
   ],
   "source": [
    "importance = clsf1.feature_importances_\n",
    "for i,v in enumerate(importance):\n",
    "    print(f\"Feature: {i}, Score: {v}\")\n",
    "\n",
    "plt.bar([x for x in range(len(importance))], importance)\n",
    "plt.show()"
   ],
   "metadata": {
    "collapsed": false
   }
  },
  {
   "cell_type": "markdown",
   "source": [
    "6. Folosind această metodă de procesare a textelor, antrenați alte doua modele diferite la alegere și comparati performanța cu modelul original."
   ],
   "metadata": {
    "collapsed": false
   }
  },
  {
   "cell_type": "code",
   "execution_count": 62,
   "outputs": [
    {
     "name": "stdout",
     "output_type": "stream",
     "text": [
      "K Neighbors Classifier Accuracy: 0.2852858856457417\n",
      "Random Forest Classifier Accuracy: 0.3230707716913235\n"
     ]
    }
   ],
   "source": [
    "from sklearn.ensemble import RandomForestClassifier\n",
    "from sklearn.neighbors import KNeighborsClassifier\n",
    "\n",
    "knc = KNeighborsClassifier(5)\n",
    "knc.fit(x_train1, y_train1)\n",
    "y_test_predict = knc.predict(x_test1)\n",
    "print(\"K Neighbors Classifier Accuracy:\", metrics.accuracy_score(y_test1, y_test_predict))\n",
    "\n",
    "rfc = RandomForestClassifier(max_depth=5, n_estimators=10, max_features=10)\n",
    "rfc.fit(x_train1, y_train1)\n",
    "y_test_predict = rfc.predict(x_test1)\n",
    "print(\"Random Forest Classifier Accuracy:\", metrics.accuracy_score(y_test1, y_test_predict))\n"
   ],
   "metadata": {
    "collapsed": false
   }
  },
  {
   "cell_type": "markdown",
   "source": [
    "7. Pentru cel mai bun model afisați metricile la nivel de clasă (classification report) și matricea de confuzie."
   ],
   "metadata": {
    "collapsed": false
   }
  },
  {
   "cell_type": "code",
   "execution_count": 64,
   "outputs": [
    {
     "name": "stdout",
     "output_type": "stream",
     "text": [
      "              precision    recall  f1-score   support\n",
      "\n",
      "           0       0.41      0.29      0.34      1033\n",
      "           1       0.32      0.11      0.17      1009\n",
      "           2       0.30      0.80      0.43      1244\n",
      "           3       0.52      0.13      0.21       945\n",
      "           4       0.47      0.21      0.29       771\n",
      "\n",
      "    accuracy                           0.34      5002\n",
      "   macro avg       0.40      0.31      0.29      5002\n",
      "weighted avg       0.40      0.34      0.30      5002\n",
      "\n"
     ]
    },
    {
     "data": {
      "text/plain": "<Axes: >"
     },
     "execution_count": 64,
     "metadata": {},
     "output_type": "execute_result"
    },
    {
     "data": {
      "text/plain": "<Figure size 640x480 with 2 Axes>",
      "image/png": "[encoded data removed]"
     },
     "metadata": {},
     "output_type": "display_data"
    }
   ],
   "source": [
    "y_test_predict = clsf1.predict(x_test1)\n",
    "print(metrics.classification_report(y_test1, y_test_predict, zero_division=True))\n",
    "matrix = metrics.confusion_matrix(y_test1, y_test_predict)\n",
    "sns.heatmap(matrix, annot=True)\n"
   ],
   "metadata": {
    "collapsed": false
   }
  },
  {
   "cell_type": "markdown",
   "source": [],
   "metadata": {
    "collapsed": false
   }
  }
 ],
 "metadata": {
  "kernelspec": {
   "display_name": "Python 3",
   "language": "python",
   "name": "python3"
  },
  "language_info": {
   "codemirror_mode": {
    "name": "ipython",
    "version": 2
   },
   "file_extension": ".py",
   "mimetype": "text/x-python",
   "name": "python",
   "nbconvert_exporter": "python",
   "pygments_lexer": "ipython2",
   "version": "2.7.6"
  }
 },
 "nbformat": 4,
 "nbformat_minor": 0
}
