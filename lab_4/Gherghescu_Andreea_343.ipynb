{
  "nbformat": 4,
  "nbformat_minor": 0,
  "metadata": {
    "colab": {
      "provenance": []
    },
    "kernelspec": {
      "name": "python3",
      "display_name": "Python 3"
    },
    "language_info": {
      "name": "python"
    }
  },
  "cells": [
    {
      "cell_type": "code",
      "execution_count": 88,
      "metadata": {
        "id": "qHzOAurvmQfT"
      },
      "outputs": [],
      "source": [
        "import wikipedia\n",
        "import gensim.downloader as api\n",
        "import nltk\n",
        "import pandas as pd\n",
        "import string\n",
        "import matplotlib.pyplot as plt\n",
        "from nltk.corpus import stopwords\n",
        "from nltk import word_tokenize\n",
        "from gensim.models import Word2Vec as w2v\n",
        "import re\n",
        "from sklearn.decomposition import PCA"
      ]
    },
    {
      "cell_type": "code",
      "source": [
        "! pip install wikipedia"
      ],
      "metadata": {
        "colab": {
          "base_uri": "https://localhost:8080/"
        },
        "id": "PSMEu04fnCt4",
        "outputId": "3426e07a-eaac-473d-87dc-786b39f7299b"
      },
      "execution_count": 2,
      "outputs": [
        {
          "output_type": "stream",
          "name": "stdout",
          "text": [
            "Looking in indexes: https://pypi.org/simple, https://us-python.pkg.dev/colab-wheels/public/simple/\n",
            "Collecting wikipedia\n",
            "  Downloading wikipedia-1.4.0.tar.gz (27 kB)\n",
            "  Preparing metadata (setup.py) ... \u001b[?25l\u001b[?25hdone\n",
            "Requirement already satisfied: beautifulsoup4 in /usr/local/lib/python3.9/dist-packages (from wikipedia) (4.11.2)\n",
            "Requirement already satisfied: requests<3.0.0,>=2.0.0 in /usr/local/lib/python3.9/dist-packages (from wikipedia) (2.27.1)\n",
            "Requirement already satisfied: idna<4,>=2.5 in /usr/local/lib/python3.9/dist-packages (from requests<3.0.0,>=2.0.0->wikipedia) (3.4)\n",
            "Requirement already satisfied: urllib3<1.27,>=1.21.1 in /usr/local/lib/python3.9/dist-packages (from requests<3.0.0,>=2.0.0->wikipedia) (1.26.15)\n",
            "Requirement already satisfied: certifi>=2017.4.17 in /usr/local/lib/python3.9/dist-packages (from requests<3.0.0,>=2.0.0->wikipedia) (2022.12.7)\n",
            "Requirement already satisfied: charset-normalizer~=2.0.0 in /usr/local/lib/python3.9/dist-packages (from requests<3.0.0,>=2.0.0->wikipedia) (2.0.12)\n",
            "Requirement already satisfied: soupsieve>1.2 in /usr/local/lib/python3.9/dist-packages (from beautifulsoup4->wikipedia) (2.4)\n",
            "Building wheels for collected packages: wikipedia\n",
            "  Building wheel for wikipedia (setup.py) ... \u001b[?25l\u001b[?25hdone\n",
            "  Created wheel for wikipedia: filename=wikipedia-1.4.0-py3-none-any.whl size=11696 sha256=3e31348bc67e72d2b2ef4468c3562904b929abd92b45851ec9660b5e7d2135ad\n",
            "  Stored in directory: /root/.cache/pip/wheels/c2/46/f4/caa1bee71096d7b0cdca2f2a2af45cacf35c5760bee8f00948\n",
            "Successfully built wikipedia\n",
            "Installing collected packages: wikipedia\n",
            "Successfully installed wikipedia-1.4.0\n"
          ]
        }
      ]
    },
    {
      "cell_type": "markdown",
      "source": [
        "1. Descarcăti un text mai mare in engleză (ex. un articol de pe wikipedia, vedeți cum mai jos)."
      ],
      "metadata": {
        "id": "m-Biyne_nKN1"
      }
    },
    {
      "cell_type": "code",
      "source": [
        "# cum putem descarca continutul unui articol de pe wikipedia\n",
        "\n",
        "page_title = \"Jazz\"\n",
        "wikipedia.set_lang(\"en\")  # vrem articole in Engleza\n",
        "page = wikipedia.page(page_title, auto_suggest=False)\n",
        "\n",
        "print(page.content[:200])\n"
      ],
      "metadata": {
        "colab": {
          "base_uri": "https://localhost:8080/"
        },
        "id": "TCssoEmMnQD2",
        "outputId": "694eca19-a871-489a-e2ad-773ef924654f"
      },
      "execution_count": 73,
      "outputs": [
        {
          "output_type": "stream",
          "name": "stdout",
          "text": [
            "Jazz is a music genre that originated in the African-American communities of New Orleans, Louisiana, in the late 19th and early 20th centuries, with its roots in blues and ragtime. Since the 1920s Jaz\n"
          ]
        }
      ]
    },
    {
      "cell_type": "markdown",
      "source": [
        "2. Încărcați modelul Word2Vec de la Google, la fel ca în laborator."
      ],
      "metadata": {
        "id": "8Pt37MH4nThk"
      }
    },
    {
      "cell_type": "code",
      "source": [
        "google_model = api.load(\"word2vec-google-news-300\")"
      ],
      "metadata": {
        "id": "7uO4jSipnXYH"
      },
      "execution_count": 24,
      "outputs": []
    },
    {
      "cell_type": "code",
      "source": [
        "nltk.download('stopwords')\n",
        "nltk.download('punkt')"
      ],
      "metadata": {
        "colab": {
          "base_uri": "https://localhost:8080/"
        },
        "id": "UEropaIMr0X_",
        "outputId": "febfb125-1ceb-4429-9069-40eb9c5b474d"
      },
      "execution_count": 3,
      "outputs": [
        {
          "output_type": "stream",
          "name": "stderr",
          "text": [
            "[nltk_data] Downloading package stopwords to /root/nltk_data...\n",
            "[nltk_data]   Package stopwords is already up-to-date!\n",
            "[nltk_data] Downloading package punkt to /root/nltk_data...\n",
            "[nltk_data]   Package punkt is already up-to-date!\n"
          ]
        },
        {
          "output_type": "execute_result",
          "data": {
            "text/plain": [
              "True"
            ]
          },
          "metadata": {},
          "execution_count": 3
        }
      ]
    },
    {
      "cell_type": "code",
      "source": [
        "sw = stopwords.words('english')\n",
        "page = page.content"
      ],
      "metadata": {
        "id": "rGMX_Sc8r3Or"
      },
      "execution_count": 74,
      "outputs": []
    },
    {
      "cell_type": "code",
      "source": [
        "pct = string.punctuation + '–'"
      ],
      "metadata": {
        "id": "pDIWwybq1rst"
      },
      "execution_count": 71,
      "outputs": []
    },
    {
      "cell_type": "code",
      "source": [
        "sentences = page.split(\". \")\n",
        "sentences = [sentence.lower() for sentence in sentences]\n",
        "sentences = [sentence.translate(str.maketrans('', '', pct)) for sentence in sentences]\n",
        "sentences = [word_tokenize(sentence) for sentence in sentences]\n",
        "\n",
        "filtered = []\n",
        "for sentence in sentences:\n",
        "  original = sentence\n",
        "  sentence = [w for w in sentence if w not in sw]\n",
        "  if len(sentence) < 1:\n",
        "      sentence = original\n",
        "  filtered.append(sentence)\n",
        "\n",
        "print(filtered[:10])"
      ],
      "metadata": {
        "colab": {
          "base_uri": "https://localhost:8080/"
        },
        "id": "ZtFPwAyX2P3v",
        "outputId": "bcada3c6-da91-40f7-e690-3b838e23b3ca"
      },
      "execution_count": 75,
      "outputs": [
        {
          "output_type": "stream",
          "name": "stdout",
          "text": [
            "[['jazz', 'music', 'genre', 'originated', 'africanamerican', 'communities', 'new', 'orleans', 'louisiana', 'late', '19th', 'early', '20th', 'centuries', 'roots', 'blues', 'ragtime'], ['since', '1920s', 'jazz', 'age', 'recognized', 'major', 'form', 'musical', 'expression', 'traditional', 'popular', 'music'], ['jazz', 'characterized', 'swing', 'blue', 'notes', 'complex', 'chords', 'call', 'response', 'vocals', 'polyrhythms', 'improvisation'], ['jazz', 'roots', 'european', 'harmony', 'african', 'rhythmic', 'ritualsas', 'jazz', 'spread', 'around', 'world', 'drew', 'national', 'regional', 'local', 'musical', 'cultures', 'gave', 'rise', 'different', 'styles'], ['new', 'orleans', 'jazz', 'began', 'early', '1910s', 'combining', 'earlier', 'brass', 'band', 'marches', 'french', 'quadrilles', 'biguine', 'ragtime', 'blues', 'collective', 'polyphonic', 'improvisation'], ['jazz', 'begin', 'single', 'musical', 'tradition', 'new', 'orleans', 'elsewhere'], ['1930s', 'arranged', 'danceoriented', 'swing', 'big', 'bands', 'kansas', 'city', 'jazz', 'hardswinging', 'bluesy', 'improvisational', 'style', 'gypsy', 'jazz', 'style', 'emphasized', 'musette', 'waltzes', 'prominent', 'styles'], ['bebop', 'emerged', '1940s', 'shifting', 'jazz', 'danceable', 'popular', 'music', 'toward', 'challenging', 'musicians', 'music', 'played', 'faster', 'tempos', 'used', 'chordbased', 'improvisation'], ['cool', 'jazz', 'developed', 'near', 'end', '1940s', 'introducing', 'calmer', 'smoother', 'sounds', 'long', 'linear', 'melodic', 'linesthe', 'mid1950s', 'saw', 'emergence', 'hard', 'bop', 'introduced', 'influences', 'rhythm', 'blues', 'gospel', 'blues', 'small', 'groups', 'particularly', 'saxophone', 'piano'], ['modal', 'jazz', 'developed', 'late', '1950s', 'using', 'mode', 'musical', 'scale', 'basis', 'musical', 'structure', 'improvisation', 'free', 'jazz', 'explored', 'playing', 'without', 'regular', 'meter', 'beat', 'formal', 'structures']]\n"
          ]
        }
      ]
    },
    {
      "cell_type": "code",
      "source": [
        "page = page.lower()\n",
        "page = re.sub(r'\\d+', '', page)\n",
        "page = re.sub(r'http\\S+', '', page)\n",
        "page = page.translate(str.maketrans('', '', string.punctuation))\n",
        "page = word_tokenize(page)"
      ],
      "metadata": {
        "id": "wVuMN9Fgr5Vx"
      },
      "execution_count": 76,
      "outputs": []
    },
    {
      "cell_type": "code",
      "source": [
        "page = [w for w in page if w not in sw]"
      ],
      "metadata": {
        "id": "nb7K9FrKs6ZV"
      },
      "execution_count": 77,
      "outputs": []
    },
    {
      "cell_type": "code",
      "source": [
        "d_in = {}\n",
        "d_out = {}\n",
        "\n",
        "for word in page:\n",
        "  if word in google_model:\n",
        "    if word not in d_in:\n",
        "      d_in[word] = 1\n",
        "  else:\n",
        "    if word not in d_out:\n",
        "      d_out[word] = 1 \n",
        "\n",
        "print(f\"Numarul de tokens distincte acoperite de model: {len(d_in)}\")\n",
        "print(f\"Numarul de tokens distincte neacoperite de model: {len(d_out)}\")"
      ],
      "metadata": {
        "colab": {
          "base_uri": "https://localhost:8080/"
        },
        "id": "PyhScyjrs-SY",
        "outputId": "72865bb0-c148-4eeb-8cea-407a76e221df"
      },
      "execution_count": 78,
      "outputs": [
        {
          "output_type": "stream",
          "name": "stdout",
          "text": [
            "Numarul de tokens distincte acoperite de model: 2858\n",
            "Numarul de tokens distincte neacoperite de model: 518\n"
          ]
        }
      ]
    },
    {
      "cell_type": "markdown",
      "source": [
        "4. Determinați pentru toate perechile de cuvinte distincte din text care este similaritatea lor. Afișați top 3 cele mai similare perechi, și top 3 cele mai nesimilare."
      ],
      "metadata": {
        "id": "26BzpkDZwJcr"
      }
    },
    {
      "cell_type": "code",
      "source": [
        "w = w2v(\n",
        "    filtered,\n",
        "    min_count=3,\n",
        "    sg=1,\n",
        "    window=7\n",
        ")\n"
      ],
      "metadata": {
        "id": "WdKRUqePwKw3"
      },
      "execution_count": 79,
      "outputs": []
    },
    {
      "cell_type": "code",
      "source": [
        "page = set(page)\n",
        "page = list(page)"
      ],
      "metadata": {
        "id": "mt1D-ipn3uo7"
      },
      "execution_count": 80,
      "outputs": []
    },
    {
      "cell_type": "code",
      "source": [
        "sim = {}\n",
        "for word1 in page:\n",
        "  for word2 in page:\n",
        "\n",
        "    if word1 == word2 or word1 not in w.wv or word2 not in w.wv:\n",
        "      continue\n",
        "\n",
        "    if (word1, word2) not in sim:\n",
        "      value = w.wv.similarity(word1, word2)\n",
        "      sim[(word1, word2)] = value \n",
        "\n"
      ],
      "metadata": {
        "id": "7X3MRmBW4XfW"
      },
      "execution_count": 81,
      "outputs": []
    },
    {
      "cell_type": "code",
      "source": [
        "sorted_dict = sorted(sim.items(), key=lambda x:x[1]) \n",
        "\n",
        "print(f\"Top 3 cele mai similare perechi:\\n{sorted_dict[0]}\\n{sorted_dict[1]}\\n{sorted_dict[2]}\\n \")\n",
        "print(f\"Top 3 cele mai nesimilare perechi:\\n{sorted_dict[-1]}\\n{sorted_dict[-2]}\\n{sorted_dict[-3]}\\n \")\n",
        "\n",
        "print('' )"
      ],
      "metadata": {
        "colab": {
          "base_uri": "https://localhost:8080/"
        },
        "id": "UJyjQWKV9f9O",
        "outputId": "1deb947c-3b12-4805-92ba-16b6d65287f4"
      },
      "execution_count": 83,
      "outputs": [
        {
          "output_type": "stream",
          "name": "stdout",
          "text": [
            "Top 3 cele mai similare perechi:\n",
            "(('c', 'w'), 0.9727996)\n",
            "(('w', 'c'), 0.9727996)\n",
            "(('c', 'leaders'), 0.9744863)\n",
            " \n",
            "Top 3 cele mai nesimilare perechi:\n",
            "(('bebop', 'rhythm'), 0.9988282)\n",
            "(('rhythm', 'bebop'), 0.9988282)\n",
            "(('modal', 'james'), 0.99878925)\n",
            " \n",
            "\n"
          ]
        }
      ]
    },
    {
      "cell_type": "markdown",
      "source": [
        "5. În următoarele cerințe vom compara modelul Google cu cel antrenat în cadrul laboratorului pe corpusul `text8`. Pentru fiecare cuvânt din lista următoare determinați lista celor mai similare cuvinte conform modelului Google și lista celor mai similare cuvinte conform modelului text8: `smart, king, big`. Observați diferențe?"
      ],
      "metadata": {
        "id": "UqFtlz14AxVs"
      }
    },
    {
      "cell_type": "code",
      "source": [
        "text8 = api.load(\"text8\")  # descarcam corpusul\n",
        "text8_model = w2v(text8).wv"
      ],
      "metadata": {
        "id": "H0n-_04ZA0um"
      },
      "execution_count": 84,
      "outputs": []
    },
    {
      "cell_type": "code",
      "source": [
        "print(f\"Cel mai similar lui \\'smart\\' {google_model.most_similar('smart')}\")\n",
        "print(f\"Cel mai similar lui \\'king\\' {google_model.most_similar('king')}\")\n",
        "print(f\"Cel mai similar lui \\'big\\' {google_model.most_similar('big')}\")\n",
        "\n",
        "print(f\"Cel mai similar lui \\'smart\\' {text8_model.most_similar('smart')}\")\n",
        "print(f\"Cel mai similar lui \\'king\\' {text8_model.most_similar('king')}\")\n",
        "print(f\"Cel mai similar lui \\'big\\' {text8_model.most_similar('big')}\")"
      ],
      "metadata": {
        "colab": {
          "base_uri": "https://localhost:8080/"
        },
        "id": "WPPWZEHwA99D",
        "outputId": "d89aab69-1668-4104-de66-84a22711f91b"
      },
      "execution_count": 87,
      "outputs": [
        {
          "output_type": "stream",
          "name": "stdout",
          "text": [
            "Cel mai similar lui 'smart' [('intelligent', 0.6495277285575867), ('dumb', 0.5792694687843323), ('smartest', 0.5717369914054871), ('savvy', 0.5674132108688354), ('clever', 0.5656732320785522), ('smarter', 0.5632593035697937), ('shrewd', 0.5591170191764832), ('IPICO_produces', 0.5158055424690247), ('economic_certainty_Kracmer', 0.5094711780548096), ('Smart', 0.4991162121295929)]\n",
            "Cel mai similar lui 'king' [('kings', 0.7138045430183411), ('queen', 0.6510956883430481), ('monarch', 0.6413194537162781), ('crown_prince', 0.6204220056533813), ('prince', 0.6159993410110474), ('sultan', 0.5864824056625366), ('ruler', 0.5797567367553711), ('princes', 0.5646552443504333), ('Prince_Paras', 0.5432944297790527), ('throne', 0.5422105193138123)]\n",
            "Cel mai similar lui 'big' [('huge', 0.7809856534004211), ('bigger', 0.684238612651825), ('biggest', 0.633652925491333), ('major', 0.6057687401771545), ('gigantic', 0.5822017192840576), ('HUGE', 0.560417115688324), ('large', 0.5561478734016418), ('humongous', 0.5558629035949707), ('Huge', 0.5524425506591797), ('great', 0.5486619472503662)]\n",
            "Cel mai similar lui 'smart' [('toy', 0.6608873605728149), ('cracker', 0.6580789685249329), ('lazy', 0.6524720191955566), ('fancy', 0.6427831053733826), ('nasty', 0.6333231925964355), ('dirty', 0.6172122955322266), ('accessories', 0.615791916847229), ('watches', 0.6104986667633057), ('tack', 0.6088396906852722), ('hack', 0.6073946952819824)]\n",
            "Cel mai similar lui 'king' [('prince', 0.7485144734382629), ('queen', 0.7284542322158813), ('kings', 0.6835408210754395), ('emperor', 0.6754080057144165), ('aragon', 0.6712903380393982), ('throne', 0.6707125902175903), ('vii', 0.6588786840438843), ('pope', 0.6480869054794312), ('regent', 0.6419841647148132), ('alexius', 0.6398106217384338)]\n",
            "Cel mai similar lui 'big' [('bang', 0.5448428988456726), ('quiz', 0.53437739610672), ('tonight', 0.5033820271492004), ('crossover', 0.5019946694374084), ('bad', 0.4955955445766449), ('slim', 0.49017640948295593), ('monkey', 0.48560187220573425), ('beatles', 0.4802756905555725), ('kid', 0.47925740480422974), ('celebrity', 0.47640034556388855)]\n"
          ]
        }
      ]
    },
    {
      "cell_type": "markdown",
      "source": [
        "6. Plotați într-un grafic embeddings-urile reduse la 2 dimensiuni (folosind PCA) din modelul Google pentru cuvintele `car, motorcycle, bike, man, person, woman, child, king, queen, prince, plant, tree, flower`; separat construiți același grafic și pentru modelul antrenat folosind text8. Ce asemănări/diferențe observați?"
      ],
      "metadata": {
        "id": "kuxPgQfEBZXH"
      }
    },
    {
      "cell_type": "code",
      "source": [
        "words = ['car', 'motorcycle', 'bike', 'man', 'person', 'woman', 'child', 'king', 'queen', 'prince', 'plant', 'tree', 'flower']\n",
        "\n",
        "google_vectors = [google_model[word] for word in words]\n",
        "text8_vectors = [text8_model[word] for word in words] "
      ],
      "metadata": {
        "id": "kU3_xUNTBaL5"
      },
      "execution_count": 89,
      "outputs": []
    },
    {
      "cell_type": "code",
      "source": [
        "pca = PCA(n_components=2)\n",
        "pca.fit(google_vectors)\n",
        "google_2d = pca.transform(google_vectors)\n",
        "\n",
        "x = [v[0] for v in google_2d]\n",
        "y = [v[1] for v in google_2d]\n",
        "\n",
        "fig, ax = plt.subplots()\n",
        "ax.scatter(x, y)\n",
        "\n",
        "for i, txt in enumerate(words):\n",
        "    ax.annotate(txt, (x[i], y[i]))\n",
        "\n",
        "plt.show()\n"
      ],
      "metadata": {
        "colab": {
          "base_uri": "https://localhost:8080/",
          "height": 269
        },
        "id": "zapZrRVpCq97",
        "outputId": "8a7eaf94-92ea-4847-f7fa-2e15c364505f"
      },
      "execution_count": 90,
      "outputs": [
        {
          "output_type": "display_data",
          "data": {
            "text/plain": [
              "<Figure size 432x288 with 1 Axes>"
            ],
            "image/png": "[encoded data removed]"
          },
          "metadata": {
            "needs_background": "light"
          }
        }
      ]
    },
    {
      "cell_type": "code",
      "source": [
        "pca.fit(text8_vectors)\n",
        "text8_2d = pca.transform(text8_vectors)\n",
        "\n",
        "x = [v[0] for v in text8_2d]\n",
        "y = [v[1] for v in text8_2d]\n",
        "\n",
        "fig, ax = plt.subplots()\n",
        "ax.scatter(x, y)\n",
        "\n",
        "for i, txt in enumerate(words):\n",
        "    ax.annotate(txt, (x[i], y[i]))\n",
        "\n",
        "plt.show()"
      ],
      "metadata": {
        "colab": {
          "base_uri": "https://localhost:8080/",
          "height": 265
        },
        "id": "kkAFvga5CzsC",
        "outputId": "3af417c6-c25b-404e-ac2f-b2b52452757c"
      },
      "execution_count": 91,
      "outputs": [
        {
          "output_type": "display_data",
          "data": {
            "text/plain": [
              "<Figure size 432x288 with 1 Axes>"
            ],
            "image/png": "[encoded data removed]"
          },
          "metadata": {
            "needs_background": "light"
          }
        }
      ]
    },
    {
      "cell_type": "markdown",
      "source": [
        "Cuvintele par a fi mai bine grupate folosind modelul google din punct de vedere semantic. Am putea spune ca sunt bine grupate si folosinf modelul text8, doar ca 2 'clase' se amesteca, anume cea a plantelor si cea a autovehiculelor."
      ],
      "metadata": {
        "id": "_4jdR_7zDLUw"
      }
    }
  ]
}