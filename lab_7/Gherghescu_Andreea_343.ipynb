{
 "cells": [
  {
   "cell_type": "code",
   "execution_count": 66,
   "metadata": {
    "collapsed": true,
    "ExecuteTime": {
     "end_time": "2023-05-07T13:29:52.034180213Z",
     "start_time": "2023-05-07T13:29:51.758897442Z"
    }
   },
   "outputs": [],
   "source": [
    "import torch\n",
    "import torchvision\n",
    "from sklearn.datasets import load_iris\n",
    "import sklearn.metrics as metrics\n",
    "import matplotlib.pyplot as plt"
   ]
  },
  {
   "cell_type": "markdown",
   "source": [],
   "metadata": {
    "collapsed": false
   }
  },
  {
   "cell_type": "markdown",
   "source": [
    "1. Porniti de la un dataset artificial generat cu ajutorul metodei make_classification din sklearn (minim 10000 de exemple, cu cel putin 100 de feature-uri relevante, grupate in cel putin 3 clase) sau puteti folosi un toy-dataset de aici."
   ],
   "metadata": {
    "collapsed": false
   }
  },
  {
   "cell_type": "code",
   "execution_count": 47,
   "outputs": [],
   "source": [
    "class MyDataset(torch.utils.data.Dataset):\n",
    "    def __init__(self, data, transform=None):\n",
    "        super().__init__()\n",
    "        self.data = data\n",
    "        self.transform = transform\n",
    "\n",
    "    # urmatoarele doua metode trebuie implementate\n",
    "    def __getitem__(self, k):\n",
    "        \"\"\"Returneaza al k-lea exemplu din dataset\"\"\"\n",
    "        return (\n",
    "            self.data[\"data\"][k],\n",
    "            self.data[\"target\"][k]\n",
    "        )\n",
    "\n",
    "    def __len__(self):\n",
    "        \"\"\"Returneaza dimensiunea datasetului\"\"\"\n",
    "        return self.data[\"data\"].shape[0]\n",
    "\n",
    "data = load_iris()\n",
    "list(data.target_names)\n",
    "list(data.feature_names)\n",
    "\n",
    "data = MyDataset(data, transform=torchvision.transforms.ToTensor())"
   ],
   "metadata": {
    "collapsed": false,
    "ExecuteTime": {
     "end_time": "2023-05-07T13:09:18.219935473Z",
     "start_time": "2023-05-07T13:09:18.195754546Z"
    }
   }
  },
  {
   "cell_type": "code",
   "execution_count": 46,
   "outputs": [],
   "source": [],
   "metadata": {
    "collapsed": false,
    "ExecuteTime": {
     "end_time": "2023-05-07T13:09:05.994112399Z",
     "start_time": "2023-05-07T13:09:05.974761933Z"
    }
   }
  },
  {
   "cell_type": "markdown",
   "source": [
    "2. Definiti un model cu cel putin 3 layere lineare, dintre care ultimul are dimensiunea outputului egala cu numarul de clase. Aplicati dupa fiecare layer linear (cu exceptia ultimului) o functie de activare aleasa de voi."
   ],
   "metadata": {
    "collapsed": false
   }
  },
  {
   "cell_type": "code",
   "execution_count": 80,
   "outputs": [],
   "source": [
    "model = torch.nn.Sequential(\n",
    "    torch.nn.Linear(4, 2, dtype=torch.float64),\n",
    "    torch.nn.ReLU(),\n",
    "    torch.nn.Linear(2, 2, dtype=torch.float64),\n",
    "    torch.nn.ReLU(),\n",
    "    torch.nn.Linear(2, 3, dtype=torch.float64),\n",
    ")\n",
    "\n",
    "model_dropout = torch.nn.Sequential(\n",
    "    torch.nn.Linear(4, 2, dtype=torch.float64),\n",
    "    torch.nn.Dropout(p=0.2),\n",
    "    torch.nn.ReLU(),\n",
    "    torch.nn.Linear(2, 2, dtype=torch.float64),\n",
    "    torch.nn.Dropout(p=0.2),\n",
    "    torch.nn.ReLU(),\n",
    "    torch.nn.Linear(2, 3, dtype=torch.float64),\n",
    ")\n"
   ],
   "metadata": {
    "collapsed": false,
    "ExecuteTime": {
     "end_time": "2023-05-07T14:21:55.142394565Z",
     "start_time": "2023-05-07T14:21:55.100533324Z"
    }
   }
  },
  {
   "cell_type": "markdown",
   "source": [
    "3. Impartiti datasetul in 80% train, 10% validare si 10% test. Creati cele trei dataloadere corespunzatoare fiecarui split."
   ],
   "metadata": {
    "collapsed": false
   }
  },
  {
   "cell_type": "code",
   "execution_count": 48,
   "outputs": [
    {
     "name": "stdout",
     "output_type": "stream",
     "text": [
      "120\n",
      "15\n",
      "15\n"
     ]
    }
   ],
   "source": [
    "train_data, validation_data, test_data = torch.utils.data.random_split(data, [0.8, 0.1, 0.1])\n",
    "\n",
    "print(len(train_data))\n",
    "print(len(validation_data))\n",
    "print(len(test_data))\n",
    "\n"
   ],
   "metadata": {
    "collapsed": false,
    "ExecuteTime": {
     "end_time": "2023-05-07T13:09:22.161324856Z",
     "start_time": "2023-05-07T13:09:22.144335902Z"
    }
   }
  },
  {
   "cell_type": "markdown",
   "source": [
    "4. Definiti functia de loss (cross-entropy) si un optimizer (SGD, Adam, etc.)."
   ],
   "metadata": {
    "collapsed": false
   }
  },
  {
   "cell_type": "code",
   "execution_count": 27,
   "outputs": [],
   "source": [
    "loss_fn = torch.nn.CrossEntropyLoss()\n",
    "optimizer = torch.optim.SGD(model.parameters(), lr=0.01, momentum=0.9)"
   ],
   "metadata": {
    "collapsed": false,
    "ExecuteTime": {
     "end_time": "2023-05-07T12:16:50.864975974Z",
     "start_time": "2023-05-07T12:16:50.851583073Z"
    }
   }
  },
  {
   "cell_type": "markdown",
   "source": [
    "5. Antrenati modelul pentru mai multe epoci pe datele de train. La finalul fiecarei epoci evaluati performanta modelului pe datele de validare. Monitorizati la fiecare epoca eroarea medie si acuratetea pentru predictiile facute pe datele de train si separat pe datele de validare, pentru ca in cazul in care observati situatia de *overfit* sa puteti opri antrenarea."
   ],
   "metadata": {
    "collapsed": false
   }
  },
  {
   "cell_type": "code",
   "execution_count": 84,
   "outputs": [],
   "source": [
    "train_dataloader = torch.utils.data.DataLoader(train_data, batch_size=5, shuffle=True)\n",
    "validation_dataloader = torch.utils.data.DataLoader(validation_data, batch_size=5)\n",
    "test_dataloader = torch.utils.data.DataLoader(test_data, batch_size=5)\n",
    "\n",
    "epochs = 5\n",
    "\n",
    "def train_loop(model):\n",
    "\n",
    "    best_val_loss = 100000\n",
    "    train_loss_list = []\n",
    "    train_acc_list = []\n",
    "    val_loss_list = []\n",
    "    val_acc_list = []\n",
    "\n",
    "    for epoch in range(epochs):\n",
    "\n",
    "        train_loss = 0\n",
    "        true_labels = []\n",
    "        predicted_labels = []\n",
    "\n",
    "        model.train()\n",
    "\n",
    "        for batch in train_dataloader:\n",
    "\n",
    "            optimizer.zero_grad()\n",
    "\n",
    "            data = batch[0]\n",
    "            labels = batch[1]\n",
    "            true_labels.extend(labels.tolist())\n",
    "            b_size = data.size(0)\n",
    "\n",
    "            output = model(data)\n",
    "            predicted_labels.extend(output.max(1)[1].tolist())\n",
    "            loss = loss_fn(output, labels)\n",
    "            loss.backward()\n",
    "            train_loss += loss\n",
    "            optimizer.step()\n",
    "\n",
    "        train_loss /= len(train_dataloader)\n",
    "        train_acc = metrics.accuracy_score(true_labels, predicted_labels)\n",
    "        train_loss_list.append(train_loss.detach())\n",
    "        train_acc_list.append(train_acc)\n",
    "\n",
    "        print(f\"Train:\\tMean loss: {train_loss:.4f}\\tAccuracy: {train_acc:.4f}\")\n",
    "\n",
    "        val_loss = 0\n",
    "        true_labels = []\n",
    "        predicted_labels = []\n",
    "\n",
    "        model.eval()\n",
    "\n",
    "        with torch.no_grad():\n",
    "\n",
    "            for batch in validation_dataloader:\n",
    "                data = batch[0]\n",
    "                labels = batch[1]\n",
    "                b_size = data.size(0)\n",
    "\n",
    "                output = model(data)\n",
    "                loss = loss_fn(output, labels)\n",
    "\n",
    "                val_loss += loss.item()\n",
    "                true_labels.extend(labels.tolist())\n",
    "                predicted_labels.extend(output.max(1)[1].tolist())\n",
    "\n",
    "        val_loss /= len(validation_dataloader)\n",
    "        val_acc = metrics.accuracy_score(true_labels, predicted_labels)\n",
    "        val_loss_list.append(val_loss)\n",
    "        val_acc_list.append(val_acc)\n",
    "        print(f\"Validation:\\tMean loss: {val_loss:.4f}\\tAccuracy: {val_acc:.4f}\\n\")\n",
    "\n",
    "        # 6. Salvati modelul cu cea mai buna eroare de validare, calculata la finalul epocii respective.\n",
    "        if val_loss < best_val_loss:\n",
    "            best_val_loss = val_loss\n",
    "            torch.save(model.state_dict(), \"model.pt\")\n",
    "\n",
    "    return train_loss_list, train_acc_list, val_loss_list, val_acc_list\n"
   ],
   "metadata": {
    "collapsed": false,
    "ExecuteTime": {
     "end_time": "2023-05-07T14:24:20.295666482Z",
     "start_time": "2023-05-07T14:24:20.277332511Z"
    }
   }
  },
  {
   "cell_type": "code",
   "execution_count": 88,
   "outputs": [
    {
     "name": "stdout",
     "output_type": "stream",
     "text": [
      "Train:\tMean loss: 1.1034\tAccuracy: 0.3417\n",
      "Validation:\tMean loss: 1.1080\tAccuracy: 0.2667\n",
      "\n",
      "Train:\tMean loss: 1.1034\tAccuracy: 0.3417\n",
      "Validation:\tMean loss: 1.1080\tAccuracy: 0.2667\n",
      "\n",
      "Train:\tMean loss: 1.1034\tAccuracy: 0.3417\n",
      "Validation:\tMean loss: 1.1080\tAccuracy: 0.2667\n",
      "\n",
      "Train:\tMean loss: 1.1034\tAccuracy: 0.3417\n",
      "Validation:\tMean loss: 1.1080\tAccuracy: 0.2667\n",
      "\n",
      "Train:\tMean loss: 1.1034\tAccuracy: 0.3417\n",
      "Validation:\tMean loss: 1.1080\tAccuracy: 0.2667\n",
      "\n"
     ]
    }
   ],
   "source": [
    "tll, tal, vll, val = train_loop(model)"
   ],
   "metadata": {
    "collapsed": false,
    "ExecuteTime": {
     "end_time": "2023-05-07T14:24:35.126589100Z",
     "start_time": "2023-05-07T14:24:35.041000809Z"
    }
   }
  },
  {
   "cell_type": "markdown",
   "source": [
    "7. Plotati pe acelasi grafic evolutia erorii de train si a erorii de validare la finalul fiecarei epoci. Plotati in alt grafic evolutia acuratetii pe datele de train si pe cele de validare."
   ],
   "metadata": {
    "collapsed": false
   }
  },
  {
   "cell_type": "code",
   "execution_count": 89,
   "outputs": [
    {
     "data": {
      "text/plain": "<Figure size 640x480 with 1 Axes>",
      "image/png": "[encoded data removed]"
     },
     "metadata": {},
     "output_type": "display_data"
    }
   ],
   "source": [
    "x_values = range(len(tll))\n",
    "\n",
    "fig, ax = plt.subplots()\n",
    "ax.plot(x_values, tll, label=\"Train loss\")\n",
    "ax.plot(x_values, vll, label=\"Validation loss\")\n",
    "ax.set_xlabel(\"Epochs\")\n",
    "ax.set_ylabel(\"Loss\")\n",
    "ax.set_title(\"Losses\")\n",
    "ax.legend()\n",
    "plt.show()"
   ],
   "metadata": {
    "collapsed": false,
    "ExecuteTime": {
     "end_time": "2023-05-07T14:24:37.172836966Z",
     "start_time": "2023-05-07T14:24:37.034848464Z"
    }
   }
  },
  {
   "cell_type": "code",
   "execution_count": 90,
   "outputs": [
    {
     "data": {
      "text/plain": "<Figure size 640x480 with 1 Axes>",
      "image/png": "[encoded data removed]"
     },
     "metadata": {},
     "output_type": "display_data"
    }
   ],
   "source": [
    "fig, ax = plt.subplots()\n",
    "ax.plot(x_values, tal, label=\"Train accuracy\")\n",
    "ax.plot(x_values, val, label=\"Validation accuracy\")\n",
    "ax.set_xlabel(\"Epochs\")\n",
    "ax.set_ylabel(\"accuracy\")\n",
    "ax.set_title(\"Accuracy\")\n",
    "ax.legend()\n",
    "plt.show()"
   ],
   "metadata": {
    "collapsed": false,
    "ExecuteTime": {
     "end_time": "2023-05-07T14:24:39.257096846Z",
     "start_time": "2023-05-07T14:24:39.042000138Z"
    }
   }
  },
  {
   "cell_type": "markdown",
   "source": [
    "8. Evaluati modelul (eroare, acuratete, macro-f1, etc.) pe datele de test."
   ],
   "metadata": {
    "collapsed": false
   }
  },
  {
   "cell_type": "code",
   "execution_count": 94,
   "outputs": [],
   "source": [
    "def test(model):\n",
    "    test_loss = 0\n",
    "    true_labels = []\n",
    "    predicted_labels = []\n",
    "    with torch.no_grad():\n",
    "\n",
    "        for batch in test_dataloader:\n",
    "            data = batch[0]\n",
    "            labels = batch[1]\n",
    "            b_size = data.size(0)\n",
    "\n",
    "            output = model(data)\n",
    "            loss = loss_fn(output, labels)\n",
    "\n",
    "            test_loss += loss.item()\n",
    "            true_labels.extend(labels.tolist())\n",
    "            predicted_labels.extend(output.max(1)[1].tolist())\n",
    "\n",
    "    test_loss /= len(validation_dataloader)\n",
    "    test_acc = metrics.accuracy_score(true_labels, predicted_labels)\n",
    "    test_macrof1 = metrics.f1_score(true_labels, predicted_labels, average=\"macro\")\n",
    "\n",
    "    print(f\"Loss: {test_loss}\\nAccuracy: {test_acc}\\nMacro F1 score: {test_macrof1}\")"
   ],
   "metadata": {
    "collapsed": false,
    "ExecuteTime": {
     "end_time": "2023-05-07T14:27:34.538173687Z",
     "start_time": "2023-05-07T14:27:34.526655354Z"
    }
   }
  },
  {
   "cell_type": "code",
   "execution_count": 95,
   "outputs": [
    {
     "name": "stdout",
     "output_type": "stream",
     "text": [
      "Loss: 1.1060722116948136\n",
      "Accuracy: 0.3333333333333333\n",
      "Macro F1 score: 0.16666666666666666\n"
     ]
    }
   ],
   "source": [
    "test(model)"
   ],
   "metadata": {
    "collapsed": false,
    "ExecuteTime": {
     "end_time": "2023-05-07T14:27:35.973971020Z",
     "start_time": "2023-05-07T14:27:35.961839929Z"
    }
   }
  },
  {
   "cell_type": "markdown",
   "source": [
    "9. Incercati sa adaugati dupa fiecare layer din model (cu exceptia ultimului) dropout cu un $p$ ales de voi. Analizati daca performanta unui model antrenat astfel este mai buna."
   ],
   "metadata": {
    "collapsed": false
   }
  },
  {
   "cell_type": "code",
   "execution_count": 96,
   "outputs": [
    {
     "name": "stdout",
     "output_type": "stream",
     "text": [
      "Train:\tMean loss: 1.2141\tAccuracy: 0.3167\n",
      "Validation:\tMean loss: 1.1612\tAccuracy: 0.4000\n",
      "\n",
      "Train:\tMean loss: 1.2485\tAccuracy: 0.3167\n",
      "Validation:\tMean loss: 1.1612\tAccuracy: 0.4000\n",
      "\n",
      "Train:\tMean loss: 1.2257\tAccuracy: 0.3167\n",
      "Validation:\tMean loss: 1.1612\tAccuracy: 0.4000\n",
      "\n",
      "Train:\tMean loss: 1.2343\tAccuracy: 0.3167\n",
      "Validation:\tMean loss: 1.1612\tAccuracy: 0.4000\n",
      "\n",
      "Train:\tMean loss: 1.2291\tAccuracy: 0.3167\n",
      "Validation:\tMean loss: 1.1612\tAccuracy: 0.4000\n",
      "\n",
      "Loss: 1.1381870722482847\n",
      "Accuracy: 0.4\n",
      "Macro F1 score: 0.1904761904761905\n"
     ]
    }
   ],
   "source": [
    "tll, tal, vll, val = train_loop(model_dropout)\n",
    "test(model_dropout)"
   ],
   "metadata": {
    "collapsed": false,
    "ExecuteTime": {
     "end_time": "2023-05-07T14:27:39.583386251Z",
     "start_time": "2023-05-07T14:27:39.504200363Z"
    }
   }
  },
  {
   "cell_type": "markdown",
   "source": [
    "Performanta pare putin mai buna. Acuratetea pe test este mai mare, desi loss-ul este mai mare."
   ],
   "metadata": {
    "collapsed": false
   }
  },
  {
   "cell_type": "markdown",
   "source": [],
   "metadata": {
    "collapsed": false
   }
  }
 ],
 "metadata": {
  "kernelspec": {
   "display_name": "Python 3",
   "language": "python",
   "name": "python3"
  },
  "language_info": {
   "codemirror_mode": {
    "name": "ipython",
    "version": 2
   },
   "file_extension": ".py",
   "mimetype": "text/x-python",
   "name": "python",
   "nbconvert_exporter": "python",
   "pygments_lexer": "ipython2",
   "version": "2.7.6"
  }
 },
 "nbformat": 4,
 "nbformat_minor": 0
}
