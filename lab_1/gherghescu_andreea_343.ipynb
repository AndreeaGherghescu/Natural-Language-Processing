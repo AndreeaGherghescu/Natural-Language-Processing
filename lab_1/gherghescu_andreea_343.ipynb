{
 "cells": [
  {
   "cell_type": "code",
   "source": [
    "from google.colab import drive\n",
    "drive.mount('/content/drive/')"
   ],
   "metadata": {
    "colab": {
     "base_uri": "https://localhost:8080/"
    },
    "id": "YB7ghb9BzWMu",
    "executionInfo": {
     "status": "ok",
     "timestamp": 1677147095541,
     "user_tz": -120,
     "elapsed": 23028,
     "user": {
      "displayName": "MIRUNA-ANDREEA ZAVELCA",
      "userId": "12692883064275182332"
     }
    },
    "outputId": "60e2f52e-f635-456c-853b-05591b08078c"
   },
   "execution_count": 1,
   "outputs": [
    {
     "ename": "ModuleNotFoundError",
     "evalue": "No module named 'google.colab'",
     "output_type": "error",
     "traceback": [
      "\u001B[0;31m---------------------------------------------------------------------------\u001B[0m",
      "\u001B[0;31mModuleNotFoundError\u001B[0m                       Traceback (most recent call last)",
      "Input \u001B[0;32mIn [1]\u001B[0m, in \u001B[0;36m<cell line: 1>\u001B[0;34m()\u001B[0m\n\u001B[0;32m----> 1\u001B[0m \u001B[38;5;28;01mfrom\u001B[39;00m \u001B[38;5;21;01mgoogle\u001B[39;00m\u001B[38;5;21;01m.\u001B[39;00m\u001B[38;5;21;01mcolab\u001B[39;00m \u001B[38;5;28;01mimport\u001B[39;00m drive\n\u001B[1;32m      2\u001B[0m drive\u001B[38;5;241m.\u001B[39mmount(\u001B[38;5;124m'\u001B[39m\u001B[38;5;124m/content/drive/\u001B[39m\u001B[38;5;124m'\u001B[39m)\n",
      "\u001B[0;31mModuleNotFoundError\u001B[0m: No module named 'google.colab'"
     ]
    }
   ]
  },
  {
   "cell_type": "code",
   "source": [
    "import os\n",
    "os.chdir(\"/content/drive/MyDrive/NLP/lab_1\")"
   ],
   "metadata": {
    "id": "tiIX__CP5OE1",
    "executionInfo": {
     "status": "ok",
     "timestamp": 1677147096786,
     "user_tz": -120,
     "elapsed": 1255,
     "user": {
      "displayName": "MIRUNA-ANDREEA ZAVELCA",
      "userId": "12692883064275182332"
     }
    }
   },
   "execution_count": 1,
   "outputs": [
    {
     "ename": "FileNotFoundError",
     "evalue": "[Errno 2] No such file or directory: '/content/drive/MyDrive/NLP/lab_1'",
     "output_type": "error",
     "traceback": [
      "\u001B[0;31m---------------------------------------------------------------------------\u001B[0m",
      "\u001B[0;31mFileNotFoundError\u001B[0m                         Traceback (most recent call last)",
      "Input \u001B[0;32mIn [1]\u001B[0m, in \u001B[0;36m<cell line: 2>\u001B[0;34m()\u001B[0m\n\u001B[1;32m      1\u001B[0m \u001B[38;5;28;01mimport\u001B[39;00m \u001B[38;5;21;01mos\u001B[39;00m\n\u001B[0;32m----> 2\u001B[0m \u001B[43mos\u001B[49m\u001B[38;5;241;43m.\u001B[39;49m\u001B[43mchdir\u001B[49m\u001B[43m(\u001B[49m\u001B[38;5;124;43m\"\u001B[39;49m\u001B[38;5;124;43m/content/drive/MyDrive/NLP/lab_1\u001B[39;49m\u001B[38;5;124;43m\"\u001B[39;49m\u001B[43m)\u001B[49m\n\u001B[1;32m      3\u001B[0m \u001B[38;5;28mprint\u001B[39m(\u001B[38;5;124m\"\u001B[39m\u001B[38;5;124mmami\u001B[39m\u001B[38;5;124m\"\u001B[39m)\n",
      "\u001B[0;31mFileNotFoundError\u001B[0m: [Errno 2] No such file or directory: '/content/drive/MyDrive/NLP/lab_1'"
     ]
    }
   ]
  },
  {
   "cell_type": "markdown",
   "metadata": {
    "id": "kYN6xXrf0jdy"
   },
   "source": [
    "# Lab 1. Tehnici de bază în prelucrarea textelor"
   ]
  },
  {
   "cell_type": "markdown",
   "metadata": {
    "id": "jl-E8ey90y3-"
   },
   "source": [
    "## Regex"
   ]
  },
  {
   "cell_type": "markdown",
   "metadata": {
    "id": "ibjQLLG9yCZS"
   },
   "source": [
    "Expresiile regulate reprezintă un șir de caractere care definesc un șablon⁠ de căutare.\n",
    "\n",
    "Ele sunt utile pentru căutarea anumitor șabloane în text și de asemenea, pentru normalizarea textelor - https://www.w3schools.com/python/python_regex.asp\n"
   ]
  },
  {
   "cell_type": "code",
   "execution_count": null,
   "metadata": {
    "id": "gFqSzXcNyPU7",
    "executionInfo": {
     "status": "ok",
     "timestamp": 1677147219779,
     "user_tz": -120,
     "elapsed": 208,
     "user": {
      "displayName": "MIRUNA-ANDREEA ZAVELCA",
      "userId": "12692883064275182332"
     }
    }
   },
   "outputs": [],
   "source": [
    "import re\n",
    "\n",
    "text = \"\"\"\n",
    "Praise for The Rain in Portugal\n",
    " \n",
    "“Nothing in Billy Collins’s twelfth book . . . is exactly what readers might expect, and that’s the charm of this collection.”—The Washington Post\n",
    " \n",
    "“This new collection shows [Collins] at his finest. . . . Certain to please his large readership and a good place for readers new to Collins to begin.”—Library Journal. \n",
    " \n",
    "“Disarmingly playful and wistfully candid.”—Booklist\n",
    "Buy new:$38.65\n",
    "No Import Fees Deposit & $13.01 Shipping to Romania Details -12.3.\n",
    "\"\"\""
   ]
  },
  {
   "cell_type": "markdown",
   "metadata": {
    "id": "PLNJrErsyXNN"
   },
   "source": [
    "Exemplu de utilizare: utilizând metoda `re.sub` ștergem toate caracterele diferite de literele mari și mici ale alfabetului englez, apoi normalizăm toate secvențele de caractere de tip spațiu consecutive la un singur spațiu."
   ]
  },
  {
   "cell_type": "code",
   "execution_count": null,
   "metadata": {
    "colab": {
     "base_uri": "https://localhost:8080/"
    },
    "id": "YP7lMkYPyW0H",
    "outputId": "88a7698a-f1d0-4292-f2e5-43347159f0a5",
    "executionInfo": {
     "status": "ok",
     "timestamp": 1677147237245,
     "user_tz": -120,
     "elapsed": 293,
     "user": {
      "displayName": "MIRUNA-ANDREEA ZAVELCA",
      "userId": "12692883064275182332"
     }
    }
   },
   "outputs": [],
   "source": [
    "cleaned_text = re.sub(\"[^A-Za-z]\", \" \", text)\n",
    "cleaned_text = re.sub(\"\\s+\", \" \", cleaned_text)\n",
    "print(cleaned_text)"
   ]
  },
  {
   "cell_type": "markdown",
   "metadata": {
    "id": "_LOnaRquyhlP"
   },
   "source": [
    "Pentru testarea pattern-urilor putem folosi https://regex101.com/."
   ]
  },
  {
   "cell_type": "markdown",
   "source": [
    "### Funcția `finditer`"
   ],
   "metadata": {
    "id": "rql9v6BFSiiD"
   }
  },
  {
   "cell_type": "markdown",
   "source": [
    "Această funcție găsește un pattern într-un șir de caractere și returnează un iterator ce generează obiecte de tip Match cu toate potrivirile."
   ],
   "metadata": {
    "id": "SVH0LN7RTFaO"
   }
  },
  {
   "cell_type": "code",
   "source": [
    "import re\n",
    "\n",
    "s = 'Readability counts.'\n",
    "pattern = r'[aeoui]'\n",
    "\n",
    "matches = re.finditer(pattern, s)\n",
    "for match in matches:\n",
    "    print(match)"
   ],
   "metadata": {
    "colab": {
     "base_uri": "https://localhost:8080/"
    },
    "id": "ow1vLWPYSbzH",
    "outputId": "b5c634b3-d764-41da-fa97-126b6bb1fa8e",
    "executionInfo": {
     "status": "ok",
     "timestamp": 1677147248835,
     "user_tz": -120,
     "elapsed": 225,
     "user": {
      "displayName": "MIRUNA-ANDREEA ZAVELCA",
      "userId": "12692883064275182332"
     }
    }
   },
   "execution_count": null,
   "outputs": []
  },
  {
   "cell_type": "markdown",
   "source": [
    "Exemplu: căutăm toate numerele float sau int, împreună cu pozițiile și valorile lor. Aici folosim metode `compile()` pentru a compila expresia regulată sub forma de string într-un pattern de tip regex."
   ],
   "metadata": {
    "id": "YGgg5CxWR9Xr"
   }
  },
  {
   "cell_type": "code",
   "execution_count": null,
   "metadata": {
    "colab": {
     "base_uri": "https://localhost:8080/"
    },
    "id": "1uJAKaNHyUS_",
    "outputId": "8f53c43f-19d9-46f4-9c9d-8f91e8d6b597",
    "executionInfo": {
     "status": "ok",
     "timestamp": 1677147249662,
     "user_tz": -120,
     "elapsed": 5,
     "user": {
      "displayName": "MIRUNA-ANDREEA ZAVELCA",
      "userId": "12692883064275182332"
     }
    }
   },
   "outputs": [],
   "source": [
    "pattern = re.compile(\"[+-]?(\\d+\\.)?\\d+\")\n",
    "for match in pattern.finditer(text):\n",
    "    print(match, \"--> valoarea căutată începe de la caracterul nr.\", match.start(), \", și este \", match.group())"
   ]
  },
  {
   "cell_type": "markdown",
   "metadata": {
    "id": "UQMO4b6u007D"
   },
   "source": [
    "## Encodings"
   ]
  },
  {
   "cell_type": "markdown",
   "metadata": {
    "id": "bI5ffSzvfJi8"
   },
   "source": [
    "Codificarea (encoding-ul) unui text poate varia, în funcție de limbă și este un element foarte mportant când lucrăm cu texte. \n",
    "\n",
    "Python foloseste standardul 'utf-8' pentru limba română, și nu numai. \n",
    "\n",
    "Următorul exemplu este preluat dintr-o subtitrare (.srt) din limba rusă, dar nu este encodat in utf-8. Așadar dacă vom încerca să îl citim fără să specificăm tipul de encoding, vom primi următoarea eroare:"
   ]
  },
  {
   "cell_type": "code",
   "execution_count": null,
   "metadata": {
    "colab": {
     "base_uri": "https://localhost:8080/",
     "height": 321
    },
    "id": "W1F8_BTNfOK1",
    "outputId": "06e81c1c-f290-4718-e6fa-c40850b90d74",
    "executionInfo": {
     "status": "error",
     "timestamp": 1677147307714,
     "user_tz": -120,
     "elapsed": 492,
     "user": {
      "displayName": "MIRUNA-ANDREEA ZAVELCA",
      "userId": "12692883064275182332"
     }
    }
   },
   "outputs": [],
   "source": [
    "with open('encoded_text.txt', \"r\") as fin:\n",
    "    content = fin.read()\n",
    "    print(content)"
   ]
  },
  {
   "cell_type": "markdown",
   "metadata": {
    "id": "60znqZ6wfP-s"
   },
   "source": [
    "Putem detecta encoding-ul folosit cu librăria `chardet`:"
   ]
  },
  {
   "cell_type": "code",
   "execution_count": null,
   "metadata": {
    "id": "gvOUmRW2fRN1",
    "colab": {
     "base_uri": "https://localhost:8080/"
    },
    "outputId": "55f1ead2-5032-46a8-87e4-07c52d08d39d",
    "executionInfo": {
     "status": "ok",
     "timestamp": 1677147316763,
     "user_tz": -120,
     "elapsed": 3788,
     "user": {
      "displayName": "MIRUNA-ANDREEA ZAVELCA",
      "userId": "12692883064275182332"
     }
    }
   },
   "outputs": [],
   "source": [
    "! pip install chardet"
   ]
  },
  {
   "cell_type": "code",
   "execution_count": null,
   "metadata": {
    "colab": {
     "base_uri": "https://localhost:8080/"
    },
    "id": "pBBadYt8fXx8",
    "outputId": "5624e14b-3858-4bd0-f101-285cfca36ccc",
    "executionInfo": {
     "status": "ok",
     "timestamp": 1677147320664,
     "user_tz": -120,
     "elapsed": 7,
     "user": {
      "displayName": "MIRUNA-ANDREEA ZAVELCA",
      "userId": "12692883064275182332"
     }
    }
   },
   "outputs": [],
   "source": [
    "import chardet\n",
    "\n",
    "with open('encoded_text.txt', \"rb\") as f:\n",
    "    rawdata = f.read()\n",
    "    result = chardet.detect(rawdata)\n",
    "    extracted_encoding = result['encoding']\n",
    "    print(\"Encoding-ul acestui fișier este: \", extracted_encoding)"
   ]
  },
  {
   "cell_type": "markdown",
   "source": [
    "Cu encoding-ul potrivit, acum fișierul se poate citi:"
   ],
   "metadata": {
    "id": "6fwcIBhPXVGp"
   }
  },
  {
   "cell_type": "code",
   "source": [
    "with open('encoded_text.txt', \"r\", encoding=\"windows-1251\") as fin:\n",
    "    content = fin.read()\n",
    "    print(content)"
   ],
   "metadata": {
    "colab": {
     "base_uri": "https://localhost:8080/"
    },
    "id": "E50dsKedXaZK",
    "outputId": "38ed4efe-8438-4391-a94b-c7f14acdd037",
    "executionInfo": {
     "status": "ok",
     "timestamp": 1677147323829,
     "user_tz": -120,
     "elapsed": 6,
     "user": {
      "displayName": "MIRUNA-ANDREEA ZAVELCA",
      "userId": "12692883064275182332"
     }
    }
   },
   "execution_count": null,
   "outputs": []
  },
  {
   "cell_type": "markdown",
   "metadata": {
    "id": "XwjdvMNSfZTP"
   },
   "source": [
    "Putem, dacă vrem, să salvam conținutul în format utf-8, deoarece acest format este default pentru python și nu mai trebie specificat la deschidere:"
   ]
  },
  {
   "cell_type": "code",
   "execution_count": null,
   "metadata": {
    "id": "OPBYzpfYfcF6",
    "executionInfo": {
     "status": "ok",
     "timestamp": 1677147326325,
     "user_tz": -120,
     "elapsed": 277,
     "user": {
      "displayName": "MIRUNA-ANDREEA ZAVELCA",
      "userId": "12692883064275182332"
     }
    }
   },
   "outputs": [],
   "source": [
    "with open('encoded_text.txt', 'r', encoding=extracted_encoding) as fin:\n",
    "    content = fin.read()\n",
    "with open('utf8_text.txt', 'w', encoding='utf-8') as fout:\n",
    "    fout.write(content)"
   ]
  },
  {
   "cell_type": "code",
   "execution_count": null,
   "metadata": {
    "colab": {
     "base_uri": "https://localhost:8080/"
    },
    "id": "3ZwGqlQifzDk",
    "outputId": "d91fad31-e80d-48ce-8c00-4aa03626cdf7",
    "executionInfo": {
     "status": "ok",
     "timestamp": 1677147327556,
     "user_tz": -120,
     "elapsed": 5,
     "user": {
      "displayName": "MIRUNA-ANDREEA ZAVELCA",
      "userId": "12692883064275182332"
     }
    }
   },
   "outputs": [],
   "source": [
    "with open('utf8_text.txt', \"r\") as fin:\n",
    "    content = fin.read()\n",
    "    print(content)"
   ]
  },
  {
   "cell_type": "markdown",
   "metadata": {
    "id": "EEC0t_4T05S2"
   },
   "source": [
    "## Non-standard files (PDF, Word, etc.)"
   ]
  },
  {
   "cell_type": "markdown",
   "metadata": {
    "id": "kT-3FzVo0QKT"
   },
   "source": [
    "Putem citi texte din documente word folosind librăria `doc2txt`."
   ]
  },
  {
   "cell_type": "code",
   "execution_count": null,
   "metadata": {
    "colab": {
     "base_uri": "https://localhost:8080/"
    },
    "id": "cmrTDGOUMjzW",
    "outputId": "6c3783e0-9ae0-4fec-9a15-1fc84a69ad9c",
    "executionInfo": {
     "status": "ok",
     "timestamp": 1677147344219,
     "user_tz": -120,
     "elapsed": 5458,
     "user": {
      "displayName": "MIRUNA-ANDREEA ZAVELCA",
      "userId": "12692883064275182332"
     }
    }
   },
   "outputs": [],
   "source": [
    "!pip install docx2txt"
   ]
  },
  {
   "cell_type": "code",
   "execution_count": null,
   "metadata": {
    "colab": {
     "base_uri": "https://localhost:8080/"
    },
    "id": "r9aPabVw0XBH",
    "outputId": "8e3714c2-6c46-4ec4-dcdf-a07fca7f099a",
    "executionInfo": {
     "status": "ok",
     "timestamp": 1677147345717,
     "user_tz": -120,
     "elapsed": 1526,
     "user": {
      "displayName": "MIRUNA-ANDREEA ZAVELCA",
      "userId": "12692883064275182332"
     }
    }
   },
   "outputs": [],
   "source": [
    "import docx2txt\n",
    "my_text = docx2txt.process(\"soup.docx\")\n",
    "print(my_text)"
   ]
  },
  {
   "cell_type": "markdown",
   "metadata": {
    "id": "rYv-2JYZ1YD3"
   },
   "source": [
    "Putem citi pdf-uri care sunt salvate ca texte (nu poze), de exemplu, cu librăria `pdfplumber`:"
   ]
  },
  {
   "cell_type": "code",
   "execution_count": null,
   "metadata": {
    "id": "uZHrdF851Z3q",
    "colab": {
     "base_uri": "https://localhost:8080/",
     "height": 537
    },
    "outputId": "3c1185f0-51a4-450d-ddeb-3d72cd80fcfe",
    "executionInfo": {
     "status": "ok",
     "timestamp": 1677147364138,
     "user_tz": -120,
     "elapsed": 15826,
     "user": {
      "displayName": "MIRUNA-ANDREEA ZAVELCA",
      "userId": "12692883064275182332"
     }
    }
   },
   "outputs": [],
   "source": [
    "! pip install pdfplumber"
   ]
  },
  {
   "cell_type": "code",
   "execution_count": null,
   "metadata": {
    "colab": {
     "base_uri": "https://localhost:8080/"
    },
    "id": "A_x4wZpQ1hh8",
    "outputId": "38d7af3c-3929-4d9d-8fe8-2215cf2430ff",
    "executionInfo": {
     "status": "ok",
     "timestamp": 1677147365920,
     "user_tz": -120,
     "elapsed": 1795,
     "user": {
      "displayName": "MIRUNA-ANDREEA ZAVELCA",
      "userId": "12692883064275182332"
     }
    }
   },
   "outputs": [],
   "source": [
    "import pdfplumber\n",
    "with pdfplumber.open('soup.pdf') as pdf:\n",
    "    for page in pdf.pages:\n",
    "        print(page.extract_text())"
   ]
  },
  {
   "cell_type": "markdown",
   "metadata": {
    "id": "-ix-cDK_1FrO"
   },
   "source": [
    "## Web scraping"
   ]
  },
  {
   "cell_type": "markdown",
   "metadata": {
    "id": "SZ5jU3-C9Xrw"
   },
   "source": [
    "Scraping-ul se referă la o mulțime de metode prin care putem descărca date nestructurate din mediul web. Pe noi ne interesează datele text, pe care după preluarea din mediul online le putem procesa și stoca într-o formă structurată."
   ]
  },
  {
   "cell_type": "markdown",
   "metadata": {
    "id": "kz0-C3BJj9V_"
   },
   "source": [
    "Ca prim exemplu de scraping vom incerca următorul task: pornind de la site-ul de programare competitiva \"infoarena.ro\" dorim pentru un utilizator sa descarcam informatii despre toate submisiile efectuate de acesta.\n",
    "\n",
    "Exemplu pagină de submisii: https://www.infoarena.ro/monitor?user=iordache.bogdan\n",
    "\n",
    "Pentru a realiza un request care să întoarca conținutul paginii putem folosi librăria `requests`:"
   ]
  },
  {
   "cell_type": "code",
   "execution_count": null,
   "metadata": {
    "id": "u_rQlqfFMjzc",
    "colab": {
     "base_uri": "https://localhost:8080/"
    },
    "outputId": "ed0fe30a-ed09-414d-c8f7-6cf6eeb292a5",
    "executionInfo": {
     "status": "ok",
     "timestamp": 1677147416558,
     "user_tz": -120,
     "elapsed": 5597,
     "user": {
      "displayName": "MIRUNA-ANDREEA ZAVELCA",
      "userId": "12692883064275182332"
     }
    }
   },
   "outputs": [],
   "source": [
    "! pip install requests"
   ]
  },
  {
   "cell_type": "code",
   "execution_count": null,
   "metadata": {
    "id": "Kp2mSeC_9CCu",
    "executionInfo": {
     "status": "ok",
     "timestamp": 1677147416560,
     "user_tz": -120,
     "elapsed": 10,
     "user": {
      "displayName": "MIRUNA-ANDREEA ZAVELCA",
      "userId": "12692883064275182332"
     }
    }
   },
   "outputs": [],
   "source": [
    "import requests\n",
    "\n",
    "def get_submissions_page(user):\n",
    "    return requests.get(f\"https://www.infoarena.ro/monitor?user={user}\")"
   ]
  },
  {
   "cell_type": "code",
   "execution_count": null,
   "metadata": {
    "id": "13W4i-G3k7hl",
    "executionInfo": {
     "status": "ok",
     "timestamp": 1677147422892,
     "user_tz": -120,
     "elapsed": 840,
     "user": {
      "displayName": "MIRUNA-ANDREEA ZAVELCA",
      "userId": "12692883064275182332"
     }
    }
   },
   "outputs": [],
   "source": [
    "html = get_submissions_page(\"iordache.bogdan\").content"
   ]
  },
  {
   "cell_type": "markdown",
   "metadata": {
    "id": "6aSHQWnilIOR"
   },
   "source": [
    "Observăm că folosind metoda de mai sus putem descarca întreg conținutul HTML al paginii. Pentru a extrage informații utile trebuie să parsam acest conținut. Pentru aceasta vom folosi biblioteca [BeautifulSoup](https://www.crummy.com/software/BeautifulSoup/bs4/doc/):"
   ]
  },
  {
   "cell_type": "code",
   "execution_count": null,
   "metadata": {
    "id": "a1NrQndSlG4g",
    "executionInfo": {
     "status": "ok",
     "timestamp": 1677147464742,
     "user_tz": -120,
     "elapsed": 239,
     "user": {
      "displayName": "MIRUNA-ANDREEA ZAVELCA",
      "userId": "12692883064275182332"
     }
    }
   },
   "outputs": [],
   "source": [
    "import bs4\n",
    "\n",
    "def parse_html(html):\n",
    "    return bs4.BeautifulSoup(html, \"html.parser\")"
   ]
  },
  {
   "cell_type": "markdown",
   "metadata": {
    "id": "DyKYAfF7l3pO"
   },
   "source": [
    "Având conținutul parsat, putem determina acum câte submisii are în total acest utilizator:"
   ]
  },
  {
   "cell_type": "code",
   "execution_count": null,
   "metadata": {
    "colab": {
     "base_uri": "https://localhost:8080/"
    },
    "id": "UB0sUnx0ltvH",
    "outputId": "07a1bd25-5e5d-47a6-b565-fde6663893e6",
    "executionInfo": {
     "status": "ok",
     "timestamp": 1677147481166,
     "user_tz": -120,
     "elapsed": 227,
     "user": {
      "displayName": "MIRUNA-ANDREEA ZAVELCA",
      "userId": "12692883064275182332"
     }
    }
   },
   "outputs": [],
   "source": [
    "import re\n",
    "\n",
    "soup = parse_html(html)\n",
    "\n",
    "# cautam un span care are clasa \"count\", in acest span se afla numarul de submisii\n",
    "submission_count_text = soup.find(\"span\", class_=\"count\").text\n",
    "print(submission_count_text)\n"
   ]
  },
  {
   "cell_type": "markdown",
   "source": [
    "Pentru a extrage doar numărul din această înșiruire de caractere ne putem folosi de regex:"
   ],
   "metadata": {
    "id": "kkxcLqPcdPnO"
   }
  },
  {
   "cell_type": "code",
   "source": [
    "submission_count = int(re.search(r\"\\d+\", submission_count_text).group())\n",
    "print(submission_count)"
   ],
   "metadata": {
    "colab": {
     "base_uri": "https://localhost:8080/"
    },
    "id": "FHCAcFfzdQT4",
    "outputId": "0be13c09-b432-477f-ee01-a6ccdf39b166",
    "executionInfo": {
     "status": "ok",
     "timestamp": 1677147491657,
     "user_tz": -120,
     "elapsed": 227,
     "user": {
      "displayName": "MIRUNA-ANDREEA ZAVELCA",
      "userId": "12692883064275182332"
     }
    }
   },
   "execution_count": null,
   "outputs": []
  },
  {
   "cell_type": "markdown",
   "metadata": {
    "id": "Obu7nG4HnSIJ"
   },
   "source": [
    "Observăm că aceste submisii sunt împărtite în mai multe pagini (paginarea rezultatelor). \n",
    "\n",
    "De asemenea, link-ul următor: https://www.infoarena.ro/monitor?user=iordache.bogdan&display_entries=250&first_entry=100 ne returnează 250 de submisii, incepând cu submisia cu numarul 100. \n",
    "\n",
    "Putem modifica metoda `get_submissions_page` astfel:"
   ]
  },
  {
   "cell_type": "code",
   "execution_count": null,
   "metadata": {
    "id": "xwKHy-zGnQ27",
    "executionInfo": {
     "status": "ok",
     "timestamp": 1677147511748,
     "user_tz": -120,
     "elapsed": 252,
     "user": {
      "displayName": "MIRUNA-ANDREEA ZAVELCA",
      "userId": "12692883064275182332"
     }
    }
   },
   "outputs": [],
   "source": [
    "def get_submissions_page(user, display_entries=None, first_entry=None):\n",
    "    req_string = f\"https://www.infoarena.ro/monitor?user={user}\"\n",
    "    if display_entries is not None:\n",
    "        req_string += f\"&display_entries={display_entries}\"\n",
    "    if first_entry is not None:\n",
    "        req_string += f\"&first_entry={first_entry}\"\n",
    "\n",
    "    return requests.get(req_string)"
   ]
  },
  {
   "cell_type": "markdown",
   "metadata": {
    "id": "Pv9ylMxPoTh4"
   },
   "source": [
    "Și putem implementa o funcție care returnează informații despre toate submisiile unui utilizator:"
   ]
  },
  {
   "cell_type": "code",
   "execution_count": null,
   "metadata": {
    "id": "sLG0u9POonXT",
    "executionInfo": {
     "status": "ok",
     "timestamp": 1677147516911,
     "user_tz": -120,
     "elapsed": 809,
     "user": {
      "displayName": "MIRUNA-ANDREEA ZAVELCA",
      "userId": "12692883064275182332"
     }
    }
   },
   "outputs": [],
   "source": [
    "from tqdm import tqdm\n",
    "import pandas as pd\n",
    "import pdb\n",
    "\n",
    "def scrape_submissions(user):\n",
    "    # determinam numarul total de submisii\n",
    "    html = get_submissions_page(user).content\n",
    "    soup = parse_html(html)\n",
    "    submission_count_text = soup.find(\"span\", class_=\"count\").text\n",
    "    submission_count = int(re.search(r\"\\d+\", submission_count_text).group())\n",
    "\n",
    "    # vom salva in acest dictionar datele despre submisiile extrase, structura aceasta\n",
    "    # ne va ajuta ulterior sa construim un tabel (dataframe) folosind pandas\n",
    "    d = {\n",
    "        \"id\": [],\n",
    "        \"problema\": [],\n",
    "        \"url_problema\": [],\n",
    "        \"url_sursa\": [],\n",
    "        \"data\": [],\n",
    "        \"puncte\": [],\n",
    "    }\n",
    "\n",
    "    # accesam pagini cu submisii in grupuri de 250\n",
    "    for first_entry in tqdm(range(0, submission_count, 250)):\n",
    "        html = get_submissions_page(user, display_entries=250, first_entry=first_entry).content\n",
    "        soup = parse_html(html)\n",
    "\n",
    "        # selectam toate liniile de tabel (tr)\n",
    "        lines = soup.select(\"table.monitor tbody tr\")\n",
    "\n",
    "        for line in lines:\n",
    "            # selectam celulele de pe aceasta linie\n",
    "            cells = [cell for cell in line.select(\"td\")]\n",
    "\n",
    "            # extragem link-urile pentru problema si codul sursa\n",
    "            try:\n",
    "                url_problema = cells[2].select_one(\"a\")[\"href\"]\n",
    "                url_sursa = cells[4].select_one(\"a\")[\"href\"]\n",
    "            except Exception:  # daca vreun link nu exista ignoram linia\n",
    "                continue\n",
    "            \n",
    "            d[\"id\"].append(cells[0].text)\n",
    "            d[\"problema\"].append(cells[2].text)\n",
    "            d[\"url_problema\"].append(url_problema)\n",
    "            d[\"url_sursa\"].append(url_sursa)\n",
    "            d[\"data\"].append(cells[5].text)\n",
    "\n",
    "            try:\n",
    "                puncte = int(re.search(r\"\\d+\", cells[6].text).group())\n",
    "            except Exception:\n",
    "                puncte = 0\n",
    "            d[\"puncte\"].append(puncte)\n",
    "\n",
    "    return pd.DataFrame(d)"
   ]
  },
  {
   "cell_type": "code",
   "execution_count": null,
   "metadata": {
    "colab": {
     "base_uri": "https://localhost:8080/"
    },
    "id": "W9Pf0rtfrL_w",
    "outputId": "905ae537-38ad-4904-d433-c362666c4c19",
    "executionInfo": {
     "status": "ok",
     "timestamp": 1677147556229,
     "user_tz": -120,
     "elapsed": 33158,
     "user": {
      "displayName": "MIRUNA-ANDREEA ZAVELCA",
      "userId": "12692883064275182332"
     }
    }
   },
   "outputs": [],
   "source": [
    "df_submissions = scrape_submissions(\"iordache.bogdan\")"
   ]
  },
  {
   "cell_type": "code",
   "execution_count": null,
   "metadata": {
    "colab": {
     "base_uri": "https://localhost:8080/",
     "height": 206
    },
    "id": "LwOII21wtFKF",
    "outputId": "ba2b93ad-3a33-4c4b-c41f-9b8cf634b1b6",
    "executionInfo": {
     "status": "ok",
     "timestamp": 1677147574100,
     "user_tz": -120,
     "elapsed": 257,
     "user": {
      "displayName": "MIRUNA-ANDREEA ZAVELCA",
      "userId": "12692883064275182332"
     }
    }
   },
   "outputs": [],
   "source": [
    "df_submissions.head()"
   ]
  },
  {
   "cell_type": "code",
   "execution_count": null,
   "metadata": {
    "id": "bSUVqGCBwycM",
    "executionInfo": {
     "status": "ok",
     "timestamp": 1677147582594,
     "user_tz": -120,
     "elapsed": 1040,
     "user": {
      "displayName": "MIRUNA-ANDREEA ZAVELCA",
      "userId": "12692883064275182332"
     }
    }
   },
   "outputs": [],
   "source": [
    "df_submissions.to_csv(\"submissions.csv\", index=False)"
   ]
  },
  {
   "cell_type": "markdown",
   "metadata": {
    "id": "0JDLdzlAijhV"
   },
   "source": [
    "Exemplu scriere/citire fisier JSON:"
   ]
  },
  {
   "cell_type": "code",
   "execution_count": null,
   "metadata": {
    "id": "SkKsP_UPiofJ",
    "executionInfo": {
     "status": "ok",
     "timestamp": 1677147588722,
     "user_tz": -120,
     "elapsed": 672,
     "user": {
      "displayName": "MIRUNA-ANDREEA ZAVELCA",
      "userId": "12692883064275182332"
     }
    }
   },
   "outputs": [],
   "source": [
    "import json\n",
    "\n",
    "vec = [\n",
    "    {\"title\": \"example_1\", \"size\": 7},\n",
    "    {\"title\": \"example_2\", \"size\": 3},\n",
    "    {\"title\": \"example_3\", \"size\": 8},\n",
    "]\n",
    "\n",
    "with open(\"example.json\", \"w\") as f:\n",
    "    json.dump(vec, f, indent=4)"
   ]
  },
  {
   "cell_type": "code",
   "execution_count": null,
   "metadata": {
    "colab": {
     "base_uri": "https://localhost:8080/"
    },
    "id": "8qpLd3OujHvP",
    "outputId": "610307e8-0a04-4b75-a893-e922ea170bde",
    "executionInfo": {
     "status": "ok",
     "timestamp": 1677147590553,
     "user_tz": -120,
     "elapsed": 216,
     "user": {
      "displayName": "MIRUNA-ANDREEA ZAVELCA",
      "userId": "12692883064275182332"
     }
    }
   },
   "outputs": [],
   "source": [
    "with open(\"example.json\", \"r\") as f:\n",
    "    vec = json.load(f)\n",
    "print(vec)"
   ]
  },
  {
   "cell_type": "markdown",
   "metadata": {
    "id": "L57SsXOnfd__"
   },
   "source": [
    "Un alt mod de a face scraping este sa folosim biblioteca pandas pentru a ne extrage tabele html, transformandu-le in DataFrame-uri, pe care le putem manipula foarte usor. Un exemplu util este extragerea sărbătorilor legale romanesti, din anul 2022, de pe https://www.timeanddate.com/."
   ]
  },
  {
   "cell_type": "code",
   "execution_count": null,
   "metadata": {
    "id": "6RGz_oJ7Mjzr",
    "colab": {
     "base_uri": "https://localhost:8080/"
    },
    "outputId": "7d013808-7025-486c-8917-d03d29b0bd71",
    "executionInfo": {
     "status": "ok",
     "timestamp": 1677147599934,
     "user_tz": -120,
     "elapsed": 5811,
     "user": {
      "displayName": "MIRUNA-ANDREEA ZAVELCA",
      "userId": "12692883064275182332"
     }
    }
   },
   "outputs": [],
   "source": [
    "! pip install lxml"
   ]
  },
  {
   "cell_type": "code",
   "execution_count": null,
   "metadata": {
    "colab": {
     "base_uri": "https://localhost:8080/",
     "height": 206
    },
    "id": "4KiZSYVGg1jP",
    "outputId": "fc76e286-4f8a-4ea8-bee5-1b50a01c4287",
    "executionInfo": {
     "status": "ok",
     "timestamp": 1677147606026,
     "user_tz": -120,
     "elapsed": 10,
     "user": {
      "displayName": "MIRUNA-ANDREEA ZAVELCA",
      "userId": "12692883064275182332"
     }
    }
   },
   "outputs": [],
   "source": [
    "import pandas as pd\n",
    "\n",
    "tables_df = pd.read_html('https://www.timeanddate.com/holidays/romania/2022?hol=1')\n",
    "df = tables_df[0]\n",
    "\n",
    "# Il putem curata prin a sterge liniile nule si modifica coloanele de la tuplul \"(Date, Date)\" -> \"Date\"\n",
    "df = df.dropna(axis='index')\n",
    "df.columns = ['Date', 'Day', 'Name', 'Type']\n",
    "\n",
    "# Reindexam tabelul\n",
    "df = df.reset_index(drop=\"True\")\n",
    "\n",
    "# Afisam primele 5 randuri\n",
    "df.head()"
   ]
  },
  {
   "cell_type": "code",
   "execution_count": null,
   "metadata": {
    "colab": {
     "base_uri": "https://localhost:8080/",
     "height": 237
    },
    "id": "4s6tVtnIfF1_",
    "outputId": "343bd416-8a9c-4d5f-ce46-d6649c4b8f29",
    "executionInfo": {
     "status": "ok",
     "timestamp": 1677147607809,
     "user_tz": -120,
     "elapsed": 10,
     "user": {
      "displayName": "MIRUNA-ANDREEA ZAVELCA",
      "userId": "12692883064275182332"
     }
    }
   },
   "outputs": [],
   "source": [
    "# Daca vrem se vedem sarbatorile care se nimeresc in ziua de luni putem face o selecție în dataframe\n",
    "df_luni = df.loc[df[\"Day\"] == \"Monday\"]\n",
    "df_luni"
   ]
  },
  {
   "cell_type": "markdown",
   "metadata": {
    "id": "xmrzEs27iHYw"
   },
   "source": [
    "Putem salva rezultatul (la fel ca orice dicționar de python) intr-un json, ca alternativa la DataFrame - acest lucru poate fi util într-o aplicație pentru comunicarea cu front-end-ul."
   ]
  },
  {
   "cell_type": "code",
   "execution_count": null,
   "metadata": {
    "id": "cRwND0SBh_Ca",
    "executionInfo": {
     "status": "ok",
     "timestamp": 1677147622169,
     "user_tz": -120,
     "elapsed": 569,
     "user": {
      "displayName": "MIRUNA-ANDREEA ZAVELCA",
      "userId": "12692883064275182332"
     }
    }
   },
   "outputs": [],
   "source": [
    "import json\n",
    "json_str = df.to_json(orient='records')\n",
    "json_result = json.loads(json_str)\n",
    "\n",
    "with open('holidays.json', 'w', encoding='utf8') as fout:\n",
    "    json.dump(json_result, fout, indent=4, sort_keys=True, ensure_ascii=False)"
   ]
  },
  {
   "cell_type": "markdown",
   "metadata": {
    "id": "v4uecs3b3MXZ"
   },
   "source": [
    "Alte biblioteci utile pentru scraping:\n",
    " * [scrapy](https://scrapy.org/) (folosit in special pentru web crawling)\n",
    " * [selenium](https://selenium-python.readthedocs.io/) (folosit pentru a simula activitatea din browser, utilizat in special in scrierea de teste pentru aplicatii front-end)"
   ]
  },
  {
   "cell_type": "markdown",
   "metadata": {
    "id": "sFNRIfgF1cRD"
   },
   "source": [
    "## TASK: IMDb scraping"
   ]
  },
  {
   "cell_type": "markdown",
   "source": [
    "File upload:\n",
    "https://docs.google.com/forms/d/e/1FAIpQLSdOKefipRl6cwjukN5YIxl7Q64dHoUHk2zqg1aO31U7kieHXQ/viewform?usp=sf_link"
   ],
   "metadata": {
    "id": "kS1GkN-utjfp"
   }
  },
  {
   "cell_type": "markdown",
   "metadata": {
    "id": "6G-0iTm14GIy"
   },
   "source": [
    "1. Pornind de la lista cu cele mai populare 250 de filme de pe IMDb ([https://www.imdb.com/chart/top/](https://www.imdb.com/chart/top/)), identificati pentru toate aceste filme link-ul catre pagina sa de recenzii.\n",
    "\n",
    "Exemplu: aici se gaseste pagina cu recenzii pentru \"The Shawshank Redemption\": [https://www.imdb.com/title/tt0111161/reviews](https://www.imdb.com/title/tt0111161/reviews)"
   ]
  },
  {
   "cell_type": "code",
   "execution_count": 2,
   "metadata": {
    "id": "Wlm1QSJR5Ie9"
   },
   "outputs": [
    {
     "name": "stdout",
     "output_type": "stream",
     "text": [
      "Movie: Închisoarea îngerilor. Reviews link: https://www.imdb.com/title/tt0111161/reviews\n",
      "Movie: Nașul. Reviews link: https://www.imdb.com/title/tt0068646/reviews\n",
      "Movie: Cavalerul negru. Reviews link: https://www.imdb.com/title/tt0468569/reviews\n",
      "Movie: Nașul: Partea a II-a. Reviews link: https://www.imdb.com/title/tt0071562/reviews\n",
      "Movie: 12 Oameni mânioşi. Reviews link: https://www.imdb.com/title/tt0050083/reviews\n",
      "Movie: Lista lui Schindler. Reviews link: https://www.imdb.com/title/tt0108052/reviews\n",
      "Movie: Stăpânul inelelor: Întoarcerea regelui. Reviews link: https://www.imdb.com/title/tt0167260/reviews\n",
      "Movie: Pulp Fiction. Reviews link: https://www.imdb.com/title/tt0110912/reviews\n",
      "Movie: Stăpânul inelelor: Frăția inelului. Reviews link: https://www.imdb.com/title/tt0120737/reviews\n",
      "Movie: Cel bun, cel rău, cel urât. Reviews link: https://www.imdb.com/title/tt0060196/reviews\n",
      "Movie: Forrest Gump. Reviews link: https://www.imdb.com/title/tt0109830/reviews\n",
      "Movie: Fight Club - Sala de lupte. Reviews link: https://www.imdb.com/title/tt0137523/reviews\n",
      "Movie: Stăpânul inelelor: Cele două turnuri. Reviews link: https://www.imdb.com/title/tt0167261/reviews\n",
      "Movie: Începutul. Reviews link: https://www.imdb.com/title/tt1375666/reviews\n",
      "Movie: Războiul stelelor - Episodul V: Imperiul contraatacă. Reviews link: https://www.imdb.com/title/tt0080684/reviews\n",
      "Movie: Matrix. Reviews link: https://www.imdb.com/title/tt0133093/reviews\n",
      "Movie: Băieți buni. Reviews link: https://www.imdb.com/title/tt0099685/reviews\n",
      "Movie: Zbor deasupra unui cuib de cuci. Reviews link: https://www.imdb.com/title/tt0073486/reviews\n",
      "Movie: Se7en. Reviews link: https://www.imdb.com/title/tt0114369/reviews\n",
      "Movie: Cei șapte samurai. Reviews link: https://www.imdb.com/title/tt0047478/reviews\n",
      "Movie: O viață minunată. Reviews link: https://www.imdb.com/title/tt0038650/reviews\n",
      "Movie: Tăcerea mieilor. Reviews link: https://www.imdb.com/title/tt0102926/reviews\n",
      "Movie: Salvați soldatul Ryan. Reviews link: https://www.imdb.com/title/tt0120815/reviews\n",
      "Movie: Orașul zeilor. Reviews link: https://www.imdb.com/title/tt0317248/reviews\n",
      "Movie: Interstellar: Călătorind prin univers. Reviews link: https://www.imdb.com/title/tt0816692/reviews\n",
      "Movie: Viața e frumoasă. Reviews link: https://www.imdb.com/title/tt0118799/reviews\n",
      "Movie: Culoarul morții. Reviews link: https://www.imdb.com/title/tt0120689/reviews\n",
      "Movie: Războiul stelelor - Episodul IV: O nouă speranță. Reviews link: https://www.imdb.com/title/tt0076759/reviews\n",
      "Movie: Terminatorul 2: Ziua judecății. Reviews link: https://www.imdb.com/title/tt0103064/reviews\n",
      "Movie: Înapoi în viitor. Reviews link: https://www.imdb.com/title/tt0088763/reviews\n",
      "Movie: Călătoria lui Chihiro. Reviews link: https://www.imdb.com/title/tt0245429/reviews\n",
      "Movie: Pianistul. Reviews link: https://www.imdb.com/title/tt0253474/reviews\n",
      "Movie: Psycho. Reviews link: https://www.imdb.com/title/tt0054215/reviews\n",
      "Movie: Parazit. Reviews link: https://www.imdb.com/title/tt6751668/reviews\n",
      "Movie: Leon. Reviews link: https://www.imdb.com/title/tt0110413/reviews\n",
      "Movie: The Lion King. Reviews link: https://www.imdb.com/title/tt0110357/reviews\n",
      "Movie: Gladiatorul. Reviews link: https://www.imdb.com/title/tt0172495/reviews\n",
      "Movie: Povestea X a Americii. Reviews link: https://www.imdb.com/title/tt0120586/reviews\n",
      "Movie: Cârtița. Reviews link: https://www.imdb.com/title/tt0407887/reviews\n",
      "Movie: Suspecți de serviciu. Reviews link: https://www.imdb.com/title/tt0114814/reviews\n",
      "Movie: Prestigiul. Reviews link: https://www.imdb.com/title/tt0482571/reviews\n",
      "Movie: Whiplash. Reviews link: https://www.imdb.com/title/tt2582802/reviews\n",
      "Movie: Casablanca. Reviews link: https://www.imdb.com/title/tt0034583/reviews\n",
      "Movie: Harakiri. Reviews link: https://www.imdb.com/title/tt0056058/reviews\n",
      "Movie: Cimitirul licuricilor. Reviews link: https://www.imdb.com/title/tt0095327/reviews\n",
      "Movie: Invincibilii. Reviews link: https://www.imdb.com/title/tt1675434/reviews\n",
      "Movie: Timpuri noi. Reviews link: https://www.imdb.com/title/tt0027977/reviews\n",
      "Movie: Undeva, cândva în Vest. Reviews link: https://www.imdb.com/title/tt0064116/reviews\n",
      "Movie: În spatele ferestrei. Reviews link: https://www.imdb.com/title/tt0047396/reviews\n",
      "Movie: Cinema Paradiso. Reviews link: https://www.imdb.com/title/tt0095765/reviews\n",
      "Movie: Alien. Reviews link: https://www.imdb.com/title/tt0078748/reviews\n",
      "Movie: Luminile orașului. Reviews link: https://www.imdb.com/title/tt0021749/reviews\n",
      "Movie: Apocalipsul acum. Reviews link: https://www.imdb.com/title/tt0078788/reviews\n",
      "Movie: Memento. Reviews link: https://www.imdb.com/title/tt0209144/reviews\n",
      "Movie: Django dezlănțuit. Reviews link: https://www.imdb.com/title/tt1853728/reviews\n",
      "Movie: Indiana Jones și căutătorii arcei pierdute. Reviews link: https://www.imdb.com/title/tt0082971/reviews\n",
      "Movie: WALL-E. Reviews link: https://www.imdb.com/title/tt0910970/reviews\n",
      "Movie: Viețile altora. Reviews link: https://www.imdb.com/title/tt0405094/reviews\n",
      "Movie: Bulevardul amurgului. Reviews link: https://www.imdb.com/title/tt0043014/reviews\n",
      "Movie: Cărările gloriei. Reviews link: https://www.imdb.com/title/tt0050825/reviews\n",
      "Movie: Strălucirea. Reviews link: https://www.imdb.com/title/tt0081505/reviews\n",
      "Movie: Dictatorul. Reviews link: https://www.imdb.com/title/tt0032553/reviews\n",
      "Movie: Răzbunătorii: Războiul infinitului. Reviews link: https://www.imdb.com/title/tt4154756/reviews\n",
      "Movie: Martorul acuzării. Reviews link: https://www.imdb.com/title/tt0051201/reviews\n",
      "Movie: Alien 2 - Misiune de pedeapsă. Reviews link: https://www.imdb.com/title/tt0090605/reviews\n",
      "Movie: Omul-Păianjen: În lumea păianjenului. Reviews link: https://www.imdb.com/title/tt4633694/reviews\n",
      "Movie: Frumusețe americană. Reviews link: https://www.imdb.com/title/tt0169547/reviews\n",
      "Movie: Dr. Strangelove sau cum am învățat să nu mă mai tem și să iubesc bomba. Reviews link: https://www.imdb.com/title/tt0057012/reviews\n",
      "Movie: Cavalerul negru: Legenda renaște. Reviews link: https://www.imdb.com/title/tt1345836/reviews\n",
      "Movie: Căinţă şi răzbunare. Reviews link: https://www.imdb.com/title/tt0364569/reviews\n",
      "Movie: Ticăloși fără glorie. Reviews link: https://www.imdb.com/title/tt0361748/reviews\n",
      "Movie: Amadeus. Reviews link: https://www.imdb.com/title/tt0086879/reviews\n",
      "Movie: Coco. Reviews link: https://www.imdb.com/title/tt2380307/reviews\n",
      "Movie: Povestea jucăriilor. Reviews link: https://www.imdb.com/title/tt0114709/reviews\n",
      "Movie: Joker. Reviews link: https://www.imdb.com/title/tt7286456/reviews\n",
      "Movie: Inimă neînfricată. Reviews link: https://www.imdb.com/title/tt0112573/reviews\n",
      "Movie: Submarinul. Reviews link: https://www.imdb.com/title/tt0082096/reviews\n",
      "Movie: Răzbunătorii: Sfârșitul jocului. Reviews link: https://www.imdb.com/title/tt4154796/reviews\n",
      "Movie: Prințesa Mononoke. Reviews link: https://www.imdb.com/title/tt0119698/reviews\n",
      "Movie: A fost odată în America. Reviews link: https://www.imdb.com/title/tt0087843/reviews\n",
      "Movie: Bunul Will Hunting. Reviews link: https://www.imdb.com/title/tt0119217/reviews\n",
      "Movie: Numele tău. Reviews link: https://www.imdb.com/title/tt5311514/reviews\n",
      "Movie: Cântând în ploaie. Reviews link: https://www.imdb.com/title/tt0045152/reviews\n",
      "Movie: 3 idioți. Reviews link: https://www.imdb.com/title/tt1187043/reviews\n",
      "Movie: Requiem pentru un vis. Reviews link: https://www.imdb.com/title/tt0180093/reviews\n",
      "Movie: Cerul și iadul. Reviews link: https://www.imdb.com/title/tt0057565/reviews\n",
      "Movie: Povestea jucăriilor 3. Reviews link: https://www.imdb.com/title/tt0435761/reviews\n",
      "Movie: Capernaum - Haos și speranță. Reviews link: https://www.imdb.com/title/tt8267604/reviews\n",
      "Movie: Războiul stelelor - Episodul VI: Întoarcerea lui Jedi. Reviews link: https://www.imdb.com/title/tt0086190/reviews\n",
      "Movie: Strălucirea eternă a minții neprihănite. Reviews link: https://www.imdb.com/title/tt0338013/reviews\n",
      "Movie: Odiseea spațială 2001. Reviews link: https://www.imdb.com/title/tt0062622/reviews\n",
      "Movie: Profesioniștii crimei. Reviews link: https://www.imdb.com/title/tt0105236/reviews\n",
      "Movie: Vino si vezi. Reviews link: https://www.imdb.com/title/tt0091251/reviews\n",
      "Movie: Vânătoarea. Reviews link: https://www.imdb.com/title/tt2106476/reviews\n",
      "Movie: Cetățeanul Kane. Reviews link: https://www.imdb.com/title/tt0033467/reviews\n",
      "Movie: M - Un oraș își caută ucigașul. Reviews link: https://www.imdb.com/title/tt0022100/reviews\n",
      "Movie: Lawrence din Arabia. Reviews link: https://www.imdb.com/title/tt0056172/reviews\n",
      "Movie: La nord, prin nord-vest. Reviews link: https://www.imdb.com/title/tt0053125/reviews\n",
      "Movie: A trăi. Reviews link: https://www.imdb.com/title/tt0044741/reviews\n",
      "Movie: Amețeala. Reviews link: https://www.imdb.com/title/tt0052357/reviews\n",
      "Movie: Apartamentul. Reviews link: https://www.imdb.com/title/tt0053604/reviews\n",
      "Movie: Amélie. Reviews link: https://www.imdb.com/title/tt0211915/reviews\n",
      "Movie: Portocala mecanică. Reviews link: https://www.imdb.com/title/tt0066921/reviews\n",
      "Movie: Asigurare de moarte. Reviews link: https://www.imdb.com/title/tt0036775/reviews\n",
      "Movie: Glonţ cu cămaşă metalică. Reviews link: https://www.imdb.com/title/tt0093058/reviews\n",
      "Movie: Scarface. Reviews link: https://www.imdb.com/title/tt0086250/reviews\n",
      "Movie: Hamilton. Reviews link: https://www.imdb.com/title/tt8503618/reviews\n",
      "Movie: Top Gun: Maverick. Reviews link: https://www.imdb.com/title/tt1745960/reviews\n",
      "Movie: Incendii. Reviews link: https://www.imdb.com/title/tt1255953/reviews\n",
      "Movie: Să ucizi o pasăre cântătoare. Reviews link: https://www.imdb.com/title/tt0056592/reviews\n",
      "Movie: Obsesia. Reviews link: https://www.imdb.com/title/tt0113277/reviews\n",
      "Movie: Cacealmaua. Reviews link: https://www.imdb.com/title/tt0070735/reviews\n",
      "Movie: Deasupra tuturor. Reviews link: https://www.imdb.com/title/tt1049413/reviews\n",
      "Movie: Nader și Simin, o despărțire. Reviews link: https://www.imdb.com/title/tt1832382/reviews\n",
      "Movie: Metropolis. Reviews link: https://www.imdb.com/title/tt0017136/reviews\n",
      "Movie: Șoferul de taxi. Reviews link: https://www.imdb.com/title/tt0075314/reviews\n",
      "Movie: L.A. Confidential. Reviews link: https://www.imdb.com/title/tt0119488/reviews\n",
      "Movie: Greu de ucis. Reviews link: https://www.imdb.com/title/tt0095016/reviews\n",
      "Movie: Unde dai și unde crapă. Reviews link: https://www.imdb.com/title/tt0208092/reviews\n",
      "Movie: Indiana Jones și ultima cruciadă. Reviews link: https://www.imdb.com/title/tt0097576/reviews\n",
      "Movie: Hoți de biciclete. Reviews link: https://www.imdb.com/title/tt0040522/reviews\n",
      "Movie: Ca stelele pe Pământ. Reviews link: https://www.imdb.com/title/tt0986264/reviews\n",
      "Movie: 1917: Speranță și moarte. Reviews link: https://www.imdb.com/title/tt8579674/reviews\n",
      "Movie: Ultimele zile ale lui Hitler. Reviews link: https://www.imdb.com/title/tt0363163/reviews\n",
      "Movie: Dangal. Reviews link: https://www.imdb.com/title/tt5074352/reviews\n",
      "Movie: Pentru câțiva dolari în plus. Reviews link: https://www.imdb.com/title/tt0059578/reviews\n",
      "Movie: Batman - Începuturi. Reviews link: https://www.imdb.com/title/tt0372784/reviews\n",
      "Movie: Piciul. Reviews link: https://www.imdb.com/title/tt0012349/reviews\n",
      "Movie: Unora le place jazzul. Reviews link: https://www.imdb.com/title/tt0053291/reviews\n",
      "Movie: The Father. Reviews link: https://www.imdb.com/title/tt10272386/reviews\n",
      "Movie: Totul despre Eva. Reviews link: https://www.imdb.com/title/tt0042192/reviews\n",
      "Movie: Lupul de pe Wall Street. Reviews link: https://www.imdb.com/title/tt0993846/reviews\n",
      "Movie: Green Book: O prietenie pe viață. Reviews link: https://www.imdb.com/title/tt6966692/reviews\n",
      "Movie: Procesul de la Nürnberg. Reviews link: https://www.imdb.com/title/tt0055031/reviews\n",
      "Movie: Haos. Reviews link: https://www.imdb.com/title/tt0089881/reviews\n",
      "Movie: Casino. Reviews link: https://www.imdb.com/title/tt0112641/reviews\n",
      "Movie: Labirintul lui Pan. Reviews link: https://www.imdb.com/title/tt0457430/reviews\n",
      "Movie: Truman Show. Reviews link: https://www.imdb.com/title/tt0120382/reviews\n",
      "Movie: Va curge sânge. Reviews link: https://www.imdb.com/title/tt0469494/reviews\n",
      "Movie: Necruțătorul. Reviews link: https://www.imdb.com/title/tt0105695/reviews\n",
      "Movie: Al șaselea simț. Reviews link: https://www.imdb.com/title/tt0167404/reviews\n",
      "Movie: Insula Shutter. Reviews link: https://www.imdb.com/title/tt1130884/reviews\n",
      "Movie: O minte sclipitoare. Reviews link: https://www.imdb.com/title/tt0268978/reviews\n",
      "Movie: Jurassic Park. Reviews link: https://www.imdb.com/title/tt0107290/reviews\n",
      "Movie: Garda de corp. Reviews link: https://www.imdb.com/title/tt0055630/reviews\n",
      "Movie: Comoara din Sierra Madre. Reviews link: https://www.imdb.com/title/tt0040897/reviews\n",
      "Movie: Monty Python și Sfântul Graal. Reviews link: https://www.imdb.com/title/tt0071853/reviews\n",
      "Movie: Marea evadare. Reviews link: https://www.imdb.com/title/tt0057115/reviews\n",
      "Movie: Nu există țară pentru bătrâni. Reviews link: https://www.imdb.com/title/tt0477348/reviews\n",
      "Movie: Kill Bill: Volumul 1. Reviews link: https://www.imdb.com/title/tt0266697/reviews\n",
      "Movie: Rashomon. Reviews link: https://www.imdb.com/title/tt0042876/reviews\n",
      "Movie: Omul-Păianjen: Niciun Drum Spre Casă. Reviews link: https://www.imdb.com/title/tt10872600/reviews\n",
      "Movie: Creatura. Reviews link: https://www.imdb.com/title/tt0084787/reviews\n",
      "Movie: În căutarea lui Nemo. Reviews link: https://www.imdb.com/title/tt0266543/reviews\n",
      "Movie: Omul elefant. Reviews link: https://www.imdb.com/title/tt0080678/reviews\n",
      "Movie: Cartierul chinezesc. Reviews link: https://www.imdb.com/title/tt0071315/reviews\n",
      "Movie: Taurul furios. Reviews link: https://www.imdb.com/title/tt0081398/reviews\n",
      "Movie: V de la Vendetta. Reviews link: https://www.imdb.com/title/tt0434409/reviews\n",
      "Movie: Pe aripile vântului. Reviews link: https://www.imdb.com/title/tt0031381/reviews\n",
      "Movie: Jocuri, poturi și focuri de armă. Reviews link: https://www.imdb.com/title/tt0120735/reviews\n",
      "Movie: Întors pe dos. Reviews link: https://www.imdb.com/title/tt2096673/reviews\n",
      "Movie: Cu C de la crimă. Reviews link: https://www.imdb.com/title/tt0046912/reviews\n",
      "Movie: Secretul. Reviews link: https://www.imdb.com/title/tt1305806/reviews\n",
      "Movie: Castelul umblător al lui Howl. Reviews link: https://www.imdb.com/title/tt0347149/reviews\n",
      "Movie: Trei panouri publicitare lângă Ebbing, Missouri. Reviews link: https://www.imdb.com/title/tt5027774/reviews\n",
      "Movie: Podul de pe râul Kwai. Reviews link: https://www.imdb.com/title/tt0050212/reviews\n",
      "Movie: Trainspotting - Din viață scapă cine poate. Reviews link: https://www.imdb.com/title/tt0117951/reviews\n",
      "Movie: Prizonieri. Reviews link: https://www.imdb.com/title/tt1392214/reviews\n",
      "Movie: Războinicul. Reviews link: https://www.imdb.com/title/tt1291584/reviews\n",
      "Movie: Fargo. Reviews link: https://www.imdb.com/title/tt0116282/reviews\n",
      "Movie: Gran Torino. Reviews link: https://www.imdb.com/title/tt1205489/reviews\n",
      "Movie: Vecinul meu Totoro. Reviews link: https://www.imdb.com/title/tt0096283/reviews\n",
      "Movie: Prinde-mă! Dacă poți!. Reviews link: https://www.imdb.com/title/tt0264464/reviews\n",
      "Movie: O fată de milioane. Reviews link: https://www.imdb.com/title/tt0405159/reviews\n",
      "Movie: Copiii paradisului. Reviews link: https://www.imdb.com/title/tt0118849/reviews\n",
      "Movie: Vânătorul de recompense. Reviews link: https://www.imdb.com/title/tt0083658/reviews\n",
      "Movie: Goana după aur. Reviews link: https://www.imdb.com/title/tt0015864/reviews\n",
      "Movie: Înainte de răsărit. Reviews link: https://www.imdb.com/title/tt0112471/reviews\n",
      "Movie: Klaus. Reviews link: https://www.imdb.com/title/tt4729430/reviews\n",
      "Movie: 12 ani de sclavie. Reviews link: https://www.imdb.com/title/tt2024544/reviews\n",
      "Movie: Harry Potter și Talismanele Morții: Partea a II-a. Reviews link: https://www.imdb.com/title/tt1201607/reviews\n",
      "Movie: Pe chei. Reviews link: https://www.imdb.com/title/tt0047296/reviews\n",
      "Movie: Ben-Hur. Reviews link: https://www.imdb.com/title/tt0052618/reviews\n",
      "Movie: Fata dispărută. Reviews link: https://www.imdb.com/title/tt2267998/reviews\n",
      "Movie: Hotel Grand Budapest. Reviews link: https://www.imdb.com/title/tt2278388/reviews\n",
      "Movie: Fragii sălbatici. Reviews link: https://www.imdb.com/title/tt0050986/reviews\n",
      "Movie: Mecanicul Generalei. Reviews link: https://www.imdb.com/title/tt0017925/reviews\n",
      "Movie: Al treilea om. Reviews link: https://www.imdb.com/title/tt0041959/reviews\n",
      "Movie: În numele tatălui. Reviews link: https://www.imdb.com/title/tt0107207/reviews\n",
      "Movie: Vânătorul de cerbi. Reviews link: https://www.imdb.com/title/tt0077416/reviews\n",
      "Movie: Barry Lyndon. Reviews link: https://www.imdb.com/title/tt0072684/reviews\n",
      "Movie: Fără armă în linia întâi. Reviews link: https://www.imdb.com/title/tt2119532/reviews\n",
      "Movie: Salariul groazei. Reviews link: https://www.imdb.com/title/tt0046268/reviews\n",
      "Movie: Salinui chueok. Reviews link: https://www.imdb.com/title/tt0353969/reviews\n",
      "Movie: Sherlock junior. Reviews link: https://www.imdb.com/title/tt0015324/reviews\n",
      "Movie: Povești trăsnite. Reviews link: https://www.imdb.com/title/tt3011894/reviews\n",
      "Movie: Domnul Smith merge la Washington. Reviews link: https://www.imdb.com/title/tt0031679/reviews\n",
      "Movie: Mad Max: Drumul furiei. Reviews link: https://www.imdb.com/title/tt1392190/reviews\n",
      "Movie: A șaptea pecete. Reviews link: https://www.imdb.com/title/tt0050976/reviews\n",
      "Movie: Mary și Max. Reviews link: https://www.imdb.com/title/tt0978762/reviews\n",
      "Movie: Cum să îți dresezi dragonul. Reviews link: https://www.imdb.com/title/tt0892769/reviews\n",
      "Movie: Camera. Reviews link: https://www.imdb.com/title/tt3170832/reviews\n",
      "Movie: Compania monștrilor. Reviews link: https://www.imdb.com/title/tt0198781/reviews\n",
      "Movie: Fălci. Reviews link: https://www.imdb.com/title/tt0073195/reviews\n",
      "Movie: Cercul poeților dispăruți. Reviews link: https://www.imdb.com/title/tt0097165/reviews\n",
      "Movie: Marele Lebowski. Reviews link: https://www.imdb.com/title/tt0118715/reviews\n",
      "Movie: Poveste din Tokyo. Reviews link: https://www.imdb.com/title/tt0046438/reviews\n",
      "Movie: Patimile Ioanei d'Arc. Reviews link: https://www.imdb.com/title/tt0019254/reviews\n",
      "Movie: Hotel Rwanda. Reviews link: https://www.imdb.com/title/tt0395169/reviews\n",
      "Movie: Marea provocare: Le Mans '66. Reviews link: https://www.imdb.com/title/tt1950186/reviews\n",
      "Movie: Rocky. Reviews link: https://www.imdb.com/title/tt0075148/reviews\n",
      "Movie: Plutonul. Reviews link: https://www.imdb.com/title/tt0091763/reviews\n",
      "Movie: Ratatouille. Reviews link: https://www.imdb.com/title/tt0382932/reviews\n",
      "Movie: Spotlight. Reviews link: https://www.imdb.com/title/tt1895587/reviews\n",
      "Movie: Executorul/Terminatorul. Reviews link: https://www.imdb.com/title/tt0088247/reviews\n",
      "Movie: Logan. Reviews link: https://www.imdb.com/title/tt3315342/reviews\n",
      "Movie: Prietenie. Reviews link: https://www.imdb.com/title/tt0092005/reviews\n",
      "Movie: Rush: Rivalitate și adrenalină. Reviews link: https://www.imdb.com/title/tt1979320/reviews\n",
      "Movie: Rețeaua. Reviews link: https://www.imdb.com/title/tt0074958/reviews\n",
      "Movie: Înainte de apus. Reviews link: https://www.imdb.com/title/tt0381681/reviews\n",
      "Movie: În sălbăticie. Reviews link: https://www.imdb.com/title/tt0758758/reviews\n",
      "Movie: Vrăjitorul din Oz. Reviews link: https://www.imdb.com/title/tt0032138/reviews\n",
      "Movie: Pather Panchali. Reviews link: https://www.imdb.com/title/tt0048473/reviews\n",
      "Movie: Ziua cârtiței. Reviews link: https://www.imdb.com/title/tt0107048/reviews\n",
      "Movie: Cei mai frumoși ani ai vieții noastre. Reviews link: https://www.imdb.com/title/tt0036868/reviews\n",
      "Movie: Exorcistul. Reviews link: https://www.imdb.com/title/tt0070047/reviews\n",
      "Movie: A fi sau a nu fi. Reviews link: https://www.imdb.com/title/tt0035446/reviews\n",
      "Movie: Incredibilii. Reviews link: https://www.imdb.com/title/tt0317705/reviews\n",
      "Movie: Ura. Reviews link: https://www.imdb.com/title/tt0113247/reviews\n",
      "Movie: Pirații din Caraibe: Blestemul Perlei Negre. Reviews link: https://www.imdb.com/title/tt0325980/reviews\n",
      "Movie: Bătălia pentru Alger. Reviews link: https://www.imdb.com/title/tt0058946/reviews\n",
      "Movie: Jai Bhim. Reviews link: https://www.imdb.com/title/tt15097216/reviews\n",
      "Movie: Hachiko: Povestea unui câine. Reviews link: https://www.imdb.com/title/tt1028532/reviews\n",
      "Movie: Fructele mâniei. Reviews link: https://www.imdb.com/title/tt0032551/reviews\n",
      "Movie: Tatăl meu și fiul meu. Reviews link: https://www.imdb.com/title/tt0476735/reviews\n",
      "Movie: Iubiri și câini. Reviews link: https://www.imdb.com/title/tt0245712/reviews\n",
      "Movie: Rebecca. Reviews link: https://www.imdb.com/title/tt0032976/reviews\n",
      "Movie: Luke, mână rece. Reviews link: https://www.imdb.com/title/tt0061512/reviews\n",
      "Movie: Slujnica. Reviews link: https://www.imdb.com/title/tt4016934/reviews\n",
      "Movie: Cele 400 de lovituri. Reviews link: https://www.imdb.com/title/tt0053198/reviews\n",
      "Movie: Sunetul muzicii. Reviews link: https://www.imdb.com/title/tt0059742/reviews\n",
      "Movie: S-a întâmplat într-o noapte. Reviews link: https://www.imdb.com/title/tt0025316/reviews\n",
      "Movie: Persona. Reviews link: https://www.imdb.com/title/tt0060827/reviews\n",
      "Movie: Viața lui Brian. Reviews link: https://www.imdb.com/title/tt0079470/reviews\n",
      "Movie: Uriașul de fier. Reviews link: https://www.imdb.com/title/tt0129167/reviews\n",
      "Movie: Dersu Uzala. Reviews link: https://www.imdb.com/title/tt0071411/reviews\n",
      "Movie: The Help. Reviews link: https://www.imdb.com/title/tt1454029/reviews\n",
      "Movie: Aladdin. Reviews link: https://www.imdb.com/title/tt0103639/reviews\n",
      "Movie: Gandhi. Reviews link: https://www.imdb.com/title/tt0083987/reviews\n",
      "Movie: Cel care dansează cu lupii. Reviews link: https://www.imdb.com/title/tt0099348/reviews\n"
     ]
    }
   ],
   "source": [
    "import bs4\n",
    "import requests\n",
    "\n",
    "def parse_html(html1):\n",
    "    return bs4.BeautifulSoup(html1, \"html.parser\")\n",
    "\n",
    "\n",
    "def get_movies_page(chart):\n",
    "    return requests.get(chart)\n",
    "\n",
    "html = get_movies_page(\"https://www.imdb.com/chart/top/\").content\n",
    "soup = parse_html(html)\n",
    "\n",
    "titles = soup.findAll(\"td\", attrs=\"titleColumn\")\n",
    "\n",
    "movies = []\n",
    "\n",
    "for title in titles:\n",
    "\n",
    "    # gasim link-ul care ne duce la pagina filmului\n",
    "    a = title.find(\"a\")\n",
    "    url = a.attrs['href']\n",
    "\n",
    "    # link-ul contine id-ul filmului care ne trb pt link-ul de reviews\n",
    "    id = url.split(\"/\")[2]\n",
    "    reviews_url = f\"https://www.imdb.com/title/{id}/reviews\"\n",
    "\n",
    "    print(f\"Movie: {a.text}. Reviews link: {reviews_url}\")\n",
    "\n",
    "    movies.append((a.text, reviews_url))\n"
   ]
  },
  {
   "cell_type": "markdown",
   "metadata": {
    "id": "wK56g-0W5I1p"
   },
   "source": [
    "2. Pentru fiecare film colectati date despre recenziile sale (titlu, text, rating, data, utlizator, etc.)"
   ]
  },
  {
   "cell_type": "code",
   "execution_count": 3,
   "metadata": {
    "id": "jXT34ayI5_qi"
   },
   "outputs": [],
   "source": [
    "def parse_review_page(page, movie):\n",
    "    tags = page.findAll(\"div\", attrs={\"class\": \"imdb-user-review\"})\n",
    "    reviews = []\n",
    "    for tag in tags:\n",
    "        title = tag.find(\"a\", attrs={\"class\": \"title\"}).text\n",
    "        text = tag.find(\"div\", attrs={\"class\": \"text\"}).text\n",
    "\n",
    "        try:\n",
    "            rating = tag.find(\"span\", attrs={\"class\": \"rating-other-user-rating\"}).find(\"span\").text\n",
    "        except:\n",
    "            rating = 0\n",
    "\n",
    "        data = tag.find(\"span\", attrs={\"class\": \"review-date\"}).text\n",
    "        username = tag.find(\"span\", attrs={\"class\": \"display-name-link\"}).find(\"a\").text\n",
    "\n",
    "        reviews.append({\n",
    "            \"title\" : title,\n",
    "            \"movie\" : movie,\n",
    "            \"text\" : text,\n",
    "            \"rating\" : rating,\n",
    "            \"data\" : data,\n",
    "            \"username\" : username})\n",
    "\n",
    "    return reviews\n",
    "\n",
    "\n",
    "reviews = list()\n",
    "\n",
    "for movie in movies:\n",
    "    page = get_movies_page(movie[1]).content\n",
    "    html = parse_html(page)\n",
    "\n",
    "    reviews.extend(parse_review_page(html, movie[0]))\n",
    "\n"
   ]
  },
  {
   "cell_type": "markdown",
   "metadata": {
    "id": "RhcG_zFK6AFE"
   },
   "source": [
    "3. Creati un dataset de recenzii, pentru fiecare recenzie stocati:\n",
    " * filmul caruia ii apartine\n",
    " * titlul recenziei\n",
    " * textul recenziei\n",
    " * ratingul\n",
    " * data\n",
    " * utilizator\n",
    "\n",
    " Salvati datasetul intr-un fisier JSON."
   ]
  },
  {
   "cell_type": "code",
   "execution_count": 4,
   "metadata": {
    "id": "4BYOWe4C6wz3"
   },
   "outputs": [],
   "source": [
    "import json\n",
    "\n",
    "with open(\"reviews.json\", \"w\") as file:\n",
    "    file.write(json.dumps(reviews))"
   ]
  },
  {
   "cell_type": "markdown",
   "metadata": {
    "id": "NtSpO-Ss6yF_"
   },
   "source": [
    "4. Pe o pagina cu recenzii putem gasi un numar mic de astfel de date. Butonul de \"Load more\" de la final, cand este apasat, produce un request care returneaza HTML-ul urmatoarelor recenzii. Folosind aceasta logica colectati automat pentru fiecare film un numar mai mare de recenzii."
   ]
  },
  {
   "cell_type": "code",
   "execution_count": 5,
   "metadata": {
    "id": "aO3K690x7m4I"
   },
   "outputs": [],
   "source": [
    "reviews = list()\n",
    "\n",
    "for movie in movies:\n",
    "    page = get_movies_page(movie[1]).content\n",
    "    html = parse_html(page)\n",
    "\n",
    "    pages = 3\n",
    "\n",
    "    while html is not None and pages > 0:\n",
    "        reviews.extend(parse_review_page(html, movie[0]))\n",
    "\n",
    "        try:\n",
    "            button = html.find(\"div\", attrs={\"class\": \"load-more-data\"}).attrs['data-key']\n",
    "        except:\n",
    "            pass\n",
    "\n",
    "        page = get_movies_page(f\"https://www.imdb.com/title/{movie[0]}/reviews/_ajax?ref_=undefined&paginationKey={button}\").content\n",
    "        html = parse_html(page)\n",
    "\n",
    "        pages -= 1\n",
    "\n",
    "with open(\"reviews2.json\", \"w\") as file:\n",
    "    file.write(json.dumps(reviews))\n",
    "\n"
   ]
  }
 ],
 "metadata": {
  "colab": {
   "provenance": []
  },
  "kernelspec": {
   "display_name": "Python 3",
   "name": "python3"
  },
  "language_info": {
   "name": "python"
  },
  "gpuClass": "standard"
 },
 "nbformat": 4,
 "nbformat_minor": 0
}
